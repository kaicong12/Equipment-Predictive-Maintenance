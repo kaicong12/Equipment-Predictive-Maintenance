{
 "cells": [
  {
   "cell_type": "code",
   "execution_count": 1,
   "id": "e516e46f",
   "metadata": {},
   "outputs": [],
   "source": [
    "import tensorflow as tf\n",
    "from tensorflow.keras.models import Sequential\n",
    "from tensorflow.keras.layers import LSTM, Dense, Dropout, BatchNormalization, \\\n",
    "                                    Input, Embedding, Masking, Bidirectional, Conv1D, Flatten, \\\n",
    "                                    MaxPooling1D\n",
    "from tensorflow.keras.callbacks import ModelCheckpoint, EarlyStopping, ReduceLROnPlateau\n",
    "\n",
    "from sklearn.utils import class_weight, shuffle\n",
    "from sklearn.preprocessing import StandardScaler\n",
    "from sklearn.model_selection import train_test_split\n",
    "\n",
    "import warnings\n",
    "\n",
    "warnings.filterwarnings(\"ignore\")\n",
    "BATCH_SIZE = 32\n",
    "EPOCHS = 300\n",
    "\n",
    "from datetime import datetime, timedelta, date\n",
    "import pandas as pd\n",
    "import numpy as np\n",
    "import cx_Oracle\n",
    "import pandas as pd\n",
    "from sqlalchemy import create_engine\n",
    "\n",
    "class seven_days_LSTM:\n",
    "    def __init__(self, eq_id, alarm_table, hour_horizontal, hour_vertical):\n",
    "        self.eq_id = eq_id\n",
    "        self.alarm_table = alarm_table\n",
    "        self.status_table = self.query_status()\n",
    "        self.hour_horizontal = hour_horizontal\n",
    "        self.hour_vertical = hour_vertical\n",
    "        \n",
    "        status_start = self.status_table.iloc[0][\"TIMESTAMP_START\"].date() + timedelta(days=1)\n",
    "        status_end = self.status_table.iloc[len(self.status_table)-1][\"TIMESTAMP_START\"].date()\n",
    "        alarm_start = self.alarm_table.iloc[0][\"DT_SET\"].date() + timedelta(days=1) # add one day to make it start from 00:00:00\n",
    "        alarm_end = self.alarm_table.iloc[len(self.alarm_table)-1][\"DT_SET\"].date()\n",
    "        self.start_date = max(status_start, alarm_start)\n",
    "        self.end_date = min(status_end, alarm_end)\n",
    "        \n",
    "        self.timeframe_table = self.generate_time(self.start_date.strftime(\"%d/%m/%Y\"), self.end_date.strftime(\"%d/%m/%Y\"), \\\n",
    "                                                  self.hour_horizontal, self.hour_vertical)\n",
    "        \n",
    "        #self.major_down_arr = self.new_major_down(self.timeframe_table, self.status_table, 6, 3600)\n",
    "\n",
    "        self.X_seq = self.alarm_breakdown_pattern(self.timeframe_table, self.alarm_table, self.status_table, self.hour_horizontal)\n",
    "        \n",
    "    def generate_time(self, start_date:str, end_date:str, hours_row:int, hour:int):\n",
    "        start = datetime.strptime(start_date, '%d/%m/%Y')\n",
    "        end = datetime.strptime(end_date, '%d/%m/%Y')\n",
    "\n",
    "        dates = []\n",
    "        while start+timedelta(hours=hours_row)<=end:\n",
    "            row = [start, start+timedelta(hours=hours_row)]\n",
    "            dates.append(row)\n",
    "            start += timedelta(hours=hour)\n",
    "\n",
    "        return pd.DataFrame(dates, columns=['TIMESTAMP_START', 'TIMESTAMP_END'])\n",
    "\n",
    "    \n",
    "    def alarm_breakdown_pattern(self, datetime_table, alarm_table, status_table, hour):\n",
    "        ORIG_ALARMS = []\n",
    "        \n",
    "        #validate alarm table date\n",
    "        if alarm_table.iloc[0]['DT_SET'] < status_table.iloc[0]['TIMESTAMP_START'] or \\\n",
    "            alarm_table.iloc[len(alarm_table)-1]['DT_SET'] > status_table.iloc[len(status_table)-1]['TIMESTAMP_START']:\n",
    "            raise ValueError(\"Alarm table date must be within the range of status table date\")\n",
    "\n",
    "        for idx, row in datetime_table.iterrows():\n",
    "            start = row['TIMESTAMP_START']\n",
    "            end = row['TIMESTAMP_END']\n",
    "\n",
    "            table = alarm_table[(alarm_table['DT_SET']>=start) & (alarm_table['DT_SET']<=end)]\n",
    "            new_table = table[[\"Alarm ID\"]]\n",
    "            \n",
    "            tmp2 = []\n",
    "            for n in new_table.values: # this part is needed to achieve the data structure in X_seq, else it would fail\n",
    "                tmp2.append(n[0])\n",
    "            ORIG_ALARMS.append(tmp2)\n",
    "\n",
    "        return np.array(ORIG_ALARMS)\n",
    "    \n",
    "    def query_status(self):\n",
    "        try:\n",
    "            oracle_string = \"oracle+cx_oracle://{username}:{password}@{hostname}:{port}/{database}\"\n",
    "            engine = create_engine(\n",
    "                oracle_string.format(\n",
    "                    username = 'TFM4CEBERUS',\n",
    "                    password = 'TFM4CEBERUS',\n",
    "                    hostname = 'ome-db.bth.infineon.com',\n",
    "                    port = '1538',\n",
    "                    database = 'ome'\n",
    "                    )\n",
    "                )\n",
    "        except Exception as e:\n",
    "            print(str(e))\n",
    "\n",
    "        query = f\"\"\"select EQ_ID, TIMESTAMP_START, TIMESTAMP_END, DURATION, LEVEL3_NAME, LEVEL3 \n",
    "                from (SELECT\n",
    "                  eq.eq_id, eq.name, eq.eq_type_ident\n",
    "                , data.timestamp_start,data.timestamp_end\n",
    "                , ROUND((data.timestamp_end - data.timestamp_start)*24*60*60,0) AS Duration\n",
    "                , data.tr25_3_status,data.tr25_4_status,data.tr25_5_status,data.eq_status\n",
    "                , level5s.state_name\n",
    "                , level5.state_name Level5_Name, level5.state_sign Level5\n",
    "                , level4.state_name Level4_Name, level4.state_sign Level4\n",
    "                , level3.state_name Level3_Name, level3.state_sign Level3\n",
    "                ,mh.device\n",
    "                ,mh.package,\n",
    "                mh.lotid as lot,\n",
    "                mh.product,\n",
    "                mh.operation\n",
    "\n",
    "                FROM OMEDATA.EQUIPMENT_STATE_HISTORY data\n",
    "                , OMEADMIN.EQUIPMENT_INSTANCES eq\n",
    "                , V_EQ_STATES level5s\n",
    "                , OMEADMIN.DEF_STANDARD_STATEMODEL level5\n",
    "                , OMEADMIN.DEF_STANDARD_STATEMODEL level4\n",
    "                , OMEADMIN.DEF_STANDARD_STATEMODEL level3\n",
    "                , OMEDATA.METAKEY_HISTORY mh\n",
    "\n",
    "                WHERE data.eq_ident  = eq.eq_ident\n",
    "                AND  data.eq_status = level5s.state_ident(+)\n",
    "                AND level5.state_ident = data.tr25_5_status\n",
    "                AND level4.state_ident = data.tr25_4_status\n",
    "                AND level3.state_ident = data.tr25_3_status\n",
    "                AND  data.metakey_ident =mh.ident(+)\n",
    "                and data.timestamp_start > sysdate - 1500)\n",
    "                where eq_id = '{self.eq_id}'\n",
    "                ORDER BY TIMESTAMP_START\"\"\"\n",
    "\n",
    "        status = pd.read_sql(query, engine)\n",
    "        status.columns = map(lambda x: str(x).upper(), status.columns) \n",
    "\n",
    "        return status\n",
    "\n",
    "#     def major_down(self, input_table, status_table, hour, threshold):\n",
    "#         hour = pd.Timedelta(hours=hour)\n",
    "#         major_down = []\n",
    "        \n",
    "#         # timeframe table must be a subset of the status table to correctly determine major down\n",
    "#         if status_table.iloc[0][\"TIMESTAMP_START\"] > input_table.iloc[0][\"TIMESTAMP_START\"]:\n",
    "#             raise Exception(\"Timeframe table must be a subset of the status table\")\n",
    "#         if status_table.iloc[len(status_table)-1][\"TIMESTAMP_START\"] <= input_table.iloc[len(input_table)-1][\"TIMESTAMP_START\"]:\n",
    "#             raise Exception(\"Timeframe table must be a subset of the status table\")   \n",
    "            \n",
    "#         for idx, row in input_table.iterrows():\n",
    "#             start = row['TIMESTAMP_END']\n",
    "#             end = start+hour\n",
    "#             frame = status_table[(status_table['TIMESTAMP_START']>start) & (status_table['TIMESTAMP_START']<end)]\n",
    "#             UD = frame.loc[frame['LEVEL3']=='UDT']\n",
    "\n",
    "#             if len(UD) == 0: #no record within this 6 hours:\n",
    "#                 major_down.append(0)\n",
    "#             else:\n",
    "#                 time_diff = (UD['TIMESTAMP_END']-UD['TIMESTAMP_START']).dt.seconds\n",
    "#                 if any(time_diff>threshold):\n",
    "#                     major_down.append(1)\n",
    "#                 else:\n",
    "#                     major_down.append(0)\n",
    "#         return major_down\n",
    "\n",
    "def new_major_down(timeframe_table, status_table):\n",
    "    \"\"\"\n",
    "    Clean Status will have all 'Exception' LEVEL3 REMOVED to be able to use the str.contains pandas filter\n",
    "    Does not affect Major Down count since only EXC is removed\n",
    "    \"\"\"\n",
    "    major_down = []\n",
    "    for idx, row in timeframe_table.iterrows():\n",
    "        start = row['TIMESTAMP_START']\n",
    "        end = start + timedelta(hours=6)\n",
    "\n",
    "        down_query_filter = ((status_table['TIMESTAMP_START']>=start) &\n",
    "                    (status_table['TIMESTAMP_START']<=end) &\n",
    "                    (~(status_table['STATE_NAME'].str.contains('Waiting'))) &\n",
    "                    (status_table['LEVEL3']=='UDT'))\n",
    "\n",
    "        UD = status_table[down_query_filter]\n",
    "\n",
    "        if len(UD) == 0: #no record within this 6 hours:\n",
    "            major_down.append(0)\n",
    "        else:\n",
    "            time_diff = (UD['TIMESTAMP_END']-UD['TIMESTAMP_START']).dt.seconds\n",
    "            if any(time_diff>=3600): #threshold = 3600s\n",
    "                major_down.append(1)\n",
    "            else:\n",
    "                major_down.append(0)\n",
    "    return np.array(major_down)"
   ]
  },
  {
   "cell_type": "code",
   "execution_count": 2,
   "id": "baf9c0e9",
   "metadata": {},
   "outputs": [],
   "source": [
    "hour = 24\n",
    "wba127_fullalarm = pd.read_excel(\"Data/WBA127_FullAlarm.xlsx\", usecols = \"B,C,D,F,M\")\n",
    "wba127 = seven_days_LSTM(\"WBA127\", wba127_fullalarm, hour, 3)"
   ]
  },
  {
   "cell_type": "code",
   "execution_count": 5,
   "id": "10a01d50",
   "metadata": {},
   "outputs": [],
   "source": [
    "hour = 24\n",
    "wba124_fullalarm = pd.read_excel(\"Data/WBA127_FullAlarm.xlsx\", usecols = \"B,C,D,F,M\")\n",
    "wba124 = seven_days_LSTM(\"WBA127\", wba127_fullalarm, hour, 3)"
   ]
  },
  {
   "cell_type": "code",
   "execution_count": 6,
   "id": "2eab6b6f",
   "metadata": {},
   "outputs": [
    {
     "data": {
      "text/html": [
       "<div>\n",
       "<style scoped>\n",
       "    .dataframe tbody tr th:only-of-type {\n",
       "        vertical-align: middle;\n",
       "    }\n",
       "\n",
       "    .dataframe tbody tr th {\n",
       "        vertical-align: top;\n",
       "    }\n",
       "\n",
       "    .dataframe thead th {\n",
       "        text-align: right;\n",
       "    }\n",
       "</style>\n",
       "<table border=\"1\" class=\"dataframe\">\n",
       "  <thead>\n",
       "    <tr style=\"text-align: right;\">\n",
       "      <th></th>\n",
       "      <th>TIMESTAMP_START</th>\n",
       "      <th>TIMESTAMP_END</th>\n",
       "    </tr>\n",
       "  </thead>\n",
       "  <tbody>\n",
       "    <tr>\n",
       "      <th>0</th>\n",
       "      <td>2018-09-18 00:00:00</td>\n",
       "      <td>2018-09-19 00:00:00</td>\n",
       "    </tr>\n",
       "    <tr>\n",
       "      <th>1</th>\n",
       "      <td>2018-09-18 03:00:00</td>\n",
       "      <td>2018-09-19 03:00:00</td>\n",
       "    </tr>\n",
       "    <tr>\n",
       "      <th>2</th>\n",
       "      <td>2018-09-18 06:00:00</td>\n",
       "      <td>2018-09-19 06:00:00</td>\n",
       "    </tr>\n",
       "    <tr>\n",
       "      <th>3</th>\n",
       "      <td>2018-09-18 09:00:00</td>\n",
       "      <td>2018-09-19 09:00:00</td>\n",
       "    </tr>\n",
       "    <tr>\n",
       "      <th>4</th>\n",
       "      <td>2018-09-18 12:00:00</td>\n",
       "      <td>2018-09-19 12:00:00</td>\n",
       "    </tr>\n",
       "    <tr>\n",
       "      <th>...</th>\n",
       "      <td>...</td>\n",
       "      <td>...</td>\n",
       "    </tr>\n",
       "    <tr>\n",
       "      <th>8604</th>\n",
       "      <td>2021-08-28 12:00:00</td>\n",
       "      <td>2021-08-29 12:00:00</td>\n",
       "    </tr>\n",
       "    <tr>\n",
       "      <th>8605</th>\n",
       "      <td>2021-08-28 15:00:00</td>\n",
       "      <td>2021-08-29 15:00:00</td>\n",
       "    </tr>\n",
       "    <tr>\n",
       "      <th>8606</th>\n",
       "      <td>2021-08-28 18:00:00</td>\n",
       "      <td>2021-08-29 18:00:00</td>\n",
       "    </tr>\n",
       "    <tr>\n",
       "      <th>8607</th>\n",
       "      <td>2021-08-28 21:00:00</td>\n",
       "      <td>2021-08-29 21:00:00</td>\n",
       "    </tr>\n",
       "    <tr>\n",
       "      <th>8608</th>\n",
       "      <td>2021-08-29 00:00:00</td>\n",
       "      <td>2021-08-30 00:00:00</td>\n",
       "    </tr>\n",
       "  </tbody>\n",
       "</table>\n",
       "<p>8609 rows × 2 columns</p>\n",
       "</div>"
      ],
      "text/plain": [
       "         TIMESTAMP_START       TIMESTAMP_END\n",
       "0    2018-09-18 00:00:00 2018-09-19 00:00:00\n",
       "1    2018-09-18 03:00:00 2018-09-19 03:00:00\n",
       "2    2018-09-18 06:00:00 2018-09-19 06:00:00\n",
       "3    2018-09-18 09:00:00 2018-09-19 09:00:00\n",
       "4    2018-09-18 12:00:00 2018-09-19 12:00:00\n",
       "...                  ...                 ...\n",
       "8604 2021-08-28 12:00:00 2021-08-29 12:00:00\n",
       "8605 2021-08-28 15:00:00 2021-08-29 15:00:00\n",
       "8606 2021-08-28 18:00:00 2021-08-29 18:00:00\n",
       "8607 2021-08-28 21:00:00 2021-08-29 21:00:00\n",
       "8608 2021-08-29 00:00:00 2021-08-30 00:00:00\n",
       "\n",
       "[8609 rows x 2 columns]"
      ]
     },
     "execution_count": 6,
     "metadata": {},
     "output_type": "execute_result"
    }
   ],
   "source": [
    "wba124.timeframe_table"
   ]
  },
  {
   "cell_type": "markdown",
   "id": "e6aad2f7",
   "metadata": {},
   "source": [
    "# Training with Embedding layer\n",
    "### LabelEncode the alarm id to determine n_vocab in Embedding layer\n",
    "### Since max_vocab measures the maximum number of unique vocab in our input"
   ]
  },
  {
   "cell_type": "markdown",
   "id": "de6e2ce0",
   "metadata": {},
   "source": [
    "## MOST UPDATED CODE - USE THE CODES BLOCKS BELOW!!\n"
   ]
  },
  {
   "cell_type": "code",
   "execution_count": null,
   "id": "e91a0d0f",
   "metadata": {},
   "outputs": [],
   "source": [
    "# clean up 'None' statename with Exception LEVEL3, in order for str.contains to work\n",
    "wba127_clean_status = wba127_clean_status[wba127_clean_status['STATE_NAME'].notnull()]\n",
    "\n",
    "# find out which waiting to exclude\n",
    "query_filter = (wba127_clean_status['STATE_NAME'].str.contains('Waiting')) & (wba127_clean_status['LEVEL3']=='UDT')\n",
    "udt = wba127_clean_status[query_filter]\n",
    "udt['TYPE'] = np.where(udt['DURATION']>=3600, 'MAJOR DOWN', 'MINOR')\n",
    "udt.groupby(['STATE_NAME', 'TYPE']).agg({'STATE_NAME': 'count'})"
   ]
  },
  {
   "cell_type": "code",
   "execution_count": null,
   "id": "5da63673",
   "metadata": {},
   "outputs": [],
   "source": [
    "timeframe_table = generate_time('08/12/2018', '25/08/2021', 3)"
   ]
  },
  {
   "cell_type": "markdown",
   "id": "764f6fca",
   "metadata": {},
   "source": [
    "#### Data Exploration"
   ]
  },
  {
   "cell_type": "code",
   "execution_count": 4,
   "id": "a118d48f",
   "metadata": {},
   "outputs": [
    {
     "data": {
      "text/plain": [
       "<__main__.seven_days_LSTM at 0x7feb380dcbd0>"
      ]
     },
     "execution_count": 4,
     "metadata": {},
     "output_type": "execute_result"
    }
   ],
   "source": [
    "wba124"
   ]
  },
  {
   "cell_type": "code",
   "execution_count": 5,
   "id": "fc33a2ff",
   "metadata": {},
   "outputs": [],
   "source": [
    "def label_encode(X_seq): # do this the manual way as we are not certain if sklearn LabelEncoder can handle 3D array\n",
    "    all_unique_alarms = [set(ele) for ele in X_seq]\n",
    "    unique_alarms = set()\n",
    "    for ele in all_unique_alarms:\n",
    "        unique_alarms |= ele\n",
    "    \n",
    "    enc_label = 1  #start encoding from 1 as we have to pad the sequence with 0\n",
    "    mapping_dict = {}\n",
    "    for ele in unique_alarms:\n",
    "        mapping_dict[ele] = enc_label\n",
    "        enc_label += 1\n",
    "\n",
    "        enc_array = []\n",
    "        \n",
    "    #X_seq is a 3D array\n",
    "    for timestamp in X_seq:\n",
    "        tmp_arr = []\n",
    "        for ele in timestamp:\n",
    "            tmp_arr.append(mapping_dict[ele])\n",
    "        enc_array.append(np.array(tmp_arr))\n",
    "\n",
    "    return np.array(enc_array), len(unique_alarms)+1, mapping_dict"
   ]
  },
  {
   "cell_type": "code",
   "execution_count": 6,
   "id": "44f3a9f5",
   "metadata": {},
   "outputs": [
    {
     "data": {
      "text/plain": [
       "array([list([28, 11, 46, 46, 11, 4, 28, 28, 28, 28, 46, 73, 46, 73, 73, 46, 46, 73, 46, 73, 73, 73, 89, 73, 80, 80, 45, 20, 73, 46, 11, 73, 5, 5, 5, 28, 73]),\n",
       "       list([11, 4, 28, 28, 28, 28, 46, 73, 46, 73, 73, 46, 46, 73, 46, 73, 73, 73, 89, 73, 80, 80, 45, 20, 73, 46, 11, 73, 5, 5, 5, 28, 73, 11, 4, 5, 5, 5, 5, 5, 5, 33, 27]),\n",
       "       list([46, 73, 46, 73, 73, 46, 46, 73, 46, 73, 73, 73, 89, 73, 80, 80, 45, 20, 73, 46, 11, 73, 5, 5, 5, 28, 73, 11, 4, 5, 5, 5, 5, 5, 5, 33, 27, 11, 28, 150, 150, 150]),\n",
       "       ...,\n",
       "       list([27, 27, 27, 27, 27, 27, 27, 23, 23, 47, 47, 23, 47, 47, 28, 28, 47, 47, 47, 47, 47, 46, 46, 51, 47, 47, 47, 47, 47, 47, 47, 47, 47, 33, 33, 47, 46, 47, 28, 47, 46, 46, 46, 46, 47, 47, 46, 46, 46, 46, 11, 33, 33, 33, 33, 46, 46, 11, 33, 33, 33, 33, 10]),\n",
       "       list([47, 47, 23, 47, 47, 28, 28, 47, 47, 47, 47, 47, 46, 46, 51, 47, 47, 47, 47, 47, 47, 47, 47, 47, 33, 33, 47, 46, 47, 28, 47, 46, 46, 46, 46, 47, 47, 46, 46, 46, 46, 11, 33, 33, 33, 33, 46, 46, 11, 33, 33, 33, 33, 10, 33, 46, 46, 46, 47, 46, 46, 11, 27, 27, 27, 27, 27, 27, 27, 27, 27, 27, 27, 46]),\n",
       "       list([28, 47, 46, 46, 46, 46, 47, 47, 46, 46, 46, 46, 11, 33, 33, 33, 33, 46, 46, 11, 33, 33, 33, 33, 10, 33, 46, 46, 46, 47, 46, 46, 11, 27, 27, 27, 27, 27, 27, 27, 27, 27, 27, 27, 46, 11, 33, 33, 33, 33, 33, 46])],\n",
       "      dtype=object)"
      ]
     },
     "execution_count": 6,
     "metadata": {},
     "output_type": "execute_result"
    }
   ],
   "source": [
    "wba123.X_seq"
   ]
  },
  {
   "cell_type": "code",
   "execution_count": 7,
   "id": "abe426d9",
   "metadata": {},
   "outputs": [],
   "source": [
    "tmp1 = np.concatenate((wba123.X_seq, wba124.X_seq, wba126.X_seq, wba127.X_seq, wba128.X_seq))\n",
    "encoded_X_seq, n_alarms, mapping_dict = label_encode(tmp1)\n",
    "target = np.concatenate((wba123.major_down_arr, wba124.major_down_arr, wba126.major_down_arr, wba127.major_down_arr, wba128.major_down_arr))"
   ]
  },
  {
   "cell_type": "code",
   "execution_count": 8,
   "id": "d73336c5",
   "metadata": {},
   "outputs": [
    {
     "data": {
      "text/plain": [
       "array([0, 0, 0, ..., 0, 0, 0])"
      ]
     },
     "execution_count": 8,
     "metadata": {},
     "output_type": "execute_result"
    }
   ],
   "source": [
    "target"
   ]
  },
  {
   "cell_type": "code",
   "execution_count": 9,
   "id": "14114dfb",
   "metadata": {},
   "outputs": [
    {
     "data": {
      "text/plain": [
       "array([array([25, 11, 34, 34, 11,  4, 25, 25, 25, 25, 34, 42, 34, 42, 42, 34, 34,\n",
       "       42, 34, 42, 42, 42, 46, 42, 44, 44, 33, 17, 42, 34, 11, 42,  5,  5,\n",
       "        5, 25, 42]),\n",
       "       array([11,  4, 25, 25, 25, 25, 34, 42, 34, 42, 42, 34, 34, 42, 34, 42, 42,\n",
       "       42, 46, 42, 44, 44, 33, 17, 42, 34, 11, 42,  5,  5,  5, 25, 42, 11,\n",
       "        4,  5,  5,  5,  5,  5,  5, 29, 24]),\n",
       "       array([34, 42, 34, 42, 42, 34, 34, 42, 34, 42, 42, 42, 46, 42, 44, 44, 33,\n",
       "       17, 42, 34, 11, 42,  5,  5,  5, 25, 42, 11,  4,  5,  5,  5,  5,  5,\n",
       "        5, 29, 24, 11, 25, 19, 19, 19]),\n",
       "       ...,\n",
       "       array([34, 25, 34, 34, 32, 11, 31, 31, 31, 34, 34, 34, 25, 34, 32, 25, 34,\n",
       "       34, 34, 32, 32, 34, 34, 11, 34, 21, 34, 34, 34, 25, 34, 34, 34, 19,\n",
       "       26, 19, 26, 19, 26, 29, 11,  8,  8,  8,  8,  8,  8, 34, 25, 34, 32,\n",
       "       32, 32, 32, 20, 20, 20, 20, 20, 20, 20, 20, 20, 20, 20, 20, 20, 20,\n",
       "       20, 20, 20, 20, 20, 20, 20, 20, 20, 20, 20, 20, 20, 20, 20, 20, 20,\n",
       "       20, 11]),\n",
       "       array([11, 31, 31, 31, 34, 34, 34, 25, 34, 32, 25, 34, 34, 34, 32, 32, 34,\n",
       "       34, 11, 34, 21, 34, 34, 34, 25, 34, 34, 34, 19, 26, 19, 26, 19, 26,\n",
       "       29, 11,  8,  8,  8,  8,  8,  8, 34, 25, 34, 32, 32, 32, 32, 20, 20,\n",
       "       20, 20, 20, 20, 20, 20, 20, 20, 20, 20, 20, 20, 20, 20, 20, 20, 20,\n",
       "       20, 20, 20, 20, 20, 20, 20, 20, 20, 20, 20, 20, 20, 11]),\n",
       "       array([34, 34, 25, 34, 32, 25, 34, 34, 34, 32, 32, 34, 34, 11, 34, 21, 34,\n",
       "       34, 34, 25, 34, 34, 34, 19, 26, 19, 26, 19, 26, 29, 11,  8,  8,  8,\n",
       "        8,  8,  8, 34, 25, 34, 32, 32, 32, 32, 20, 20, 20, 20, 20, 20, 20,\n",
       "       20, 20, 20, 20, 20, 20, 20, 20, 20, 20, 20, 20, 20, 20, 20, 20, 20,\n",
       "       20, 20, 20, 20, 20, 20, 20, 20, 11])], dtype=object)"
      ]
     },
     "execution_count": 9,
     "metadata": {},
     "output_type": "execute_result"
    }
   ],
   "source": [
    "encoded_X_seq"
   ]
  },
  {
   "cell_type": "code",
   "execution_count": 27,
   "id": "f3c89753",
   "metadata": {},
   "outputs": [
    {
     "data": {
      "text/plain": [
       "46"
      ]
     },
     "execution_count": 27,
     "metadata": {},
     "output_type": "execute_result"
    }
   ],
   "source": [
    "n_alarms"
   ]
  },
  {
   "cell_type": "code",
   "execution_count": 28,
   "id": "bd68d6c1",
   "metadata": {},
   "outputs": [
    {
     "data": {
      "text/plain": [
       "17218"
      ]
     },
     "execution_count": 28,
     "metadata": {},
     "output_type": "execute_result"
    }
   ],
   "source": [
    "encoded_X_seq.shape[0] #Total number of data (alarm sequence from multiple equipments)"
   ]
  },
  {
   "cell_type": "code",
   "execution_count": 29,
   "id": "759f1ca7",
   "metadata": {},
   "outputs": [],
   "source": [
    "empty_alarms_index = []\n",
    "for i in range(encoded_X_seq.shape[0]):\n",
    "    if encoded_X_seq[i].shape[0]==0:\n",
    "        empty_alarms_index.append(i)"
   ]
  },
  {
   "cell_type": "code",
   "execution_count": 30,
   "id": "2a64c3b3",
   "metadata": {},
   "outputs": [
    {
     "data": {
      "text/plain": [
       "2080"
      ]
     },
     "execution_count": 30,
     "metadata": {},
     "output_type": "execute_result"
    }
   ],
   "source": [
    "len(empty_alarms_index)"
   ]
  },
  {
   "cell_type": "code",
   "execution_count": 31,
   "id": "5c84a29b",
   "metadata": {},
   "outputs": [
    {
     "data": {
      "text/plain": [
       "Counter({0: 1997, 1: 83})"
      ]
     },
     "execution_count": 31,
     "metadata": {},
     "output_type": "execute_result"
    }
   ],
   "source": [
    "y_values_for_empty_alarms = [target[i] for i in empty_alarms_index]\n",
    "from collections import Counter\n",
    "Counter(y_values_for_empty_alarms)\n",
    "#There are only 604 records of EMPTY alarms which cause breakdown (target = 1) out of 43000 -> very little, only 1%. \n",
    "#So these empty alarms records will be removed. "
   ]
  },
  {
   "cell_type": "code",
   "execution_count": 33,
   "id": "062f6f5d",
   "metadata": {},
   "outputs": [
    {
     "data": {
      "text/plain": [
       "True"
      ]
     },
     "execution_count": 33,
     "metadata": {},
     "output_type": "execute_result"
    }
   ],
   "source": [
    "#Removing empty alarms: \n",
    "encoded_X_seq_no_empty = np.delete(encoded_X_seq,empty_alarms_index)\n",
    "target_no_empty_alarms = np.delete(target,empty_alarms_index)\n",
    "encoded_X_seq_no_empty.shape[0]==target_no_empty_alarms.shape[0]"
   ]
  },
  {
   "cell_type": "markdown",
   "id": "a2254b88",
   "metadata": {},
   "source": [
    "#### SAMPLE WEIGHTING - GENERATE THE WEIGHT FOR EACH ALARM "
   ]
  },
  {
   "cell_type": "code",
   "execution_count": 34,
   "id": "ba33ff8a",
   "metadata": {},
   "outputs": [
    {
     "data": {
      "text/plain": [
       "{32: 2.6749897435897436,\n",
       " 10: 3.26014375,\n",
       " 11: 9.484054545454546,\n",
       " 30: 11.591622222222222,\n",
       " 41: 10.43246,\n",
       " 40: 3.26014375,\n",
       " 9: 3.26014375,\n",
       " 24: 2.608115,\n",
       " 33: 10.43246,\n",
       " 39: 3.26014375,\n",
       " 31: 10.43246,\n",
       " 20: 10.43246,\n",
       " 36: 3.26014375,\n",
       " 27: 4.3468583333333335,\n",
       " 19: 3.26014375,\n",
       " 21: 3.26014375,\n",
       " 18: 10.43246,\n",
       " 42: 3.26014375,\n",
       " 4: 3.26014375,\n",
       " 23: 2.608115,\n",
       " 6: 3.26014375,\n",
       " 5: 3.26014375,\n",
       " 29: 10.43246,\n",
       " 12: 3.26014375,\n",
       " 3: 3.26014375,\n",
       " 2: 10.43246,\n",
       " 14: 3.26014375,\n",
       " 16: 3.477486666666667,\n",
       " 15: 3.26014375,\n",
       " 34: 3.26014375,\n",
       " 1: 3.26014375,\n",
       " 13: 3.26014375,\n",
       " 22: 2.54450243902439,\n",
       " 17: 3.26014375,\n",
       " 35: 3.26014375,\n",
       " 7: 3.26014375,\n",
       " 43: 3.26014375,\n",
       " 25: 11.591622222222222,\n",
       " 37: 3.26014375,\n",
       " 45: 3.477486666666667,\n",
       " 38: 10.43246,\n",
       " 26: 10.43246,\n",
       " 8: 3.26014375,\n",
       " 44: 3.477486666666667,\n",
       " 28: 3.161351515151515,\n",
       " 0: 0}"
      ]
     },
     "execution_count": 34,
     "metadata": {},
     "output_type": "execute_result"
    }
   ],
   "source": [
    "#Determining Sampling weights\n",
    "all_alarms = np.concatenate(encoded_X_seq_no_empty,axis = 0) #combining all ALARMS appear in X INTO 1 LIST\n",
    "#Counter(all_alarms).keys()\n",
    "\n",
    "alarm_weight = dict()\n",
    "for key in Counter(all_alarms).keys():\n",
    "    alarm_weight[key] = (all_alarms.shape[0]/all_alarms[key])/10000\n",
    "\n",
    "#100 alarms, alarm ID 44 appear 3 times. the 100/3 = 33\n",
    "\n",
    "alarm_weight[0] = 0 #For zeros value in X (to ignore the padding)\n",
    "alarm_weight"
   ]
  },
  {
   "cell_type": "markdown",
   "id": "6b74e54e",
   "metadata": {},
   "source": [
    "#### TF IDF TRIAL"
   ]
  },
  {
   "cell_type": "code",
   "execution_count": 35,
   "id": "57ea8050",
   "metadata": {},
   "outputs": [],
   "source": [
    "#String alarm versions \n",
    "str_enc_X_alarm_no_empty = [encoded_X_seq_no_empty[i].astype(str) for i in range(encoded_X_seq_no_empty.shape[0]) ]"
   ]
  },
  {
   "cell_type": "code",
   "execution_count": 36,
   "id": "b70c38f4",
   "metadata": {},
   "outputs": [],
   "source": [
    "#tf=idf trial\n",
    "from sklearn.feature_extraction.text import TfidfVectorizer\n",
    "vectorizer = TfidfVectorizer(lowercase=False)\n",
    "dummyvec = vectorizer.fit_transform(str_enc_X_alarm_no_empty[1])"
   ]
  },
  {
   "cell_type": "code",
   "execution_count": 37,
   "id": "cbbea62e",
   "metadata": {},
   "outputs": [
    {
     "data": {
      "text/plain": [
       "array(['32', '10', '32', '10', '32', '41', '40', '40', '9', '10', '24',\n",
       "       '33', '10', '9', '10', '39', '10', '32', '32', '32', '32', '10',\n",
       "       '32', '32', '10', '32', '32', '30', '30', '31', '30', '30', '30',\n",
       "       '30', '30', '30', '30', '30', '31', '10', '10', '10', '10'],\n",
       "      dtype='<U21')"
      ]
     },
     "execution_count": 37,
     "metadata": {},
     "output_type": "execute_result"
    }
   ],
   "source": [
    "str_enc_X_alarm_no_empty[1]"
   ]
  },
  {
   "cell_type": "code",
   "execution_count": 38,
   "id": "f7f97098",
   "metadata": {},
   "outputs": [
    {
     "data": {
      "text/plain": [
       "(43,)"
      ]
     },
     "execution_count": 38,
     "metadata": {},
     "output_type": "execute_result"
    }
   ],
   "source": [
    "str_enc_X_alarm_no_empty[1].shape"
   ]
  },
  {
   "cell_type": "code",
   "execution_count": 39,
   "id": "6afe3c5b",
   "metadata": {},
   "outputs": [
    {
     "data": {
      "text/plain": [
       "['10', '24', '30', '31', '32', '33', '39', '40', '41']"
      ]
     },
     "execution_count": 39,
     "metadata": {},
     "output_type": "execute_result"
    }
   ],
   "source": [
    "vectorizer.get_feature_names()"
   ]
  },
  {
   "cell_type": "code",
   "execution_count": 40,
   "id": "c8cbe152",
   "metadata": {},
   "outputs": [
    {
     "data": {
      "text/plain": [
       "(43, 9)"
      ]
     },
     "execution_count": 40,
     "metadata": {},
     "output_type": "execute_result"
    }
   ],
   "source": [
    "dummyvec.shape"
   ]
  },
  {
   "cell_type": "markdown",
   "id": "108b796f",
   "metadata": {},
   "source": [
    "#### Take a look at full dataset"
   ]
  },
  {
   "cell_type": "code",
   "execution_count": 153,
   "id": "531c9897",
   "metadata": {},
   "outputs": [
    {
     "data": {
      "text/plain": [
       "array([11,  4, 25, 25, 25])"
      ]
     },
     "execution_count": 153,
     "metadata": {},
     "output_type": "execute_result"
    }
   ],
   "source": [
    "encoded_X_seq_no_empty[1][0:5]"
   ]
  },
  {
   "cell_type": "code",
   "execution_count": 156,
   "id": "11aa9e49",
   "metadata": {},
   "outputs": [
    {
     "data": {
      "text/plain": [
       "array([[0., 0., 0., 0., 0.],\n",
       "       [0., 0., 0., 0., 0.],\n",
       "       [0., 0., 0., 0., 0.],\n",
       "       ...,\n",
       "       [0., 0., 0., 0., 0.],\n",
       "       [0., 0., 0., 0., 0.],\n",
       "       [0., 0., 0., 0., 0.]])"
      ]
     },
     "execution_count": 156,
     "metadata": {},
     "output_type": "execute_result"
    }
   ],
   "source": [
    "m = np.zeros((full_data.shape[0],5))\n",
    "m"
   ]
  },
  {
   "cell_type": "code",
   "execution_count": 157,
   "id": "9f655069",
   "metadata": {},
   "outputs": [],
   "source": [
    "full_data = pd.DataFrame({'Seq_no_empty':encoded_X_seq_no_empty})\n",
    "full_data['target'] = target_no_empty_alarms\n",
    "\n",
    "full_data['last_5_alarms'] = np.asarray([np.array(full_data['Seq_no_empty'][i][-5:]) for i in range(full_data.shape[0])])\n",
    "\n",
    "last_5 = full_data[['last_5_alarms','target']]"
   ]
  },
  {
   "cell_type": "code",
   "execution_count": 158,
   "id": "051b48c7",
   "metadata": {},
   "outputs": [
    {
     "data": {
      "text/html": [
       "<div>\n",
       "<style scoped>\n",
       "    .dataframe tbody tr th:only-of-type {\n",
       "        vertical-align: middle;\n",
       "    }\n",
       "\n",
       "    .dataframe tbody tr th {\n",
       "        vertical-align: top;\n",
       "    }\n",
       "\n",
       "    .dataframe thead th {\n",
       "        text-align: right;\n",
       "    }\n",
       "</style>\n",
       "<table border=\"1\" class=\"dataframe\">\n",
       "  <thead>\n",
       "    <tr style=\"text-align: right;\">\n",
       "      <th></th>\n",
       "      <th>last_5_alarms</th>\n",
       "      <th>target</th>\n",
       "    </tr>\n",
       "  </thead>\n",
       "  <tbody>\n",
       "    <tr>\n",
       "      <th>0</th>\n",
       "      <td>[5, 5, 5, 25, 42]</td>\n",
       "      <td>0</td>\n",
       "    </tr>\n",
       "    <tr>\n",
       "      <th>1</th>\n",
       "      <td>[5, 5, 5, 29, 24]</td>\n",
       "      <td>0</td>\n",
       "    </tr>\n",
       "    <tr>\n",
       "      <th>2</th>\n",
       "      <td>[11, 25, 19, 19, 19]</td>\n",
       "      <td>0</td>\n",
       "    </tr>\n",
       "    <tr>\n",
       "      <th>3</th>\n",
       "      <td>[25, 25, 21, 25, 42]</td>\n",
       "      <td>0</td>\n",
       "    </tr>\n",
       "    <tr>\n",
       "      <th>4</th>\n",
       "      <td>[42, 42, 25, 42, 42]</td>\n",
       "      <td>0</td>\n",
       "    </tr>\n",
       "    <tr>\n",
       "      <th>...</th>\n",
       "      <td>...</td>\n",
       "      <td>...</td>\n",
       "    </tr>\n",
       "    <tr>\n",
       "      <th>34889</th>\n",
       "      <td>[20, 20, 20, 20, 20]</td>\n",
       "      <td>0</td>\n",
       "    </tr>\n",
       "    <tr>\n",
       "      <th>34890</th>\n",
       "      <td>[20, 20, 20, 20, 11]</td>\n",
       "      <td>0</td>\n",
       "    </tr>\n",
       "    <tr>\n",
       "      <th>34891</th>\n",
       "      <td>[20, 20, 20, 20, 11]</td>\n",
       "      <td>0</td>\n",
       "    </tr>\n",
       "    <tr>\n",
       "      <th>34892</th>\n",
       "      <td>[20, 20, 20, 20, 11]</td>\n",
       "      <td>0</td>\n",
       "    </tr>\n",
       "    <tr>\n",
       "      <th>34893</th>\n",
       "      <td>[20, 20, 20, 20, 11]</td>\n",
       "      <td>0</td>\n",
       "    </tr>\n",
       "  </tbody>\n",
       "</table>\n",
       "<p>34894 rows × 2 columns</p>\n",
       "</div>"
      ],
      "text/plain": [
       "              last_5_alarms  target\n",
       "0         [5, 5, 5, 25, 42]       0\n",
       "1         [5, 5, 5, 29, 24]       0\n",
       "2      [11, 25, 19, 19, 19]       0\n",
       "3      [25, 25, 21, 25, 42]       0\n",
       "4      [42, 42, 25, 42, 42]       0\n",
       "...                     ...     ...\n",
       "34889  [20, 20, 20, 20, 20]       0\n",
       "34890  [20, 20, 20, 20, 11]       0\n",
       "34891  [20, 20, 20, 20, 11]       0\n",
       "34892  [20, 20, 20, 20, 11]       0\n",
       "34893  [20, 20, 20, 20, 11]       0\n",
       "\n",
       "[34894 rows x 2 columns]"
      ]
     },
     "execution_count": 158,
     "metadata": {},
     "output_type": "execute_result"
    }
   ],
   "source": [
    "last_5"
   ]
  },
  {
   "cell_type": "code",
   "execution_count": 84,
   "id": "2813a932",
   "metadata": {},
   "outputs": [],
   "source": [
    "# pd.options.display.max_colwidth=250\n",
    "# full_data.loc[full_data['target']==0]"
   ]
  },
  {
   "cell_type": "code",
   "execution_count": 85,
   "id": "5180dbe0",
   "metadata": {},
   "outputs": [],
   "source": [
    "# pd.options.display.max_colwidth=250\n",
    "# full_data.loc[full_data['target']==1]"
   ]
  },
  {
   "cell_type": "code",
   "execution_count": 86,
   "id": "35a4c26b",
   "metadata": {},
   "outputs": [],
   "source": [
    "# pd.options.display.max_colwidth=400\n",
    "# full_data.iloc[42:49]"
   ]
  },
  {
   "cell_type": "code",
   "execution_count": 87,
   "id": "0b3da9f5",
   "metadata": {},
   "outputs": [],
   "source": [
    "# pd.options.display.max_colwidth=400\n",
    "# full_data.iloc[108:116]"
   ]
  },
  {
   "cell_type": "code",
   "execution_count": 88,
   "id": "48ebb6b6",
   "metadata": {},
   "outputs": [],
   "source": [
    "# pd.options.display.max_colwidth=400\n",
    "# full_data.iloc[50:60]"
   ]
  },
  {
   "cell_type": "code",
   "execution_count": 89,
   "id": "1d6a6d2f",
   "metadata": {},
   "outputs": [],
   "source": [
    "# pd.options.display.max_colwidth=1000\n",
    "# full_data.iloc[34792:34803]"
   ]
  },
  {
   "cell_type": "markdown",
   "id": "fbf4661c",
   "metadata": {},
   "source": [
    "#### Last n Alarms Data Pre Processing"
   ]
  },
  {
   "cell_type": "code",
   "execution_count": 163,
   "id": "594ac55b",
   "metadata": {},
   "outputs": [],
   "source": [
    "# last_5['length==5'] = [len(last_5['last_5_alarms'][i])==5 for i in range(last_5.shape[0])]\n",
    "# last_5.loc[(last_5['length==5'] == False)] #There are 703 rows where the number of alarms in that timeframe <5. \n",
    "# #Out of these 703 records, only 49 are major down. So we will remove these records. \n",
    "# #last_5.loc[(last_5['length==5'] == False) & (last_5['target'] == 1)]"
   ]
  },
  {
   "cell_type": "code",
   "execution_count": 23,
   "id": "7d33affe",
   "metadata": {},
   "outputs": [],
   "source": [
    "#Drop duplicates (duplication = no alarms happen in the 3 hours period between rows)\n",
    "last_5_clean = last_5_clean[['last_5_alarms','target']]\n",
    "last_5_clean['str_version'] = last_5_clean['last_5_alarms'].astype(str)\n",
    "duplicate = last_5_clean.duplicated(subset=['str_version'])\n",
    "\n",
    "index_duplicate = [i for i,x in enumerate(duplicate) if x]"
   ]
  },
  {
   "cell_type": "code",
   "execution_count": 169,
   "id": "09caa232",
   "metadata": {},
   "outputs": [],
   "source": [
    "l5nd = last_5_clean.drop_duplicates(subset=['str_version']) #l5nd = last 5 clean no duplicates \n",
    "pd.set_option(\"display.max_rows\",100)\n",
    "l5nd['target'].value_counts()\n",
    "l5nd_sf = l5nd.sample(frac=1,random_state = 3)\n",
    "l5nd_sf = l5nd_sf.reset_index(drop=True)"
   ]
  },
  {
   "cell_type": "code",
   "execution_count": 170,
   "id": "ad870b22",
   "metadata": {},
   "outputs": [],
   "source": [
    "#Padding data with alarm sequence length <5 \n",
    "pad_last_alarms = pad_sequences(\n",
    "    l5nd_sf['last_5_alarms'], maxlen=5, dtype='int32', padding='pre',\n",
    "    truncating='pre', value=0)"
   ]
  },
  {
   "cell_type": "code",
   "execution_count": 174,
   "id": "7abf340a",
   "metadata": {},
   "outputs": [
    {
     "data": {
      "text/plain": [
       "Counter({1: 364, 0: 2821})"
      ]
     },
     "execution_count": 174,
     "metadata": {},
     "output_type": "execute_result"
    }
   ],
   "source": [
    "from sklearn.model_selection import train_test_split\n",
    "X_tr_last,X_ts_last,y_tr_last,y_ts_last = train_test_split(pad_last_alarms,l5nd_sf['target'],stratify = l5nd_sf['target'], test_size = 0.2, random_state = 43)\n",
    "\n",
    "from collections import Counter \n",
    "Counter(y_ts_last)"
   ]
  },
  {
   "cell_type": "code",
   "execution_count": 175,
   "id": "389cc483",
   "metadata": {},
   "outputs": [],
   "source": [
    "#model_weight: to be fit inside model.fit Keras API\n",
    "modelwtr_last = np.zeros((X_tr_last.shape[0],5))\n",
    "for i in range(modelwtr_last.shape[0]):\n",
    "    for j in range(5):\n",
    "        modelwtr_last[i,j] = alarm_weight[(X_tr_last[i][j])]\n",
    "        \n",
    "#FOR TEST \n",
    "modelwts_last = np.zeros((X_ts_last.shape[0],5)) #initialize model_weight\n",
    "#model_weight: to be fit inside model.fit Keras API\n",
    "for i in range(modelwts_last.shape[0]):\n",
    "    for j in range(5):\n",
    "        modelwts_last[i,j] = alarm_weight[(X_ts_last[i][j])]\n",
    "        \n",
    "#Changing to 1D\n",
    "mw1dtr_last = np.array([modelwtr_last[i].sum()/(modelwtr_last.shape[1]*30) for i in range(modelwtr_last.shape[0])])\n",
    "mw1dts_last = np.array([modelwts_last[i].sum()/(modelwts_last.shape[1]*30) for i in range(modelwts_last.shape[0])])"
   ]
  },
  {
   "cell_type": "code",
   "execution_count": 176,
   "id": "4f563198",
   "metadata": {},
   "outputs": [
    {
     "data": {
      "text/plain": [
       "array([1.12777505, 1.0238456 , 0.50613779, ..., 0.26760911, 0.20988101,\n",
       "       1.29771376])"
      ]
     },
     "execution_count": 176,
     "metadata": {},
     "output_type": "execute_result"
    }
   ],
   "source": [
    "mw1dts_last"
   ]
  },
  {
   "cell_type": "code",
   "execution_count": 193,
   "id": "f6b2d3ab",
   "metadata": {},
   "outputs": [],
   "source": [
    "#SMOTE\n",
    "from imblearn.over_sampling import BorderlineSMOTE\n",
    "oversample = BorderlineSMOTE()\n",
    "X_tr_last_sm, y_tr_last_sm = oversample.fit_resample(X_tr_last,y_tr_last)"
   ]
  },
  {
   "cell_type": "code",
   "execution_count": 195,
   "id": "40f0dbaa",
   "metadata": {},
   "outputs": [
    {
     "data": {
      "text/plain": [
       "Counter({0: 11282, 1: 11282})"
      ]
     },
     "execution_count": 195,
     "metadata": {},
     "output_type": "execute_result"
    }
   ],
   "source": [
    "Counter(y_tr_last_sm)"
   ]
  },
  {
   "cell_type": "code",
   "execution_count": 198,
   "id": "00d7e20d",
   "metadata": {},
   "outputs": [],
   "source": [
    "#Model weight for SMOTE dataset\n",
    "#model_weight: to be fit inside model.fit Keras API\n",
    "modelwtr_last_sm = np.zeros((X_tr_last_sm.shape[0],5))\n",
    "\n",
    "for i in range(modelwtr_last_sm.shape[0]):\n",
    "    for j in range(5):\n",
    "        modelwtr_last_sm[i,j] = alarm_weight[(X_tr_last_sm[i][j])]\n",
    "        \n",
    "#Changing to 1D\n",
    "mw1dtr_last_sm = np.array([modelwtr_last_sm[i].sum()/(modelwtr_last_sm.shape[1]*30) for i in range(modelwtr_last_sm.shape[0])])"
   ]
  },
  {
   "cell_type": "markdown",
   "id": "9926d06a",
   "metadata": {},
   "source": [
    "#### Train Val Test Split (Original Data Frame)"
   ]
  },
  {
   "cell_type": "code",
   "execution_count": 42,
   "id": "ee8abc78",
   "metadata": {},
   "outputs": [],
   "source": [
    "#Dividing to train & test split. To ensure there is no data leakage: \n",
    "#1. divide to train & test split BY index. 2. Shuffle EACH tain & test separately. \n",
    "\n",
    "training_size = round(encoded_X_seq_no_empty.shape[0]*(2/3))\n",
    "X_train = encoded_X_seq_no_empty[0:training_size]\n",
    "X_test = encoded_X_seq_no_empty[training_size:]\n",
    "\n",
    "y_train = target_no_empty_alarms[0:training_size]\n",
    "y_test = target_no_empty_alarms[training_size:]"
   ]
  },
  {
   "cell_type": "code",
   "execution_count": 43,
   "id": "a6c6b1b5",
   "metadata": {},
   "outputs": [
    {
     "data": {
      "text/plain": [
       "array([32, 32, 36, 32, 36, 36, 32, 32, 32, 30, 41, 40, 40, 30, 18, 10, 30,\n",
       "       31, 31, 31, 31, 31, 31, 31, 32, 32, 32, 32, 32, 31, 31, 31, 31, 30,\n",
       "       31, 30, 31, 31, 31, 31, 31, 31, 32, 31, 31, 30, 32, 30, 32, 32, 31,\n",
       "       10, 30, 31, 31, 30, 31, 31, 31, 32, 30, 30, 30, 30, 30, 39, 32, 32,\n",
       "       39, 30, 32, 32, 32, 32, 32, 32, 32, 30, 39, 32, 32, 32, 39, 30, 32,\n",
       "       32, 18, 32, 24, 30, 32, 32, 32, 32, 11, 10, 31, 32, 32, 32, 32, 32])"
      ]
     },
     "execution_count": 43,
     "metadata": {},
     "output_type": "execute_result"
    }
   ],
   "source": [
    "X_test[0]"
   ]
  },
  {
   "cell_type": "code",
   "execution_count": 44,
   "id": "22eb35b8",
   "metadata": {},
   "outputs": [
    {
     "data": {
      "text/plain": [
       "15138"
      ]
     },
     "execution_count": 44,
     "metadata": {},
     "output_type": "execute_result"
    }
   ],
   "source": [
    "encoded_X_seq_no_empty.shape[0]"
   ]
  },
  {
   "cell_type": "code",
   "execution_count": 45,
   "id": "0512eea8",
   "metadata": {},
   "outputs": [
    {
     "data": {
      "text/plain": [
       "True"
      ]
     },
     "execution_count": 45,
     "metadata": {},
     "output_type": "execute_result"
    }
   ],
   "source": [
    "y_test.shape[0] ==X_test.shape[0]"
   ]
  },
  {
   "cell_type": "code",
   "execution_count": 46,
   "id": "23f7cfed",
   "metadata": {},
   "outputs": [],
   "source": [
    "#COMBINE X & Y FIRST, THEN SHUFFLE (Otherwise the X & y values will not match if X shuffle, then y shuffle)\n",
    "tr = pd.DataFrame({'X_tr':X_train})\n",
    "ts = pd.DataFrame({'X_ts':X_test})\n",
    "tr['y_tr'] = y_train\n",
    "ts['y_ts'] = y_test\n",
    "\n",
    "#Shuffling \n",
    "tr_sf = tr.sample(frac=1,random_state = 40)\n",
    "ts_sf = ts.sample(frac=1,random_state = 40)"
   ]
  },
  {
   "cell_type": "code",
   "execution_count": 47,
   "id": "5bdf4320",
   "metadata": {},
   "outputs": [
    {
     "data": {
      "text/plain": [
       "1185                                 [32, 31, 31, 19, 19]\n",
       "3796    [31, 31, 31, 31, 32, 39, 32, 31, 39, 32, 31, 3...\n",
       "7369    [27, 31, 31, 24, 22, 24, 31, 30, 32, 32, 32, 3...\n",
       "4164    [20, 20, 5, 18, 32, 39, 32, 32, 32, 39, 18, 18...\n",
       "8592    [33, 36, 36, 33, 33, 30, 36, 31, 32, 32, 32, 3...\n",
       "                              ...                        \n",
       "7839    [10, 30, 31, 31, 27, 24, 10, 31, 31, 31, 11, 3...\n",
       "3603    [11, 11, 39, 10, 39, 30, 30, 30, 30, 30, 10, 3...\n",
       "5959    [24, 20, 37, 24, 22, 37, 18, 20, 32, 32, 32, 3...\n",
       "5426    [37, 24, 32, 32, 24, 32, 10, 10, 19, 19, 19, 3...\n",
       "7608    [27, 32, 32, 32, 32, 32, 30, 32, 32, 32, 32, 3...\n",
       "Name: X_tr, Length: 10092, dtype: object"
      ]
     },
     "execution_count": 47,
     "metadata": {},
     "output_type": "execute_result"
    }
   ],
   "source": [
    "tr_sf['X_tr']"
   ]
  },
  {
   "cell_type": "markdown",
   "id": "1eb58d16",
   "metadata": {},
   "source": [
    "#### Padding"
   ]
  },
  {
   "cell_type": "code",
   "execution_count": 48,
   "id": "eec2021e",
   "metadata": {},
   "outputs": [],
   "source": [
    "from keras.preprocessing.sequence import pad_sequences\n",
    "sequence_length = [tr['X_tr'][i].shape[0] for i in range(tr.shape[0])]\n",
    "mean_length = round(np.mean(sequence_length))\n",
    "\n",
    "#padding & truncating PRE sequences (zeros will be at the beginning for sequence < mean_length. Cutting beginning sentence\n",
    "#for sentence > mean_length\n",
    "\n",
    "pad_X_tr = pad_sequences(\n",
    "    tr['X_tr'], maxlen=mean_length, dtype='int32', padding='pre',\n",
    "    truncating='pre', value=0)\n",
    "pad_X_ts = pad_sequences(\n",
    "    ts['X_ts'], maxlen=mean_length, dtype='int32', padding='pre',\n",
    "    truncating='pre', value=0)\n",
    "\n",
    "y_tr = tr['y_tr']\n",
    "y_ts = ts['y_ts']"
   ]
  },
  {
   "cell_type": "code",
   "execution_count": 49,
   "id": "823b2a97",
   "metadata": {},
   "outputs": [
    {
     "data": {
      "text/plain": [
       "array([[ 0,  0,  0, ..., 31, 10, 10],\n",
       "       [ 0,  0,  0, ..., 10, 10, 10],\n",
       "       [ 0,  0,  0, ..., 10, 32, 10],\n",
       "       ...,\n",
       "       [32, 31, 31, ..., 32, 32, 32],\n",
       "       [31, 31, 31, ..., 32, 32, 11],\n",
       "       [31, 31, 31, ..., 32, 11, 10]], dtype=int32)"
      ]
     },
     "execution_count": 49,
     "metadata": {},
     "output_type": "execute_result"
    }
   ],
   "source": [
    "pad_X_tr"
   ]
  },
  {
   "cell_type": "code",
   "execution_count": 50,
   "id": "34194e71",
   "metadata": {},
   "outputs": [
    {
     "data": {
      "text/plain": [
       "(10092, 66)"
      ]
     },
     "execution_count": 50,
     "metadata": {},
     "output_type": "execute_result"
    }
   ],
   "source": [
    "pad_X_tr.shape"
   ]
  },
  {
   "cell_type": "code",
   "execution_count": 51,
   "id": "ef7c4a33",
   "metadata": {},
   "outputs": [],
   "source": [
    "#[0,0,0,0,4,5,6,7]\n",
    "#[5,6,6,6,7,8,8]"
   ]
  },
  {
   "cell_type": "code",
   "execution_count": 52,
   "id": "213fc4dc",
   "metadata": {},
   "outputs": [
    {
     "data": {
      "text/plain": [
       "46"
      ]
     },
     "execution_count": 52,
     "metadata": {},
     "output_type": "execute_result"
    }
   ],
   "source": [
    "n_alarms"
   ]
  },
  {
   "cell_type": "code",
   "execution_count": 53,
   "id": "eee83362",
   "metadata": {},
   "outputs": [
    {
     "data": {
      "text/plain": [
       "Counter({0: 9491, 1: 601})"
      ]
     },
     "execution_count": 53,
     "metadata": {},
     "output_type": "execute_result"
    }
   ],
   "source": [
    "from collections import Counter \n",
    "Counter(tr['y_tr'])"
   ]
  },
  {
   "cell_type": "markdown",
   "id": "62cc431e",
   "metadata": {},
   "source": [
    "#### SMOTE"
   ]
  },
  {
   "cell_type": "code",
   "execution_count": null,
   "id": "052d88f6",
   "metadata": {},
   "outputs": [],
   "source": [
    "#Putting SMOTE inside the pipline of imblearn "
   ]
  },
  {
   "cell_type": "code",
   "execution_count": 28,
   "id": "366a626e",
   "metadata": {},
   "outputs": [],
   "source": [
    "#trying borderline SMOTE\n",
    "#has smoother result than regular SMOTE\n",
    "from imblearn.over_sampling import BorderlineSMOTE\n",
    "oversample = BorderlineSMOTE()\n",
    "pad_X_tr_smote, y_tr_smote = oversample.fit_resample(pad_X_tr,tr['y_tr'])"
   ]
  },
  {
   "cell_type": "code",
   "execution_count": 29,
   "id": "69befc33",
   "metadata": {},
   "outputs": [
    {
     "data": {
      "text/plain": [
       "0        0\n",
       "1        0\n",
       "2        0\n",
       "3        0\n",
       "4        0\n",
       "        ..\n",
       "41081    1\n",
       "41082    1\n",
       "41083    1\n",
       "41084    1\n",
       "41085    1\n",
       "Name: y_tr, Length: 41086, dtype: int64"
      ]
     },
     "execution_count": 29,
     "metadata": {},
     "output_type": "execute_result"
    }
   ],
   "source": [
    "y_tr_smote"
   ]
  },
  {
   "cell_type": "code",
   "execution_count": 30,
   "id": "25a83a6d",
   "metadata": {},
   "outputs": [
    {
     "data": {
      "text/plain": [
       "Counter({0: 10363, 1: 1268})"
      ]
     },
     "execution_count": 30,
     "metadata": {},
     "output_type": "execute_result"
    }
   ],
   "source": [
    "Counter(y_ts)"
   ]
  },
  {
   "cell_type": "code",
   "execution_count": 31,
   "id": "3b4433dd",
   "metadata": {},
   "outputs": [
    {
     "data": {
      "text/plain": [
       "66"
      ]
     },
     "execution_count": 31,
     "metadata": {},
     "output_type": "execute_result"
    }
   ],
   "source": [
    "mean_length"
   ]
  },
  {
   "cell_type": "markdown",
   "id": "f836bfad",
   "metadata": {},
   "source": [
    "Data Preprocessing. <br>\n",
    "**To Do:** <br>\n",
    "~~1. TF-IDF + LSTM <br> ~~\n",
    "~~2. Class balancing <br> ~~\n",
    "~~2. Padding ? ~~\n",
    "~~3. Embedding ~~<br>\n",
    "4. Convolution + LSTM <br>\n",
    "5. Standardize the Alarm <br>ASSIGNING WEIGHT **BEFORE** STANDARDIZE THE DATA : ALARM_WEIGHT DICTIONARY KEYS = THE REAL ALARMS NOT THE STANDARDIZED ONE <br>\n",
    "6. Standardize the sample weight (to minimize the loss) <br>\n",
    "**7. Try 2D weighting <br>**\n",
    "8. Why overfit for the current model? Should the test set also has SMOTE? <br>\n",
    "9. To SMOTE or not to SMOTE? SMOTE seems to cause the overfitting <br>\n",
    "10. SMOTE + CROSS VALIDATION (Put SMOTE inside imblearn pipeline) <br>\n",
    "- Understand how LSTM works with words vs numbers ? "
   ]
  },
  {
   "cell_type": "markdown",
   "id": "307f3efb",
   "metadata": {},
   "source": [
    "#### Generate Sample weight for both training & test set (for model.fit & model.evaluate) "
   ]
  },
  {
   "cell_type": "code",
   "execution_count": 30,
   "id": "d3ce657c",
   "metadata": {},
   "outputs": [
    {
     "data": {
      "text/plain": [
       "array([[ 0,  0,  0, ...,  5, 25, 42],\n",
       "       [ 0,  0,  0, ...,  5, 29, 24],\n",
       "       [ 0,  0,  0, ..., 19, 19, 19],\n",
       "       ...,\n",
       "       [34, 36, 36, ..., 26, 11, 26],\n",
       "       [34, 33, 32, ..., 33, 33, 33],\n",
       "       [ 0,  0,  0, ..., 43, 41, 41]], dtype=int32)"
      ]
     },
     "execution_count": 30,
     "metadata": {},
     "output_type": "execute_result"
    }
   ],
   "source": [
    "pad_X_tr_smote"
   ]
  },
  {
   "cell_type": "code",
   "execution_count": 31,
   "id": "0c5cd77e",
   "metadata": {},
   "outputs": [
    {
     "data": {
      "text/plain": [
       "9.269384"
      ]
     },
     "execution_count": 31,
     "metadata": {},
     "output_type": "execute_result"
    }
   ],
   "source": [
    "alarm_weight[pad_X_tr_smote[0][43]]"
   ]
  },
  {
   "cell_type": "code",
   "execution_count": 54,
   "id": "a408069a",
   "metadata": {},
   "outputs": [],
   "source": [
    "# #FOR TRAINING WITH SMOTE\n",
    "# model_weight_tr = np.zeros((pad_X_tr_smote.shape[0],pad_X_tr_smote.shape[1])) #initialize model_weight\n",
    "# #model_weight: to be fit inside model.fit Keras API\n",
    "# for i in range(model_weight_tr.shape[0]):\n",
    "#     for j in range(model_weight_tr.shape[1]):\n",
    "#         model_weight_tr[i,j] = alarm_weight[(pad_X_tr_smote[i][j])]\n",
    "        \n",
    "#FOR TRAINING WITHOUT SMOTE \n",
    "model_weight_tr = np.zeros((pad_X_tr.shape[0],pad_X_tr.shape[1])) #initialize model_weight\n",
    "#model_weight: to be fit inside model.fit Keras API\n",
    "for i in range(model_weight_tr.shape[0]):\n",
    "    for j in range(model_weight_tr.shape[1]):\n",
    "        model_weight_tr[i,j] = alarm_weight[(pad_X_tr[i][j])]"
   ]
  },
  {
   "cell_type": "code",
   "execution_count": 55,
   "id": "7bafc838",
   "metadata": {},
   "outputs": [],
   "source": [
    "#FOR TEST (TEST = NO SMOTE)\n",
    "model_weight_ts = np.zeros((pad_X_ts.shape[0],pad_X_ts.shape[1])) #initialize model_weight\n",
    "#model_weight: to be fit inside model.fit Keras API\n",
    "for i in range(model_weight_ts.shape[0]):\n",
    "    for j in range(model_weight_ts.shape[1]):\n",
    "        model_weight_ts[i,j] = alarm_weight[(pad_X_ts[i][j])]"
   ]
  },
  {
   "cell_type": "code",
   "execution_count": 56,
   "id": "22897e15",
   "metadata": {},
   "outputs": [
    {
     "data": {
      "text/plain": [
       "array([[10.43246   , 10.43246   , 10.43246   , ...,  2.67498974,\n",
       "         2.67498974,  2.67498974],\n",
       "       [10.43246   , 10.43246   , 11.59162222, ..., 10.43246   ,\n",
       "         3.26014375,  2.67498974],\n",
       "       [10.43246   ,  2.67498974, 11.59162222, ..., 10.43246   ,\n",
       "         3.26014375,  3.26014375],\n",
       "       ...,\n",
       "       [11.59162222,  2.67498974,  2.67498974, ..., 11.59162222,\n",
       "         2.608115  , 11.59162222],\n",
       "       [ 2.67498974,  2.608115  ,  2.67498974, ...,  3.26014375,\n",
       "         2.608115  ,  3.26014375],\n",
       "       [ 2.67498974, 10.43246   , 11.59162222, ...,  3.26014375,\n",
       "         3.26014375,  3.26014375]])"
      ]
     },
     "execution_count": 56,
     "metadata": {},
     "output_type": "execute_result"
    }
   ],
   "source": [
    "model_weight_ts"
   ]
  },
  {
   "cell_type": "code",
   "execution_count": 70,
   "id": "423bbdd8",
   "metadata": {},
   "outputs": [
    {
     "data": {
      "text/plain": [
       "array([[ 0.        ,  0.        ,  0.        , ..., 10.43246   ,\n",
       "         3.26014375,  3.26014375],\n",
       "       [ 0.        ,  0.        ,  0.        , ...,  3.26014375,\n",
       "         3.26014375,  3.26014375],\n",
       "       [ 0.        ,  0.        ,  0.        , ...,  3.26014375,\n",
       "         2.67498974,  3.26014375],\n",
       "       ...,\n",
       "       [ 2.67498974, 10.43246   , 10.43246   , ...,  2.67498974,\n",
       "         2.67498974,  2.67498974],\n",
       "       [10.43246   , 10.43246   , 10.43246   , ...,  2.67498974,\n",
       "         2.67498974,  9.48405455],\n",
       "       [10.43246   , 10.43246   , 10.43246   , ...,  2.67498974,\n",
       "         9.48405455,  3.26014375]])"
      ]
     },
     "execution_count": 70,
     "metadata": {},
     "output_type": "execute_result"
    }
   ],
   "source": [
    "model_weight_tr"
   ]
  },
  {
   "cell_type": "code",
   "execution_count": 34,
   "id": "f8a7ff29",
   "metadata": {},
   "outputs": [],
   "source": [
    "#Standardizing the data -> Try after training"
   ]
  },
  {
   "cell_type": "code",
   "execution_count": 37,
   "id": "5c5f3ea0",
   "metadata": {},
   "outputs": [],
   "source": [
    "# pad_X_tr_smote.shape == model_weight.shape"
   ]
  },
  {
   "cell_type": "markdown",
   "id": "a3d1517b",
   "metadata": {},
   "source": [
    "Trying Sample Weight with dimension (number of records,1) instead of 2D array. For 2D array sample weight, perhaps need to change the dataset to temporal data type, or change the loss function? Cos otherwise it will throw dimension error. "
   ]
  },
  {
   "cell_type": "code",
   "execution_count": 58,
   "id": "b169aad4",
   "metadata": {},
   "outputs": [],
   "source": [
    "model_weight_1D_tr = np.array([model_weight_tr[i].sum()/(model_weight_tr.shape[1]*30) for i in range(model_weight_tr.shape[0])])\n",
    "model_weight_1D_ts = np.array([model_weight_ts[i].sum()/(model_weight_ts.shape[1]*30) for i in range(model_weight_ts.shape[0])])\n",
    "                                                                                            \n",
    "#model_weight[i].sum()/model_weight.shape[1] = taking the average of ALL the weights in the i-th row of model_weight"
   ]
  },
  {
   "cell_type": "code",
   "execution_count": 59,
   "id": "079ab647",
   "metadata": {},
   "outputs": [
    {
     "name": "stdout",
     "output_type": "stream",
     "text": [
      "(5046,)\n",
      "(10092,)\n"
     ]
    }
   ],
   "source": [
    "print(np.shape(model_weight_1D_ts))\n",
    "print(np.shape(model_weight_1D_tr))"
   ]
  },
  {
   "cell_type": "code",
   "execution_count": 107,
   "id": "88b91e00",
   "metadata": {},
   "outputs": [
    {
     "data": {
      "text/plain": [
       "Counter({0: 9491, 1: 601})"
      ]
     },
     "execution_count": 107,
     "metadata": {},
     "output_type": "execute_result"
    }
   ],
   "source": [
    "Counter(y_tr)"
   ]
  },
  {
   "cell_type": "markdown",
   "id": "40ef692e",
   "metadata": {},
   "source": [
    "#### Scaling"
   ]
  },
  {
   "cell_type": "code",
   "execution_count": 57,
   "id": "dc593eaa",
   "metadata": {},
   "outputs": [],
   "source": [
    "#Standardizing the training data & test data separately \n",
    "from sklearn.preprocessing import MinMaxScaler\n",
    "scaler = MinMaxScaler(feature_range=(0, 1))\n",
    "pad_X_tr_smote_scl = scaler.fit_transform(pad_X_tr_smote)\n",
    "pad_X_ts_scl = scaler.transform(pad_X_ts) #For test dataset ONLY TRANSFORM (do not fit the scaler), so the range is not changed"
   ]
  },
  {
   "cell_type": "code",
   "execution_count": 67,
   "id": "ca5f183a",
   "metadata": {},
   "outputs": [
    {
     "data": {
      "text/plain": [
       "44"
      ]
     },
     "execution_count": 67,
     "metadata": {},
     "output_type": "execute_result"
    }
   ],
   "source": [
    "#ensuring scaling result for train / test is the same\n",
    "pad_X_tr_smote[1][44]"
   ]
  },
  {
   "cell_type": "code",
   "execution_count": 68,
   "id": "c5f75dda",
   "metadata": {},
   "outputs": [
    {
     "data": {
      "text/plain": [
       "44"
      ]
     },
     "execution_count": 68,
     "metadata": {},
     "output_type": "execute_result"
    }
   ],
   "source": [
    "pad_X_ts[1][8]"
   ]
  },
  {
   "cell_type": "code",
   "execution_count": 69,
   "id": "04e91928",
   "metadata": {},
   "outputs": [
    {
     "data": {
      "text/plain": [
       "0.830188679245283"
      ]
     },
     "execution_count": 69,
     "metadata": {},
     "output_type": "execute_result"
    }
   ],
   "source": [
    "pad_X_tr_smote_scl[1][44]"
   ]
  },
  {
   "cell_type": "code",
   "execution_count": 70,
   "id": "fb103138",
   "metadata": {},
   "outputs": [
    {
     "data": {
      "text/plain": [
       "0.830188679245283"
      ]
     },
     "execution_count": 70,
     "metadata": {},
     "output_type": "execute_result"
    }
   ],
   "source": [
    "pad_X_ts_scl[1][8]"
   ]
  },
  {
   "cell_type": "code",
   "execution_count": 83,
   "id": "ba404a16",
   "metadata": {},
   "outputs": [
    {
     "data": {
      "text/plain": [
       "array([ True,  True,  True,  True,  True,  True, False, False,  True,\n",
       "       False, False,  True, False,  True, False, False, False, False,\n",
       "       False, False, False,  True, False, False, False,  True,  True,\n",
       "        True,  True,  True,  True, False, False,  True, False, False,\n",
       "        True, False, False,  True,  True, False,  True,  True,  True,\n",
       "        True, False, False,  True,  True, False, False, False, False,\n",
       "       False,  True, False,  True, False, False, False, False, False,\n",
       "       False, False, False])"
      ]
     },
     "execution_count": 83,
     "metadata": {},
     "output_type": "execute_result"
    }
   ],
   "source": [
    "pad_X_ts_scl[1]==pad_X_ts_scl[2]"
   ]
  },
  {
   "cell_type": "code",
   "execution_count": 102,
   "id": "6376562e",
   "metadata": {},
   "outputs": [
    {
     "data": {
      "text/plain": [
       "2162"
      ]
     },
     "execution_count": 102,
     "metadata": {},
     "output_type": "execute_result"
    }
   ],
   "source": [
    "d = pd.DataFrame(pad_X_tr_smote)\n",
    "d.duplicated().sum()"
   ]
  },
  {
   "cell_type": "code",
   "execution_count": 80,
   "id": "4b4ffc86",
   "metadata": {},
   "outputs": [
    {
     "data": {
      "text/plain": [
       "array([[31, 31, 31, ..., 32, 32, 32],\n",
       "       [31, 31, 30, ..., 18, 39, 32],\n",
       "       [31, 32, 30, ..., 41, 40, 40],\n",
       "       ...,\n",
       "       [30, 32, 32, ..., 30, 24, 30],\n",
       "       [32, 24, 32, ..., 37, 24, 37],\n",
       "       [32, 18, 25, ..., 40, 40, 40]], dtype=int32)"
      ]
     },
     "execution_count": 80,
     "metadata": {},
     "output_type": "execute_result"
    }
   ],
   "source": [
    "pad_X_ts"
   ]
  },
  {
   "cell_type": "markdown",
   "id": "35dd1f76",
   "metadata": {},
   "source": [
    "#### Modeling"
   ]
  },
  {
   "cell_type": "code",
   "execution_count": 63,
   "id": "98d76ccf",
   "metadata": {},
   "outputs": [],
   "source": [
    "#input_length = pad_X_tr_smote.shape[1]\n",
    "#input_length = 5 #for last_5 alarms data\n",
    "input_length = pad_X_tr.shape[0]"
   ]
  },
  {
   "cell_type": "code",
   "execution_count": 69,
   "id": "3bf9cfce",
   "metadata": {},
   "outputs": [
    {
     "data": {
      "text/plain": [
       "10092"
      ]
     },
     "execution_count": 69,
     "metadata": {},
     "output_type": "execute_result"
    }
   ],
   "source": [
    "input_length"
   ]
  },
  {
   "cell_type": "code",
   "execution_count": 88,
   "id": "f032ed2b",
   "metadata": {},
   "outputs": [
    {
     "data": {
      "text/plain": [
       "array([[ 0.        ,  0.        ,  0.        , ..., 10.43246   ,\n",
       "         3.26014375,  3.26014375],\n",
       "       [ 0.        ,  0.        ,  0.        , ...,  3.26014375,\n",
       "         3.26014375,  3.26014375],\n",
       "       [ 0.        ,  0.        ,  0.        , ...,  3.26014375,\n",
       "         2.67498974,  3.26014375],\n",
       "       ...,\n",
       "       [ 2.67498974, 10.43246   , 10.43246   , ...,  2.67498974,\n",
       "         2.67498974,  2.67498974],\n",
       "       [10.43246   , 10.43246   , 10.43246   , ...,  2.67498974,\n",
       "         2.67498974,  9.48405455],\n",
       "       [10.43246   , 10.43246   , 10.43246   , ...,  2.67498974,\n",
       "         9.48405455,  3.26014375]])"
      ]
     },
     "execution_count": 88,
     "metadata": {},
     "output_type": "execute_result"
    }
   ],
   "source": [
    "model_weight_tr"
   ]
  },
  {
   "cell_type": "code",
   "execution_count": 115,
   "id": "4a6e2e1d",
   "metadata": {},
   "outputs": [
    {
     "data": {
      "text/plain": [
       "(5046,)"
      ]
     },
     "execution_count": 115,
     "metadata": {},
     "output_type": "execute_result"
    }
   ],
   "source": [
    "np.shape(y_ts)"
   ]
  },
  {
   "cell_type": "code",
   "execution_count": 116,
   "id": "b63c4579",
   "metadata": {},
   "outputs": [
    {
     "data": {
      "text/plain": [
       "0       0\n",
       "1       1\n",
       "2       1\n",
       "3       0\n",
       "4       0\n",
       "       ..\n",
       "5041    0\n",
       "5042    0\n",
       "5043    0\n",
       "5044    0\n",
       "5045    0\n",
       "Name: y_ts, Length: 5046, dtype: int64"
      ]
     },
     "execution_count": 116,
     "metadata": {},
     "output_type": "execute_result"
    }
   ],
   "source": [
    "y_ts"
   ]
  },
  {
   "cell_type": "code",
   "execution_count": 123,
   "id": "9aa1d7ca",
   "metadata": {},
   "outputs": [],
   "source": [
    "y_ts_tensor = tf.data.Dataset.from_tensor_slices((np.array(y_ts)).reshape((y_ts.shape[0],1)))\n",
    "y_tr_tensor = tf.data.Dataset.from_tensor_slices((np.array(y_tr)).reshape((y_tr.shape[0],1)))"
   ]
  },
  {
   "cell_type": "code",
   "execution_count": 111,
   "id": "9b72ad25",
   "metadata": {},
   "outputs": [
    {
     "name": "stdout",
     "output_type": "stream",
     "text": [
      "tf.Tensor(0.1517004533230518, shape=(), dtype=float64)\n",
      "tf.Tensor(0.1237886404806613, shape=(), dtype=float64)\n"
     ]
    }
   ],
   "source": [
    "for element in weight_tr_tensor.take(2): \n",
    "    print(element)"
   ]
  },
  {
   "cell_type": "code",
   "execution_count": 134,
   "id": "3f2ca1da",
   "metadata": {},
   "outputs": [
    {
     "name": "stdout",
     "output_type": "stream",
     "text": [
      "[ 0  0  0  0  0  0  0  0 32 32 10 32 32 32 32 32 32 32 32 11 32 32 32 32\n",
      " 30 32 10 32 10 32 41 40 40  9 10 24 33 10  9 10 39 10 32 32 32 32 10 32\n",
      " 32 10 32 32 30 30 31 30 30 30 30 30 30 30 30 31 10 10]  =>  [0] -> [0.15170045]\n",
      "[ 0  0  0  0  0  0  0  0  0  0  0  0  0  0  0  0  0  0  0  0  0  0  0 32\n",
      " 10 32 10 32 41 40 40  9 10 24 33 10  9 10 39 10 32 32 32 32 10 32 32 10\n",
      " 32 32 30 30 31 30 30 30 30 30 30 30 30 31 10 10 10 10]  =>  [0] -> [0.12378864]\n",
      "[ 0  0  0  0  0  0  0  0  0  0  0  0  0  0  0  0  0  0  0  0  0  0  0  0\n",
      "  0  0  0  0  0  9 10 24 33 10  9 10 39 10 32 32 32 32 10 32 32 10 32 32\n",
      " 30 30 31 30 30 30 30 30 30 30 30 31 10 10 10 10 32 10]  =>  [0] -> [0.1108781]\n",
      "[ 0  0  0  0  0  0  0  0  0  0  0  0  0  0  0  0  0  0  0  0  0  0  0  0\n",
      "  0  0  0  0  0 10  9 10 39 10 32 32 32 32 10 32 32 10 32 32 30 30 31 30\n",
      " 30 30 30 30 30 30 30 31 10 10 10 10 32 10 10 10 20 20]  =>  [0] -> [0.11482979]\n",
      "[ 0 10 39 10 32 32 32 32 10 32 32 10 32 32 30 30 31 30 30 30 30 30 30 30\n",
      " 30 31 10 10 10 10 32 10 10 10 20 20 39 39 39 31 32 32 32 32 32 32 32 32\n",
      " 32 32 32 32 32 32 32 32 32 32 32 32 36 32 32 32 32 32]  =>  [0] -> [0.15716691]\n"
     ]
    }
   ],
   "source": [
    "for features, label, weight in tr_tensor.take(5):\n",
    "    print(features.numpy(), \" => \", label.numpy(), \"->\", weight.numpy())"
   ]
  },
  {
   "cell_type": "code",
   "execution_count": 130,
   "id": "89859fc5",
   "metadata": {},
   "outputs": [
    {
     "data": {
      "text/plain": [
       "array([[0.15170045],\n",
       "       [0.12378864],\n",
       "       [0.1108781 ],\n",
       "       ...,\n",
       "       [0.23651874],\n",
       "       [0.23995766],\n",
       "       [0.23633528]])"
      ]
     },
     "execution_count": 130,
     "metadata": {},
     "output_type": "execute_result"
    }
   ],
   "source": [
    "model_weight_1D_tr\n",
    "(np.array(model_weight_1D_tr)).reshape((model_weight_1D_tr.shape[0],1))"
   ]
  },
  {
   "cell_type": "code",
   "execution_count": 131,
   "id": "2277977b",
   "metadata": {},
   "outputs": [],
   "source": [
    "pad_X_ts_tensor = tf.data.Dataset.from_tensor_slices(pad_X_ts)\n",
    "pad_X_tr_tensor = tf.data.Dataset.from_tensor_slices(pad_X_tr)\n",
    "\n",
    "weight_tr_tensor = tf.data.Dataset.from_tensor_slices((np.array(model_weight_1D_tr)).reshape((model_weight_1D_tr.shape[0],1)))\n",
    "weight_ts_tensor = tf.data.Dataset.from_tensor_slices((np.array(model_weight_1D_ts)).reshape((model_weight_1D_ts.shape[0],1)))"
   ]
  },
  {
   "cell_type": "code",
   "execution_count": 140,
   "id": "2c06e05c",
   "metadata": {},
   "outputs": [
    {
     "data": {
      "text/plain": [
       "array([[0.15170045],\n",
       "       [0.12378864],\n",
       "       [0.1108781 ],\n",
       "       ...,\n",
       "       [0.23651874],\n",
       "       [0.23995766],\n",
       "       [0.23633528]])"
      ]
     },
     "execution_count": 140,
     "metadata": {},
     "output_type": "execute_result"
    }
   ],
   "source": [
    "(np.array(model_weight_1D_tr)).reshape((model_weight_1D_tr.shape[0],1))"
   ]
  },
  {
   "cell_type": "code",
   "execution_count": 132,
   "id": "ee7313dc",
   "metadata": {},
   "outputs": [],
   "source": [
    "tr_tensor = tf.data.Dataset.zip((pad_X_tr_tensor, y_tr_tensor, weight_tr_tensor))\n",
    "ts_tensor = tf.data.Dataset.zip((pad_X_ts_tensor, y_ts_tensor, weight_ts_tensor))"
   ]
  },
  {
   "cell_type": "code",
   "execution_count": 136,
   "id": "683eefe9",
   "metadata": {},
   "outputs": [
    {
     "data": {
      "text/plain": [
       "tensorflow.python.data.ops.dataset_ops.ZipDataset"
      ]
     },
     "execution_count": 136,
     "metadata": {},
     "output_type": "execute_result"
    }
   ],
   "source": [
    "type(tr_tensor)"
   ]
  },
  {
   "cell_type": "code",
   "execution_count": 74,
   "id": "f328f879",
   "metadata": {},
   "outputs": [],
   "source": [
    "l = [i for i in range(100)]\n",
    "s = tf.keras.preprocessing.timeseries_dataset_from_array(l,targets=None,sequence_length=10, sampling_rate=2, sequence_stride=3, shuffle=False)"
   ]
  },
  {
   "cell_type": "code",
   "execution_count": 79,
   "id": "5cee3490",
   "metadata": {},
   "outputs": [
    {
     "name": "stdout",
     "output_type": "stream",
     "text": [
      "tf.Tensor(\n",
      "[[ 0  2  4  6  8 10 12 14 16 18]\n",
      " [ 3  5  7  9 11 13 15 17 19 21]\n",
      " [ 6  8 10 12 14 16 18 20 22 24]\n",
      " [ 9 11 13 15 17 19 21 23 25 27]\n",
      " [12 14 16 18 20 22 24 26 28 30]\n",
      " [15 17 19 21 23 25 27 29 31 33]\n",
      " [18 20 22 24 26 28 30 32 34 36]\n",
      " [21 23 25 27 29 31 33 35 37 39]\n",
      " [24 26 28 30 32 34 36 38 40 42]\n",
      " [27 29 31 33 35 37 39 41 43 45]\n",
      " [30 32 34 36 38 40 42 44 46 48]\n",
      " [33 35 37 39 41 43 45 47 49 51]\n",
      " [36 38 40 42 44 46 48 50 52 54]\n",
      " [39 41 43 45 47 49 51 53 55 57]\n",
      " [42 44 46 48 50 52 54 56 58 60]\n",
      " [45 47 49 51 53 55 57 59 61 63]\n",
      " [48 50 52 54 56 58 60 62 64 66]\n",
      " [51 53 55 57 59 61 63 65 67 69]\n",
      " [54 56 58 60 62 64 66 68 70 72]\n",
      " [57 59 61 63 65 67 69 71 73 75]\n",
      " [60 62 64 66 68 70 72 74 76 78]\n",
      " [63 65 67 69 71 73 75 77 79 81]\n",
      " [66 68 70 72 74 76 78 80 82 84]\n",
      " [69 71 73 75 77 79 81 83 85 87]\n",
      " [72 74 76 78 80 82 84 86 88 90]\n",
      " [75 77 79 81 83 85 87 89 91 93]\n",
      " [78 80 82 84 86 88 90 92 94 96]], shape=(27, 10), dtype=int32)\n"
     ]
    }
   ],
   "source": [
    "for element in s: \n",
    "    print(element)"
   ]
  },
  {
   "cell_type": "code",
   "execution_count": 138,
   "id": "3657a7e3",
   "metadata": {},
   "outputs": [
    {
     "name": "stdout",
     "output_type": "stream",
     "text": [
      "Model: \"sequential_16\"\n",
      "_________________________________________________________________\n",
      "Layer (type)                 Output Shape              Param #   \n",
      "=================================================================\n",
      "embedding_14 (Embedding)     (None, 10092, 200)        20000     \n",
      "_________________________________________________________________\n",
      "lstm_45 (LSTM)               (None, 10092, 64)         67840     \n",
      "_________________________________________________________________\n",
      "lstm_46 (LSTM)               (None, 10092, 32)         12416     \n",
      "_________________________________________________________________\n",
      "lstm_47 (LSTM)               (None, 32)                8320      \n",
      "_________________________________________________________________\n",
      "dense_30 (Dense)             (None, 64)                2112      \n",
      "_________________________________________________________________\n",
      "dense_31 (Dense)             (None, 1)                 65        \n",
      "=================================================================\n",
      "Total params: 110,753\n",
      "Trainable params: 110,753\n",
      "Non-trainable params: 0\n",
      "_________________________________________________________________\n",
      "WARNING:tensorflow:Model was constructed with shape (None, 10092) for input KerasTensor(type_spec=TensorSpec(shape=(None, 10092), dtype=tf.float32, name='embedding_14_input'), name='embedding_14_input', description=\"created by layer 'embedding_14_input'\"), but it was called on an input with incompatible shape (66, 1).\n"
     ]
    },
    {
     "ename": "ValueError",
     "evalue": "in user code:\n\n    /home/looselot/virtualenvs/ENV-MAL/lib/python3.7/site-packages/keras/engine/training.py:853 train_function  *\n        return step_function(self, iterator)\n    /home/looselot/virtualenvs/ENV-MAL/lib/python3.7/site-packages/keras/engine/training.py:842 step_function  **\n        outputs = model.distribute_strategy.run(run_step, args=(data,))\n    /home/looselot/virtualenvs/ENV-MAL/lib/python3.7/site-packages/tensorflow/python/distribute/distribute_lib.py:1286 run\n        return self._extended.call_for_each_replica(fn, args=args, kwargs=kwargs)\n    /home/looselot/virtualenvs/ENV-MAL/lib/python3.7/site-packages/tensorflow/python/distribute/distribute_lib.py:2849 call_for_each_replica\n        return self._call_for_each_replica(fn, args, kwargs)\n    /home/looselot/virtualenvs/ENV-MAL/lib/python3.7/site-packages/tensorflow/python/distribute/distribute_lib.py:3632 _call_for_each_replica\n        return fn(*args, **kwargs)\n    /home/looselot/virtualenvs/ENV-MAL/lib/python3.7/site-packages/keras/engine/training.py:835 run_step  **\n        outputs = model.train_step(data)\n    /home/looselot/virtualenvs/ENV-MAL/lib/python3.7/site-packages/keras/engine/training.py:789 train_step\n        y, y_pred, sample_weight, regularization_losses=self.losses)\n    /home/looselot/virtualenvs/ENV-MAL/lib/python3.7/site-packages/keras/engine/compile_utils.py:201 __call__\n        loss_value = loss_obj(y_t, y_p, sample_weight=sw)\n    /home/looselot/virtualenvs/ENV-MAL/lib/python3.7/site-packages/keras/losses.py:141 __call__\n        losses = call_fn(y_true, y_pred)\n    /home/looselot/virtualenvs/ENV-MAL/lib/python3.7/site-packages/keras/losses.py:245 call  **\n        return ag_fn(y_true, y_pred, **self._fn_kwargs)\n    /home/looselot/virtualenvs/ENV-MAL/lib/python3.7/site-packages/tensorflow/python/util/dispatch.py:206 wrapper\n        return target(*args, **kwargs)\n    /home/looselot/virtualenvs/ENV-MAL/lib/python3.7/site-packages/keras/losses.py:1809 binary_crossentropy\n        backend.binary_crossentropy(y_true, y_pred, from_logits=from_logits),\n    /home/looselot/virtualenvs/ENV-MAL/lib/python3.7/site-packages/tensorflow/python/util/dispatch.py:206 wrapper\n        return target(*args, **kwargs)\n    /home/looselot/virtualenvs/ENV-MAL/lib/python3.7/site-packages/keras/backend.py:5000 binary_crossentropy\n        return tf.nn.sigmoid_cross_entropy_with_logits(labels=target, logits=output)\n    /home/looselot/virtualenvs/ENV-MAL/lib/python3.7/site-packages/tensorflow/python/util/dispatch.py:206 wrapper\n        return target(*args, **kwargs)\n    /home/looselot/virtualenvs/ENV-MAL/lib/python3.7/site-packages/tensorflow/python/ops/nn_impl.py:246 sigmoid_cross_entropy_with_logits_v2\n        logits=logits, labels=labels, name=name)\n    /home/looselot/virtualenvs/ENV-MAL/lib/python3.7/site-packages/tensorflow/python/util/dispatch.py:206 wrapper\n        return target(*args, **kwargs)\n    /home/looselot/virtualenvs/ENV-MAL/lib/python3.7/site-packages/tensorflow/python/ops/nn_impl.py:133 sigmoid_cross_entropy_with_logits\n        (logits.get_shape(), labels.get_shape()))\n\n    ValueError: logits and labels must have the same shape ((66, 1) vs (1, 1))\n",
     "output_type": "error",
     "traceback": [
      "\u001b[0;31m---------------------------------------------------------------------------\u001b[0m",
      "\u001b[0;31mValueError\u001b[0m                                Traceback (most recent call last)",
      "\u001b[0;32m<ipython-input-138-e1fdd6f257eb>\u001b[0m in \u001b[0;36m<module>\u001b[0;34m\u001b[0m\n\u001b[1;32m     30\u001b[0m \u001b[0;34m\u001b[0m\u001b[0m\n\u001b[1;32m     31\u001b[0m \u001b[0mmodel\u001b[0m\u001b[0;34m.\u001b[0m\u001b[0msummary\u001b[0m\u001b[0;34m(\u001b[0m\u001b[0;34m)\u001b[0m\u001b[0;34m\u001b[0m\u001b[0;34m\u001b[0m\u001b[0m\n\u001b[0;32m---> 32\u001b[0;31m \u001b[0mhistory\u001b[0m \u001b[0;34m=\u001b[0m \u001b[0mmodel\u001b[0m\u001b[0;34m.\u001b[0m\u001b[0mfit\u001b[0m\u001b[0;34m(\u001b[0m\u001b[0mtr_tensor\u001b[0m\u001b[0;34m,\u001b[0m \u001b[0mepochs\u001b[0m\u001b[0;34m=\u001b[0m\u001b[0;36m1\u001b[0m\u001b[0;34m)\u001b[0m\u001b[0;34m\u001b[0m\u001b[0;34m\u001b[0m\u001b[0m\n\u001b[0m\u001b[1;32m     33\u001b[0m \u001b[0;34m\u001b[0m\u001b[0m\n\u001b[1;32m     34\u001b[0m \u001b[0;31m#                 validation_data=(X_val_seq, y_val_seq),\u001b[0m\u001b[0;34m\u001b[0m\u001b[0;34m\u001b[0m\u001b[0;34m\u001b[0m\u001b[0m\n",
      "\u001b[0;32m/home/looselot/virtualenvs/ENV-MAL/lib/python3.7/site-packages/keras/engine/training.py\u001b[0m in \u001b[0;36mfit\u001b[0;34m(self, x, y, batch_size, epochs, verbose, callbacks, validation_split, validation_data, shuffle, class_weight, sample_weight, initial_epoch, steps_per_epoch, validation_steps, validation_batch_size, validation_freq, max_queue_size, workers, use_multiprocessing)\u001b[0m\n\u001b[1;32m   1182\u001b[0m                 _r=1):\n\u001b[1;32m   1183\u001b[0m               \u001b[0mcallbacks\u001b[0m\u001b[0;34m.\u001b[0m\u001b[0mon_train_batch_begin\u001b[0m\u001b[0;34m(\u001b[0m\u001b[0mstep\u001b[0m\u001b[0;34m)\u001b[0m\u001b[0;34m\u001b[0m\u001b[0;34m\u001b[0m\u001b[0m\n\u001b[0;32m-> 1184\u001b[0;31m               \u001b[0mtmp_logs\u001b[0m \u001b[0;34m=\u001b[0m \u001b[0mself\u001b[0m\u001b[0;34m.\u001b[0m\u001b[0mtrain_function\u001b[0m\u001b[0;34m(\u001b[0m\u001b[0miterator\u001b[0m\u001b[0;34m)\u001b[0m\u001b[0;34m\u001b[0m\u001b[0;34m\u001b[0m\u001b[0m\n\u001b[0m\u001b[1;32m   1185\u001b[0m               \u001b[0;32mif\u001b[0m \u001b[0mdata_handler\u001b[0m\u001b[0;34m.\u001b[0m\u001b[0mshould_sync\u001b[0m\u001b[0;34m:\u001b[0m\u001b[0;34m\u001b[0m\u001b[0;34m\u001b[0m\u001b[0m\n\u001b[1;32m   1186\u001b[0m                 \u001b[0mcontext\u001b[0m\u001b[0;34m.\u001b[0m\u001b[0masync_wait\u001b[0m\u001b[0;34m(\u001b[0m\u001b[0;34m)\u001b[0m\u001b[0;34m\u001b[0m\u001b[0;34m\u001b[0m\u001b[0m\n",
      "\u001b[0;32m/home/looselot/virtualenvs/ENV-MAL/lib/python3.7/site-packages/tensorflow/python/eager/def_function.py\u001b[0m in \u001b[0;36m__call__\u001b[0;34m(self, *args, **kwds)\u001b[0m\n\u001b[1;32m    883\u001b[0m \u001b[0;34m\u001b[0m\u001b[0m\n\u001b[1;32m    884\u001b[0m       \u001b[0;32mwith\u001b[0m \u001b[0mOptionalXlaContext\u001b[0m\u001b[0;34m(\u001b[0m\u001b[0mself\u001b[0m\u001b[0;34m.\u001b[0m\u001b[0m_jit_compile\u001b[0m\u001b[0;34m)\u001b[0m\u001b[0;34m:\u001b[0m\u001b[0;34m\u001b[0m\u001b[0;34m\u001b[0m\u001b[0m\n\u001b[0;32m--> 885\u001b[0;31m         \u001b[0mresult\u001b[0m \u001b[0;34m=\u001b[0m \u001b[0mself\u001b[0m\u001b[0;34m.\u001b[0m\u001b[0m_call\u001b[0m\u001b[0;34m(\u001b[0m\u001b[0;34m*\u001b[0m\u001b[0margs\u001b[0m\u001b[0;34m,\u001b[0m \u001b[0;34m**\u001b[0m\u001b[0mkwds\u001b[0m\u001b[0;34m)\u001b[0m\u001b[0;34m\u001b[0m\u001b[0;34m\u001b[0m\u001b[0m\n\u001b[0m\u001b[1;32m    886\u001b[0m \u001b[0;34m\u001b[0m\u001b[0m\n\u001b[1;32m    887\u001b[0m       \u001b[0mnew_tracing_count\u001b[0m \u001b[0;34m=\u001b[0m \u001b[0mself\u001b[0m\u001b[0;34m.\u001b[0m\u001b[0mexperimental_get_tracing_count\u001b[0m\u001b[0;34m(\u001b[0m\u001b[0;34m)\u001b[0m\u001b[0;34m\u001b[0m\u001b[0;34m\u001b[0m\u001b[0m\n",
      "\u001b[0;32m/home/looselot/virtualenvs/ENV-MAL/lib/python3.7/site-packages/tensorflow/python/eager/def_function.py\u001b[0m in \u001b[0;36m_call\u001b[0;34m(self, *args, **kwds)\u001b[0m\n\u001b[1;32m    931\u001b[0m       \u001b[0;31m# This is the first call of __call__, so we have to initialize.\u001b[0m\u001b[0;34m\u001b[0m\u001b[0;34m\u001b[0m\u001b[0;34m\u001b[0m\u001b[0m\n\u001b[1;32m    932\u001b[0m       \u001b[0minitializers\u001b[0m \u001b[0;34m=\u001b[0m \u001b[0;34m[\u001b[0m\u001b[0;34m]\u001b[0m\u001b[0;34m\u001b[0m\u001b[0;34m\u001b[0m\u001b[0m\n\u001b[0;32m--> 933\u001b[0;31m       \u001b[0mself\u001b[0m\u001b[0;34m.\u001b[0m\u001b[0m_initialize\u001b[0m\u001b[0;34m(\u001b[0m\u001b[0margs\u001b[0m\u001b[0;34m,\u001b[0m \u001b[0mkwds\u001b[0m\u001b[0;34m,\u001b[0m \u001b[0madd_initializers_to\u001b[0m\u001b[0;34m=\u001b[0m\u001b[0minitializers\u001b[0m\u001b[0;34m)\u001b[0m\u001b[0;34m\u001b[0m\u001b[0;34m\u001b[0m\u001b[0m\n\u001b[0m\u001b[1;32m    934\u001b[0m     \u001b[0;32mfinally\u001b[0m\u001b[0;34m:\u001b[0m\u001b[0;34m\u001b[0m\u001b[0;34m\u001b[0m\u001b[0m\n\u001b[1;32m    935\u001b[0m       \u001b[0;31m# At this point we know that the initialization is complete (or less\u001b[0m\u001b[0;34m\u001b[0m\u001b[0;34m\u001b[0m\u001b[0;34m\u001b[0m\u001b[0m\n",
      "\u001b[0;32m/home/looselot/virtualenvs/ENV-MAL/lib/python3.7/site-packages/tensorflow/python/eager/def_function.py\u001b[0m in \u001b[0;36m_initialize\u001b[0;34m(self, args, kwds, add_initializers_to)\u001b[0m\n\u001b[1;32m    758\u001b[0m     self._concrete_stateful_fn = (\n\u001b[1;32m    759\u001b[0m         self._stateful_fn._get_concrete_function_internal_garbage_collected(  # pylint: disable=protected-access\n\u001b[0;32m--> 760\u001b[0;31m             *args, **kwds))\n\u001b[0m\u001b[1;32m    761\u001b[0m \u001b[0;34m\u001b[0m\u001b[0m\n\u001b[1;32m    762\u001b[0m     \u001b[0;32mdef\u001b[0m \u001b[0minvalid_creator_scope\u001b[0m\u001b[0;34m(\u001b[0m\u001b[0;34m*\u001b[0m\u001b[0munused_args\u001b[0m\u001b[0;34m,\u001b[0m \u001b[0;34m**\u001b[0m\u001b[0munused_kwds\u001b[0m\u001b[0;34m)\u001b[0m\u001b[0;34m:\u001b[0m\u001b[0;34m\u001b[0m\u001b[0;34m\u001b[0m\u001b[0m\n",
      "\u001b[0;32m/home/looselot/virtualenvs/ENV-MAL/lib/python3.7/site-packages/tensorflow/python/eager/function.py\u001b[0m in \u001b[0;36m_get_concrete_function_internal_garbage_collected\u001b[0;34m(self, *args, **kwargs)\u001b[0m\n\u001b[1;32m   3064\u001b[0m       \u001b[0margs\u001b[0m\u001b[0;34m,\u001b[0m \u001b[0mkwargs\u001b[0m \u001b[0;34m=\u001b[0m \u001b[0;32mNone\u001b[0m\u001b[0;34m,\u001b[0m \u001b[0;32mNone\u001b[0m\u001b[0;34m\u001b[0m\u001b[0;34m\u001b[0m\u001b[0m\n\u001b[1;32m   3065\u001b[0m     \u001b[0;32mwith\u001b[0m \u001b[0mself\u001b[0m\u001b[0;34m.\u001b[0m\u001b[0m_lock\u001b[0m\u001b[0;34m:\u001b[0m\u001b[0;34m\u001b[0m\u001b[0;34m\u001b[0m\u001b[0m\n\u001b[0;32m-> 3066\u001b[0;31m       \u001b[0mgraph_function\u001b[0m\u001b[0;34m,\u001b[0m \u001b[0m_\u001b[0m \u001b[0;34m=\u001b[0m \u001b[0mself\u001b[0m\u001b[0;34m.\u001b[0m\u001b[0m_maybe_define_function\u001b[0m\u001b[0;34m(\u001b[0m\u001b[0margs\u001b[0m\u001b[0;34m,\u001b[0m \u001b[0mkwargs\u001b[0m\u001b[0;34m)\u001b[0m\u001b[0;34m\u001b[0m\u001b[0;34m\u001b[0m\u001b[0m\n\u001b[0m\u001b[1;32m   3067\u001b[0m     \u001b[0;32mreturn\u001b[0m \u001b[0mgraph_function\u001b[0m\u001b[0;34m\u001b[0m\u001b[0;34m\u001b[0m\u001b[0m\n\u001b[1;32m   3068\u001b[0m \u001b[0;34m\u001b[0m\u001b[0m\n",
      "\u001b[0;32m/home/looselot/virtualenvs/ENV-MAL/lib/python3.7/site-packages/tensorflow/python/eager/function.py\u001b[0m in \u001b[0;36m_maybe_define_function\u001b[0;34m(self, args, kwargs)\u001b[0m\n\u001b[1;32m   3461\u001b[0m \u001b[0;34m\u001b[0m\u001b[0m\n\u001b[1;32m   3462\u001b[0m           \u001b[0mself\u001b[0m\u001b[0;34m.\u001b[0m\u001b[0m_function_cache\u001b[0m\u001b[0;34m.\u001b[0m\u001b[0mmissed\u001b[0m\u001b[0;34m.\u001b[0m\u001b[0madd\u001b[0m\u001b[0;34m(\u001b[0m\u001b[0mcall_context_key\u001b[0m\u001b[0;34m)\u001b[0m\u001b[0;34m\u001b[0m\u001b[0;34m\u001b[0m\u001b[0m\n\u001b[0;32m-> 3463\u001b[0;31m           \u001b[0mgraph_function\u001b[0m \u001b[0;34m=\u001b[0m \u001b[0mself\u001b[0m\u001b[0;34m.\u001b[0m\u001b[0m_create_graph_function\u001b[0m\u001b[0;34m(\u001b[0m\u001b[0margs\u001b[0m\u001b[0;34m,\u001b[0m \u001b[0mkwargs\u001b[0m\u001b[0;34m)\u001b[0m\u001b[0;34m\u001b[0m\u001b[0;34m\u001b[0m\u001b[0m\n\u001b[0m\u001b[1;32m   3464\u001b[0m           \u001b[0mself\u001b[0m\u001b[0;34m.\u001b[0m\u001b[0m_function_cache\u001b[0m\u001b[0;34m.\u001b[0m\u001b[0mprimary\u001b[0m\u001b[0;34m[\u001b[0m\u001b[0mcache_key\u001b[0m\u001b[0;34m]\u001b[0m \u001b[0;34m=\u001b[0m \u001b[0mgraph_function\u001b[0m\u001b[0;34m\u001b[0m\u001b[0;34m\u001b[0m\u001b[0m\n\u001b[1;32m   3465\u001b[0m \u001b[0;34m\u001b[0m\u001b[0m\n",
      "\u001b[0;32m/home/looselot/virtualenvs/ENV-MAL/lib/python3.7/site-packages/tensorflow/python/eager/function.py\u001b[0m in \u001b[0;36m_create_graph_function\u001b[0;34m(self, args, kwargs, override_flat_arg_shapes)\u001b[0m\n\u001b[1;32m   3306\u001b[0m             \u001b[0marg_names\u001b[0m\u001b[0;34m=\u001b[0m\u001b[0marg_names\u001b[0m\u001b[0;34m,\u001b[0m\u001b[0;34m\u001b[0m\u001b[0;34m\u001b[0m\u001b[0m\n\u001b[1;32m   3307\u001b[0m             \u001b[0moverride_flat_arg_shapes\u001b[0m\u001b[0;34m=\u001b[0m\u001b[0moverride_flat_arg_shapes\u001b[0m\u001b[0;34m,\u001b[0m\u001b[0;34m\u001b[0m\u001b[0;34m\u001b[0m\u001b[0m\n\u001b[0;32m-> 3308\u001b[0;31m             capture_by_value=self._capture_by_value),\n\u001b[0m\u001b[1;32m   3309\u001b[0m         \u001b[0mself\u001b[0m\u001b[0;34m.\u001b[0m\u001b[0m_function_attributes\u001b[0m\u001b[0;34m,\u001b[0m\u001b[0;34m\u001b[0m\u001b[0;34m\u001b[0m\u001b[0m\n\u001b[1;32m   3310\u001b[0m         \u001b[0mfunction_spec\u001b[0m\u001b[0;34m=\u001b[0m\u001b[0mself\u001b[0m\u001b[0;34m.\u001b[0m\u001b[0mfunction_spec\u001b[0m\u001b[0;34m,\u001b[0m\u001b[0;34m\u001b[0m\u001b[0;34m\u001b[0m\u001b[0m\n",
      "\u001b[0;32m/home/looselot/virtualenvs/ENV-MAL/lib/python3.7/site-packages/tensorflow/python/framework/func_graph.py\u001b[0m in \u001b[0;36mfunc_graph_from_py_func\u001b[0;34m(name, python_func, args, kwargs, signature, func_graph, autograph, autograph_options, add_control_dependencies, arg_names, op_return_value, collections, capture_by_value, override_flat_arg_shapes, acd_record_initial_resource_uses)\u001b[0m\n\u001b[1;32m   1005\u001b[0m         \u001b[0m_\u001b[0m\u001b[0;34m,\u001b[0m \u001b[0moriginal_func\u001b[0m \u001b[0;34m=\u001b[0m \u001b[0mtf_decorator\u001b[0m\u001b[0;34m.\u001b[0m\u001b[0munwrap\u001b[0m\u001b[0;34m(\u001b[0m\u001b[0mpython_func\u001b[0m\u001b[0;34m)\u001b[0m\u001b[0;34m\u001b[0m\u001b[0;34m\u001b[0m\u001b[0m\n\u001b[1;32m   1006\u001b[0m \u001b[0;34m\u001b[0m\u001b[0m\n\u001b[0;32m-> 1007\u001b[0;31m       \u001b[0mfunc_outputs\u001b[0m \u001b[0;34m=\u001b[0m \u001b[0mpython_func\u001b[0m\u001b[0;34m(\u001b[0m\u001b[0;34m*\u001b[0m\u001b[0mfunc_args\u001b[0m\u001b[0;34m,\u001b[0m \u001b[0;34m**\u001b[0m\u001b[0mfunc_kwargs\u001b[0m\u001b[0;34m)\u001b[0m\u001b[0;34m\u001b[0m\u001b[0;34m\u001b[0m\u001b[0m\n\u001b[0m\u001b[1;32m   1008\u001b[0m \u001b[0;34m\u001b[0m\u001b[0m\n\u001b[1;32m   1009\u001b[0m       \u001b[0;31m# invariant: `func_outputs` contains only Tensors, CompositeTensors,\u001b[0m\u001b[0;34m\u001b[0m\u001b[0;34m\u001b[0m\u001b[0;34m\u001b[0m\u001b[0m\n",
      "\u001b[0;32m/home/looselot/virtualenvs/ENV-MAL/lib/python3.7/site-packages/tensorflow/python/eager/def_function.py\u001b[0m in \u001b[0;36mwrapped_fn\u001b[0;34m(*args, **kwds)\u001b[0m\n\u001b[1;32m    666\u001b[0m         \u001b[0;31m# the function a weak reference to itself to avoid a reference cycle.\u001b[0m\u001b[0;34m\u001b[0m\u001b[0;34m\u001b[0m\u001b[0;34m\u001b[0m\u001b[0m\n\u001b[1;32m    667\u001b[0m         \u001b[0;32mwith\u001b[0m \u001b[0mOptionalXlaContext\u001b[0m\u001b[0;34m(\u001b[0m\u001b[0mcompile_with_xla\u001b[0m\u001b[0;34m)\u001b[0m\u001b[0;34m:\u001b[0m\u001b[0;34m\u001b[0m\u001b[0;34m\u001b[0m\u001b[0m\n\u001b[0;32m--> 668\u001b[0;31m           \u001b[0mout\u001b[0m \u001b[0;34m=\u001b[0m \u001b[0mweak_wrapped_fn\u001b[0m\u001b[0;34m(\u001b[0m\u001b[0;34m)\u001b[0m\u001b[0;34m.\u001b[0m\u001b[0m__wrapped__\u001b[0m\u001b[0;34m(\u001b[0m\u001b[0;34m*\u001b[0m\u001b[0margs\u001b[0m\u001b[0;34m,\u001b[0m \u001b[0;34m**\u001b[0m\u001b[0mkwds\u001b[0m\u001b[0;34m)\u001b[0m\u001b[0;34m\u001b[0m\u001b[0;34m\u001b[0m\u001b[0m\n\u001b[0m\u001b[1;32m    669\u001b[0m         \u001b[0;32mreturn\u001b[0m \u001b[0mout\u001b[0m\u001b[0;34m\u001b[0m\u001b[0;34m\u001b[0m\u001b[0m\n\u001b[1;32m    670\u001b[0m \u001b[0;34m\u001b[0m\u001b[0m\n",
      "\u001b[0;32m/home/looselot/virtualenvs/ENV-MAL/lib/python3.7/site-packages/tensorflow/python/framework/func_graph.py\u001b[0m in \u001b[0;36mwrapper\u001b[0;34m(*args, **kwargs)\u001b[0m\n\u001b[1;32m    992\u001b[0m           \u001b[0;32mexcept\u001b[0m \u001b[0mException\u001b[0m \u001b[0;32mas\u001b[0m \u001b[0me\u001b[0m\u001b[0;34m:\u001b[0m  \u001b[0;31m# pylint:disable=broad-except\u001b[0m\u001b[0;34m\u001b[0m\u001b[0;34m\u001b[0m\u001b[0m\n\u001b[1;32m    993\u001b[0m             \u001b[0;32mif\u001b[0m \u001b[0mhasattr\u001b[0m\u001b[0;34m(\u001b[0m\u001b[0me\u001b[0m\u001b[0;34m,\u001b[0m \u001b[0;34m\"ag_error_metadata\"\u001b[0m\u001b[0;34m)\u001b[0m\u001b[0;34m:\u001b[0m\u001b[0;34m\u001b[0m\u001b[0;34m\u001b[0m\u001b[0m\n\u001b[0;32m--> 994\u001b[0;31m               \u001b[0;32mraise\u001b[0m \u001b[0me\u001b[0m\u001b[0;34m.\u001b[0m\u001b[0mag_error_metadata\u001b[0m\u001b[0;34m.\u001b[0m\u001b[0mto_exception\u001b[0m\u001b[0;34m(\u001b[0m\u001b[0me\u001b[0m\u001b[0;34m)\u001b[0m\u001b[0;34m\u001b[0m\u001b[0;34m\u001b[0m\u001b[0m\n\u001b[0m\u001b[1;32m    995\u001b[0m             \u001b[0;32melse\u001b[0m\u001b[0;34m:\u001b[0m\u001b[0;34m\u001b[0m\u001b[0;34m\u001b[0m\u001b[0m\n\u001b[1;32m    996\u001b[0m               \u001b[0;32mraise\u001b[0m\u001b[0;34m\u001b[0m\u001b[0;34m\u001b[0m\u001b[0m\n",
      "\u001b[0;31mValueError\u001b[0m: in user code:\n\n    /home/looselot/virtualenvs/ENV-MAL/lib/python3.7/site-packages/keras/engine/training.py:853 train_function  *\n        return step_function(self, iterator)\n    /home/looselot/virtualenvs/ENV-MAL/lib/python3.7/site-packages/keras/engine/training.py:842 step_function  **\n        outputs = model.distribute_strategy.run(run_step, args=(data,))\n    /home/looselot/virtualenvs/ENV-MAL/lib/python3.7/site-packages/tensorflow/python/distribute/distribute_lib.py:1286 run\n        return self._extended.call_for_each_replica(fn, args=args, kwargs=kwargs)\n    /home/looselot/virtualenvs/ENV-MAL/lib/python3.7/site-packages/tensorflow/python/distribute/distribute_lib.py:2849 call_for_each_replica\n        return self._call_for_each_replica(fn, args, kwargs)\n    /home/looselot/virtualenvs/ENV-MAL/lib/python3.7/site-packages/tensorflow/python/distribute/distribute_lib.py:3632 _call_for_each_replica\n        return fn(*args, **kwargs)\n    /home/looselot/virtualenvs/ENV-MAL/lib/python3.7/site-packages/keras/engine/training.py:835 run_step  **\n        outputs = model.train_step(data)\n    /home/looselot/virtualenvs/ENV-MAL/lib/python3.7/site-packages/keras/engine/training.py:789 train_step\n        y, y_pred, sample_weight, regularization_losses=self.losses)\n    /home/looselot/virtualenvs/ENV-MAL/lib/python3.7/site-packages/keras/engine/compile_utils.py:201 __call__\n        loss_value = loss_obj(y_t, y_p, sample_weight=sw)\n    /home/looselot/virtualenvs/ENV-MAL/lib/python3.7/site-packages/keras/losses.py:141 __call__\n        losses = call_fn(y_true, y_pred)\n    /home/looselot/virtualenvs/ENV-MAL/lib/python3.7/site-packages/keras/losses.py:245 call  **\n        return ag_fn(y_true, y_pred, **self._fn_kwargs)\n    /home/looselot/virtualenvs/ENV-MAL/lib/python3.7/site-packages/tensorflow/python/util/dispatch.py:206 wrapper\n        return target(*args, **kwargs)\n    /home/looselot/virtualenvs/ENV-MAL/lib/python3.7/site-packages/keras/losses.py:1809 binary_crossentropy\n        backend.binary_crossentropy(y_true, y_pred, from_logits=from_logits),\n    /home/looselot/virtualenvs/ENV-MAL/lib/python3.7/site-packages/tensorflow/python/util/dispatch.py:206 wrapper\n        return target(*args, **kwargs)\n    /home/looselot/virtualenvs/ENV-MAL/lib/python3.7/site-packages/keras/backend.py:5000 binary_crossentropy\n        return tf.nn.sigmoid_cross_entropy_with_logits(labels=target, logits=output)\n    /home/looselot/virtualenvs/ENV-MAL/lib/python3.7/site-packages/tensorflow/python/util/dispatch.py:206 wrapper\n        return target(*args, **kwargs)\n    /home/looselot/virtualenvs/ENV-MAL/lib/python3.7/site-packages/tensorflow/python/ops/nn_impl.py:246 sigmoid_cross_entropy_with_logits_v2\n        logits=logits, labels=labels, name=name)\n    /home/looselot/virtualenvs/ENV-MAL/lib/python3.7/site-packages/tensorflow/python/util/dispatch.py:206 wrapper\n        return target(*args, **kwargs)\n    /home/looselot/virtualenvs/ENV-MAL/lib/python3.7/site-packages/tensorflow/python/ops/nn_impl.py:133 sigmoid_cross_entropy_with_logits\n        (logits.get_shape(), labels.get_shape()))\n\n    ValueError: logits and labels must have the same shape ((66, 1) vs (1, 1))\n"
     ]
    }
   ],
   "source": [
    "model = Sequential()\n",
    "\n",
    "model.add(Embedding(100, 200, input_length = input_length, mask_zero=True))\n",
    "#model.add(Conv1D(filters=32, kernel_size=3, padding='same', activation='relu'))\n",
    "#model.add(MaxPooling1D(pool_size=2))\n",
    "model.add(LSTM(64,return_sequences=True,dropout=0.1))\n",
    "model.add(LSTM(32,return_sequences=True,dropout=0.1))\n",
    "model.add(LSTM(32))\n",
    "#model.add(Dropout(0.2))\n",
    "model.add(Dense(64,activation='sigmoid'))\n",
    "#model.add(Dense(128))\n",
    "model.add(Dense(1, activation='sigmoid'))\n",
    "model.compile(loss='binary_crossentropy',\n",
    "              metrics=[tf.keras.metrics.Precision(), tf.keras.metrics.Recall(), 'accuracy'],\n",
    "             sample_weight_mode=\"temporal\")\n",
    "#model.add(Embedding(input_dim=n_alarms, output_dim=200, input_length=mean_length, mask_zero=True))\n",
    "#model.add(LSTM(64,return_sequences=True))\n",
    "\n",
    "# ## model.add(LSTM(64,return_sequences=True))\n",
    "# ## model.add(Dropout(0.2))\n",
    "# ## model.add(Dense(64))\n",
    "# ## model.add(Embedding(input_dim = n_alarms,output_dim=100,input_length=64, mask_zero=True))\n",
    "# ## model.add(LSTM(100))\n",
    "# ## model.add(Dropout(0.2))\n",
    "# #model.add(Dense(32,input_shape=(66,)))\n",
    "# model.add(Dense(32))\n",
    "# model.add(Dense(1, activation = 'sigmoid'))\n",
    "# model.compile(loss=\"binary_crossentropy\", metrics=[tf.keras.metrics.Precision(), tf.keras.metrics.Recall(), 'accuracy'],\n",
    "#              )\n",
    "\n",
    "model.summary()\n",
    "history = model.fit(tr_tensor, epochs=1)\n",
    "\n",
    "#                 validation_data=(X_val_seq, y_val_seq), \n",
    "#                 class_weight=class_weights_dict)\n",
    "evaluate = model.evaluate(ts_tensor)"
   ]
  },
  {
   "cell_type": "code",
   "execution_count": 182,
   "id": "2a2c20fc",
   "metadata": {},
   "outputs": [
    {
     "name": "stdout",
     "output_type": "stream",
     "text": [
      "Threshold value is: 0.0812124\n",
      "[[2820    1]\n",
      " [ 364    0]]\n",
      "Precision:  0.0\n",
      "Recall:  0.0\n"
     ]
    }
   ],
   "source": [
    "#Prediction for last alarms \n",
    "from sklearn.metrics import classification_report, confusion_matrix\n",
    "y_pred_last = model.predict(X_ts_last)\n",
    "\n",
    "#Finding the correct threshold for the prediction probability \n",
    "from sklearn.metrics import roc_curve\n",
    "\n",
    "fpr, tpr, thresholds = roc_curve(y_ts_last, y_pred_last)\n",
    "optimal_idx = np.argmax(tpr - fpr)\n",
    "optimal_threshold = thresholds[optimal_idx]\n",
    "print(\"Threshold value is:\", optimal_threshold)\n",
    "\n",
    "y_pred_classes = [1 if i>=0.19547457 else 0 for i in y_pred_last]\n",
    "\n",
    "print(confusion_matrix(y_ts_last,y_pred_classes))\n",
    "\n",
    "from sklearn.metrics import precision_score\n",
    "from sklearn.metrics import recall_score\n",
    "print('Precision: ', precision_score(y_ts_last, y_pred_classes))\n",
    "print('Recall: ',recall_score(y_ts_last,y_pred_classes))"
   ]
  },
  {
   "cell_type": "code",
   "execution_count": 111,
   "id": "838e31ae",
   "metadata": {},
   "outputs": [],
   "source": [
    "from sklearn.metrics import classification_report, confusion_matrix\n",
    "y_pred = model.predict(pad_X_ts)"
   ]
  },
  {
   "cell_type": "code",
   "execution_count": 112,
   "id": "ea8b1440",
   "metadata": {},
   "outputs": [],
   "source": [
    "y_pred_tr = model.predict(pad_X_tr_smote)"
   ]
  },
  {
   "cell_type": "code",
   "execution_count": 113,
   "id": "c3b7151d",
   "metadata": {},
   "outputs": [
    {
     "data": {
      "text/plain": [
       "array([[0.08234662],\n",
       "       [0.10907879],\n",
       "       [0.09238783],\n",
       "       ...,\n",
       "       [0.99087316],\n",
       "       [0.99234456],\n",
       "       [0.9928473 ]], dtype=float32)"
      ]
     },
     "execution_count": 113,
     "metadata": {},
     "output_type": "execute_result"
    }
   ],
   "source": [
    "y_pred_tr"
   ]
  },
  {
   "cell_type": "code",
   "execution_count": 114,
   "id": "e3ec67e4",
   "metadata": {},
   "outputs": [
    {
     "data": {
      "text/plain": [
       "array([[0.07431686],\n",
       "       [0.07096049],\n",
       "       [0.09277186],\n",
       "       ...,\n",
       "       [0.08759838],\n",
       "       [0.08759838],\n",
       "       [0.08759838]], dtype=float32)"
      ]
     },
     "execution_count": 114,
     "metadata": {},
     "output_type": "execute_result"
    }
   ],
   "source": [
    "y_pred"
   ]
  },
  {
   "cell_type": "code",
   "execution_count": 117,
   "id": "ad1f3187",
   "metadata": {},
   "outputs": [
    {
     "name": "stdout",
     "output_type": "stream",
     "text": [
      "Threshold value is: 0.19547457\n"
     ]
    }
   ],
   "source": [
    "#Finding the correct threshold for the prediction probability \n",
    "from sklearn.metrics import roc_curve\n",
    "\n",
    "fpr, tpr, thresholds = roc_curve(y_ts, y_pred)\n",
    "optimal_idx = np.argmax(tpr - fpr)\n",
    "optimal_threshold = thresholds[optimal_idx]\n",
    "print(\"Threshold value is:\", optimal_threshold)"
   ]
  },
  {
   "cell_type": "code",
   "execution_count": 118,
   "id": "b4f778e5",
   "metadata": {},
   "outputs": [
    {
     "name": "stdout",
     "output_type": "stream",
     "text": [
      "[[6710 3653]\n",
      " [ 562  706]]\n",
      "Precision:  0.1619637531543932\n",
      "Recall:  0.556782334384858\n"
     ]
    }
   ],
   "source": [
    "y_pred_classes = [1 if i>=0.19547457 else 0 for i in y_pred]\n",
    "\n",
    "print(confusion_matrix(y_ts,y_pred_classes))\n",
    "from sklearn.metrics import precision_score\n",
    "from sklearn.metrics import recall_score\n",
    "print('Precision: ', precision_score(y_ts, y_pred_classes))\n",
    "print('Recall: ',recall_score(y_ts,y_pred_classes))"
   ]
  },
  {
   "cell_type": "code",
   "execution_count": 24,
   "id": "8d75afa3",
   "metadata": {},
   "outputs": [
    {
     "data": {
      "text/plain": [
       "array([[0.05249625],\n",
       "       [0.04950985],\n",
       "       [0.08126721],\n",
       "       ...,\n",
       "       [0.04248771],\n",
       "       [0.04248771],\n",
       "       [0.04248771]], dtype=float32)"
      ]
     },
     "execution_count": 24,
     "metadata": {},
     "output_type": "execute_result"
    }
   ],
   "source": [
    "from sklearn.metrics import precision_score\n",
    "from sklearn.metrics import recall_score\n",
    "precision_score(y_ts, y_pred_classes)\n",
    "recall_score(y_ts,y_pred_classes)"
   ]
  },
  {
   "cell_type": "code",
   "execution_count": 37,
   "id": "364c29fb",
   "metadata": {},
   "outputs": [],
   "source": [
    "#PRINTING EMBEDDING OUTPUT\n",
    "from keras import backend as K\n",
    "embedding_output = K.function([model.layers[0].input],\n",
    "                                  [model.layers[0].output])\n",
    "layer_output = embedding_output([pad_X_tr_smote])[0]"
   ]
  },
  {
   "cell_type": "code",
   "execution_count": 57,
   "id": "cce12df2",
   "metadata": {},
   "outputs": [
    {
     "data": {
      "text/plain": [
       "array([[[-2.3895418e-02, -1.6276203e-02,  3.1923268e-02, ...,\n",
       "         -3.8270272e-02, -4.0735424e-02, -4.2077791e-02],\n",
       "        [-2.3895418e-02, -1.6276203e-02,  3.1923268e-02, ...,\n",
       "         -3.8270272e-02, -4.0735424e-02, -4.2077791e-02],\n",
       "        [-2.3895418e-02, -1.6276203e-02,  3.1923268e-02, ...,\n",
       "         -3.8270272e-02, -4.0735424e-02, -4.2077791e-02],\n",
       "        ...,\n",
       "        [-1.1178352e-01, -2.6677804e-02,  6.2990971e-02, ...,\n",
       "          2.5753653e-01, -1.1366834e-01,  2.7692720e-01],\n",
       "        [ 6.4532846e-02, -2.9874226e-01, -2.9774123e-01, ...,\n",
       "          1.3571341e-01,  2.4962841e-01,  1.5970303e-01],\n",
       "        [ 1.4041986e-02, -3.8650730e-01, -2.1490693e-01, ...,\n",
       "          4.4231106e-02,  3.4318039e-01,  2.9738441e-01]],\n",
       "\n",
       "       [[-2.3895418e-02, -1.6276203e-02,  3.1923268e-02, ...,\n",
       "         -3.8270272e-02, -4.0735424e-02, -4.2077791e-02],\n",
       "        [-2.3895418e-02, -1.6276203e-02,  3.1923268e-02, ...,\n",
       "         -3.8270272e-02, -4.0735424e-02, -4.2077791e-02],\n",
       "        [-2.3895418e-02, -1.6276203e-02,  3.1923268e-02, ...,\n",
       "         -3.8270272e-02, -4.0735424e-02, -4.2077791e-02],\n",
       "        ...,\n",
       "        [-1.1178352e-01, -2.6677804e-02,  6.2990971e-02, ...,\n",
       "          2.5753653e-01, -1.1366834e-01,  2.7692720e-01],\n",
       "        [ 8.5773431e-02, -3.2112624e-02,  3.0357793e-01, ...,\n",
       "          4.0467900e-01, -1.1439020e-01,  1.6802052e-01],\n",
       "        [-7.3004872e-02,  1.7424430e-01, -1.6985087e-01, ...,\n",
       "          3.2275978e-02,  7.2372861e-02,  2.6399935e-02]],\n",
       "\n",
       "       [[-2.3895418e-02, -1.6276203e-02,  3.1923268e-02, ...,\n",
       "         -3.8270272e-02, -4.0735424e-02, -4.2077791e-02],\n",
       "        [-2.3895418e-02, -1.6276203e-02,  3.1923268e-02, ...,\n",
       "         -3.8270272e-02, -4.0735424e-02, -4.2077791e-02],\n",
       "        [-2.3895418e-02, -1.6276203e-02,  3.1923268e-02, ...,\n",
       "         -3.8270272e-02, -4.0735424e-02, -4.2077791e-02],\n",
       "        ...,\n",
       "        [-4.9574438e-02, -2.0511748e-01,  6.4043246e-02, ...,\n",
       "          1.6762105e-01,  1.5406668e-01,  2.8549215e-01],\n",
       "        [-4.9574438e-02, -2.0511748e-01,  6.4043246e-02, ...,\n",
       "          1.6762105e-01,  1.5406668e-01,  2.8549215e-01],\n",
       "        [-4.9574438e-02, -2.0511748e-01,  6.4043246e-02, ...,\n",
       "          1.6762105e-01,  1.5406668e-01,  2.8549215e-01]],\n",
       "\n",
       "       ...,\n",
       "\n",
       "       [[ 4.8299093e-02, -8.4198173e-03, -8.9162752e-02, ...,\n",
       "          5.2686691e-01, -5.8579579e-02, -1.3832313e-02],\n",
       "        [ 7.5120583e-02, -5.1387656e-02,  5.5360403e-02, ...,\n",
       "          4.5034744e-02, -2.0337938e-01,  1.7828722e-02],\n",
       "        [ 5.1828995e-02,  3.3648863e-01, -4.0192279e-01, ...,\n",
       "         -2.2725706e-01,  1.1002636e-01,  3.0297411e-04],\n",
       "        ...,\n",
       "        [ 2.6262328e-01, -1.6117372e-01, -2.4394194e-02, ...,\n",
       "         -2.9265936e-02,  6.6892460e-02, -3.5319552e-01],\n",
       "        [ 7.5120583e-02, -5.1387656e-02,  5.5360403e-02, ...,\n",
       "          4.5034744e-02, -2.0337938e-01,  1.7828722e-02],\n",
       "        [ 4.2557508e-02,  1.8334013e-01, -2.2483349e-02, ...,\n",
       "         -8.3098980e-03, -2.1425343e-01, -4.0070448e-02]],\n",
       "\n",
       "       [[-8.3030118e-03, -2.2401072e-02, -4.0031441e-02, ...,\n",
       "         -2.0175730e-01,  1.4223330e-01,  3.9757986e-02],\n",
       "        [-8.3030118e-03, -2.2401072e-02, -4.0031441e-02, ...,\n",
       "         -2.0175730e-01,  1.4223330e-01,  3.9757986e-02],\n",
       "        [-8.3030118e-03, -2.2401072e-02, -4.0031441e-02, ...,\n",
       "         -2.0175730e-01,  1.4223330e-01,  3.9757986e-02],\n",
       "        ...,\n",
       "        [ 7.5120583e-02, -5.1387656e-02,  5.5360403e-02, ...,\n",
       "          4.5034744e-02, -2.0337938e-01,  1.7828722e-02],\n",
       "        [ 7.5120583e-02, -5.1387656e-02,  5.5360403e-02, ...,\n",
       "          4.5034744e-02, -2.0337938e-01,  1.7828722e-02],\n",
       "        [ 7.5120583e-02, -5.1387656e-02,  5.5360403e-02, ...,\n",
       "          4.5034744e-02, -2.0337938e-01,  1.7828722e-02]],\n",
       "\n",
       "       [[-2.0658746e-01,  2.6304254e-01,  5.5931765e-01, ...,\n",
       "         -1.7406932e-01, -3.0365205e-01, -8.0686674e-04],\n",
       "        [-9.8685421e-02,  6.2500976e-02,  6.3222989e-02, ...,\n",
       "          1.2576725e-02, -2.5109714e-01, -8.5694030e-02],\n",
       "        [-2.0658746e-01,  2.6304254e-01,  5.5931765e-01, ...,\n",
       "         -1.7406932e-01, -3.0365205e-01, -8.0686674e-04],\n",
       "        ...,\n",
       "        [ 6.4532846e-02, -2.9874226e-01, -2.9774123e-01, ...,\n",
       "          1.3571341e-01,  2.4962841e-01,  1.5970303e-01],\n",
       "        [ 7.5120583e-02, -5.1387656e-02,  5.5360403e-02, ...,\n",
       "          4.5034744e-02, -2.0337938e-01,  1.7828722e-02],\n",
       "        [ 6.4532846e-02, -2.9874226e-01, -2.9774123e-01, ...,\n",
       "          1.3571341e-01,  2.4962841e-01,  1.5970303e-01]]], dtype=float32)"
      ]
     },
     "execution_count": 57,
     "metadata": {},
     "output_type": "execute_result"
    }
   ],
   "source": [
    "layer_output"
   ]
  },
  {
   "cell_type": "code",
   "execution_count": null,
   "id": "778d4ea2",
   "metadata": {},
   "outputs": [],
   "source": [
    "model = Sequential()\n",
    "model.add(Embedding(input_dim=n_alarms, output_dim=10, input_length=X_train.shape[1], mask_zero=True))\n",
    "model.add(Conv1D(64,15,strides=2,input_shape=(X_train.shape[1], 1), use_bias=False, activation='relu'))\n",
    "model.add(Conv1D(64,3))\n",
    "model.add(Conv1D(64,3,strides=2, activation=\"relu\"))\n",
    "model.add(Conv1D(64,3))\n",
    "model.add(Conv1D(64,3,strides=2))\n",
    "model.add(BatchNormalization())\n",
    "model.add(Dense(1, activation=\"sigmoid\"))\n",
    "\n",
    "model.compile(optimizer=\"adam\", loss=\"binary_crossentropy\", metrics=[tf.keras.metrics.Precision(), tf.keras.metrics.Recall(), 'accuracy'])\n"
   ]
  },
  {
   "cell_type": "code",
   "execution_count": 12,
   "id": "28197e16",
   "metadata": {},
   "outputs": [],
   "source": [
    "# def create_model(padded_alarm, n_alarms):\n",
    "#     model = Sequential()\n",
    "#     model.add(Input(shape=(padded_alarm.shape[1])))\n",
    "#     model.add(Embedding(n_alarms, 128, mask_zero=True))\n",
    "#     model.add(Conv1D(filters=32, kernel_size=3, padding='same', activation='relu'))\n",
    "#     model.add(Bidirectional(LSTM(10)))\n",
    "#     model.add(Dropout(0.3))\n",
    "#     model.add(Dense(10, activation='relu'))\n",
    "#     model.add(Dense(1, activation='sigmoid'))\n",
    "\n",
    "#     model.compile(optimizer='adam', loss='binary_crossentropy', metrics=[tf.keras.metrics.Precision(), tf.keras.metrics.Recall(), 'accuracy'])\n",
    "    \n",
    "#     return model\n",
    "\n",
    "def create_model(X_train, n_alarm):\n",
    "    model = Sequential()\n",
    "    model.add(Embedding(input_dim=n_alarms, output_dim=10, input_length=X_train.shape[1], mask_zero=True))\n",
    "    model.add(Conv1D(64,15,strides=2,input_shape=(X_train.shape[1], 1), use_bias=False, activation='relu'))\n",
    "    model.add(Conv1D(64,3))\n",
    "    model.add(Conv1D(64,3,strides=2, activation=\"relu\"))\n",
    "    model.add(Conv1D(64,3))\n",
    "    model.add(Conv1D(64,3,strides=2))\n",
    "    model.add(BatchNormalization())\n",
    "    model.add(Dense(1, activation=\"sigmoid\"))\n",
    "\n",
    "    model.compile(optimizer=\"adam\", loss=\"binary_crossentropy\", metrics=[tf.keras.metrics.Precision(), tf.keras.metrics.Recall(), 'accuracy'])\n",
    "\n",
    "    return model"
   ]
  },
  {
   "cell_type": "code",
   "execution_count": 4,
   "id": "3a6bf92d",
   "metadata": {},
   "outputs": [],
   "source": [
    "def randomly_select_negative(X_seq, major_down_arr, ratio):\n",
    "    bool_arr = [ele==0 for ele in major_down_arr]\n",
    "    major_arr = np.array(major_down_arr)[np.where(bool_arr)[0]]\n",
    "    print(len(major_arr), len(major_down_arr))\n",
    "    negative = X_seq[np.where(bool_arr)[0]]\n",
    "    \n",
    "    positive_bool_arr = [ele==1 for ele in major_down_arr]\n",
    "    positive_major_arr = np.array(major_down_arr)[np.where(positive_bool_arr)[0]]\n",
    "    print(len(positive_major_arr))\n",
    "    positive = X_seq[np.where(positive_bool_arr)[0]]\n",
    "    \n",
    "    discard, keep, target_discard, target_keep = train_test_split(negative, major_arr, test_size=ratio)\n",
    "    \n",
    "    handpicked = np.concatenate((positive, keep))\n",
    "    target = np.concatenate((positive_major_arr, target_keep))\n",
    "    \n",
    "    if len(handpicked) != len(target):\n",
    "        raise Exception(\"Length of training inputs are different\")\n",
    "    \n",
    "    return handpicked, target"
   ]
  },
  {
   "cell_type": "code",
   "execution_count": 5,
   "id": "40286b40",
   "metadata": {},
   "outputs": [],
   "source": [
    "def remove_empty_datapoint(X_seq, major_down_arr):\n",
    "    bool_arr = [len(ele)==0 for ele in X_seq] #this is to find the index to remove for bot y array and X_seq\n",
    "    idx_remove = np.where(bool_arr)[0]\n",
    "    major_down_arr = np.delete(np.array(major_down_arr), idx_remove) # remove the corresponding y value as well\n",
    "    X_seq = np.delete(X_seq, idx_remove) #remove rows with no alarms\n",
    "    return X_seq, major_down_arr"
   ]
  },
  {
   "cell_type": "code",
   "execution_count": 11,
   "id": "2aa23fb5",
   "metadata": {
    "scrolled": true
   },
   "outputs": [],
   "source": [
    "monitor = 'val_recall'\n",
    "\n",
    "#shuffle the X and Y values to make generalize better\n",
    "shuffled = shuffle(encoded_X_seq, target)\n",
    "encoded_X_seq = shuffled[0]\n",
    "target = shuffled[1]\n",
    "\n",
    "# padding to average length\n",
    "mean_length = int(np.mean([len(x) for x in encoded_X_seq]))\n",
    "padded_alarm = np.zeros([len(encoded_X_seq), mean_length])\n",
    "for i,j in enumerate(encoded_X_seq):\n",
    "    padded_alarm[i][0:len(j)] = j[:mean_length]\n",
    "\n",
    "#train_val_test split\n",
    "X_train_seq, X_val_seq, y_train_seq, y_val_seq =  train_test_split(padded_alarm, target, test_size=0.4, random_state=42, stratify=target)\n",
    "X_val_seq, X_test_seq, y_val_seq, y_test_seq =  train_test_split(X_val_seq, y_val_seq, test_size=0.4, random_state=42, stratify=y_val_seq)"
   ]
  },
  {
   "cell_type": "code",
   "execution_count": 59,
   "id": "5c2795b3",
   "metadata": {},
   "outputs": [
    {
     "name": "stdout",
     "output_type": "stream",
     "text": [
      "Epoch 1/300\n"
     ]
    },
    {
     "ename": "ValueError",
     "evalue": "in user code:\n\n    /home/looselot/virtualenvs/ENV-MAL/lib/python3.7/site-packages/keras/engine/training.py:853 train_function  *\n        return step_function(self, iterator)\n    /home/looselot/virtualenvs/ENV-MAL/lib/python3.7/site-packages/keras/engine/training.py:842 step_function  **\n        outputs = model.distribute_strategy.run(run_step, args=(data,))\n    /home/looselot/virtualenvs/ENV-MAL/lib/python3.7/site-packages/tensorflow/python/distribute/distribute_lib.py:1286 run\n        return self._extended.call_for_each_replica(fn, args=args, kwargs=kwargs)\n    /home/looselot/virtualenvs/ENV-MAL/lib/python3.7/site-packages/tensorflow/python/distribute/distribute_lib.py:2849 call_for_each_replica\n        return self._call_for_each_replica(fn, args, kwargs)\n    /home/looselot/virtualenvs/ENV-MAL/lib/python3.7/site-packages/tensorflow/python/distribute/distribute_lib.py:3632 _call_for_each_replica\n        return fn(*args, **kwargs)\n    /home/looselot/virtualenvs/ENV-MAL/lib/python3.7/site-packages/keras/engine/training.py:835 run_step  **\n        outputs = model.train_step(data)\n    /home/looselot/virtualenvs/ENV-MAL/lib/python3.7/site-packages/keras/engine/training.py:792 train_step\n        self.compiled_metrics.update_state(y, y_pred, sample_weight)\n    /home/looselot/virtualenvs/ENV-MAL/lib/python3.7/site-packages/keras/engine/compile_utils.py:457 update_state\n        metric_obj.update_state(y_t, y_p, sample_weight=mask)\n    /home/looselot/virtualenvs/ENV-MAL/lib/python3.7/site-packages/keras/utils/metrics_utils.py:73 decorated\n        update_op = update_state_fn(*args, **kwargs)\n    /home/looselot/virtualenvs/ENV-MAL/lib/python3.7/site-packages/keras/metrics.py:177 update_state_fn\n        return ag_update_state(*args, **kwargs)\n    /home/looselot/virtualenvs/ENV-MAL/lib/python3.7/site-packages/keras/metrics.py:1366 update_state  **\n        sample_weight=sample_weight)\n    /home/looselot/virtualenvs/ENV-MAL/lib/python3.7/site-packages/keras/utils/metrics_utils.py:623 update_confusion_matrix_variables\n        y_pred.shape.assert_is_compatible_with(y_true.shape)\n    /home/looselot/virtualenvs/ENV-MAL/lib/python3.7/site-packages/tensorflow/python/framework/tensor_shape.py:1161 assert_is_compatible_with\n        raise ValueError(\"Shapes %s and %s are incompatible\" % (self, other))\n\n    ValueError: Shapes (None, 2) and (None, 1) are incompatible\n",
     "output_type": "error",
     "traceback": [
      "\u001b[0;31m---------------------------------------------------------------------------\u001b[0m",
      "\u001b[0;31mValueError\u001b[0m                                Traceback (most recent call last)",
      "\u001b[0;32m<ipython-input-59-6a6910432b37>\u001b[0m in \u001b[0;36m<module>\u001b[0;34m\u001b[0m\n\u001b[1;32m      8\u001b[0m                 \u001b[0mbatch_size\u001b[0m\u001b[0;34m=\u001b[0m\u001b[0mBATCH_SIZE\u001b[0m\u001b[0;34m,\u001b[0m \u001b[0mepochs\u001b[0m\u001b[0;34m=\u001b[0m\u001b[0mEPOCHS\u001b[0m\u001b[0;34m,\u001b[0m\u001b[0;34m\u001b[0m\u001b[0;34m\u001b[0m\u001b[0m\n\u001b[1;32m      9\u001b[0m                 \u001b[0mvalidation_data\u001b[0m\u001b[0;34m=\u001b[0m\u001b[0;34m(\u001b[0m\u001b[0mX_val_seq\u001b[0m\u001b[0;34m,\u001b[0m \u001b[0my_val_seq\u001b[0m\u001b[0;34m)\u001b[0m\u001b[0;34m,\u001b[0m\u001b[0;34m\u001b[0m\u001b[0;34m\u001b[0m\u001b[0m\n\u001b[0;32m---> 10\u001b[0;31m                 callbacks=callbacks)\n\u001b[0m\u001b[1;32m     11\u001b[0m \u001b[0;34m\u001b[0m\u001b[0m\n\u001b[1;32m     12\u001b[0m \u001b[0mevaluate\u001b[0m \u001b[0;34m=\u001b[0m \u001b[0mmodel\u001b[0m\u001b[0;34m.\u001b[0m\u001b[0mevaluate\u001b[0m\u001b[0;34m(\u001b[0m\u001b[0mX_test_seq\u001b[0m\u001b[0;34m,\u001b[0m \u001b[0my_test_seq\u001b[0m\u001b[0;34m)\u001b[0m \u001b[0;31m#loss, mse\u001b[0m\u001b[0;34m\u001b[0m\u001b[0;34m\u001b[0m\u001b[0m\n",
      "\u001b[0;32m/home/looselot/virtualenvs/ENV-MAL/lib/python3.7/site-packages/keras/engine/training.py\u001b[0m in \u001b[0;36mfit\u001b[0;34m(self, x, y, batch_size, epochs, verbose, callbacks, validation_split, validation_data, shuffle, class_weight, sample_weight, initial_epoch, steps_per_epoch, validation_steps, validation_batch_size, validation_freq, max_queue_size, workers, use_multiprocessing)\u001b[0m\n\u001b[1;32m   1182\u001b[0m                 _r=1):\n\u001b[1;32m   1183\u001b[0m               \u001b[0mcallbacks\u001b[0m\u001b[0;34m.\u001b[0m\u001b[0mon_train_batch_begin\u001b[0m\u001b[0;34m(\u001b[0m\u001b[0mstep\u001b[0m\u001b[0;34m)\u001b[0m\u001b[0;34m\u001b[0m\u001b[0;34m\u001b[0m\u001b[0m\n\u001b[0;32m-> 1184\u001b[0;31m               \u001b[0mtmp_logs\u001b[0m \u001b[0;34m=\u001b[0m \u001b[0mself\u001b[0m\u001b[0;34m.\u001b[0m\u001b[0mtrain_function\u001b[0m\u001b[0;34m(\u001b[0m\u001b[0miterator\u001b[0m\u001b[0;34m)\u001b[0m\u001b[0;34m\u001b[0m\u001b[0;34m\u001b[0m\u001b[0m\n\u001b[0m\u001b[1;32m   1185\u001b[0m               \u001b[0;32mif\u001b[0m \u001b[0mdata_handler\u001b[0m\u001b[0;34m.\u001b[0m\u001b[0mshould_sync\u001b[0m\u001b[0;34m:\u001b[0m\u001b[0;34m\u001b[0m\u001b[0;34m\u001b[0m\u001b[0m\n\u001b[1;32m   1186\u001b[0m                 \u001b[0mcontext\u001b[0m\u001b[0;34m.\u001b[0m\u001b[0masync_wait\u001b[0m\u001b[0;34m(\u001b[0m\u001b[0;34m)\u001b[0m\u001b[0;34m\u001b[0m\u001b[0;34m\u001b[0m\u001b[0m\n",
      "\u001b[0;32m/home/looselot/virtualenvs/ENV-MAL/lib/python3.7/site-packages/tensorflow/python/eager/def_function.py\u001b[0m in \u001b[0;36m__call__\u001b[0;34m(self, *args, **kwds)\u001b[0m\n\u001b[1;32m    883\u001b[0m \u001b[0;34m\u001b[0m\u001b[0m\n\u001b[1;32m    884\u001b[0m       \u001b[0;32mwith\u001b[0m \u001b[0mOptionalXlaContext\u001b[0m\u001b[0;34m(\u001b[0m\u001b[0mself\u001b[0m\u001b[0;34m.\u001b[0m\u001b[0m_jit_compile\u001b[0m\u001b[0;34m)\u001b[0m\u001b[0;34m:\u001b[0m\u001b[0;34m\u001b[0m\u001b[0;34m\u001b[0m\u001b[0m\n\u001b[0;32m--> 885\u001b[0;31m         \u001b[0mresult\u001b[0m \u001b[0;34m=\u001b[0m \u001b[0mself\u001b[0m\u001b[0;34m.\u001b[0m\u001b[0m_call\u001b[0m\u001b[0;34m(\u001b[0m\u001b[0;34m*\u001b[0m\u001b[0margs\u001b[0m\u001b[0;34m,\u001b[0m \u001b[0;34m**\u001b[0m\u001b[0mkwds\u001b[0m\u001b[0;34m)\u001b[0m\u001b[0;34m\u001b[0m\u001b[0;34m\u001b[0m\u001b[0m\n\u001b[0m\u001b[1;32m    886\u001b[0m \u001b[0;34m\u001b[0m\u001b[0m\n\u001b[1;32m    887\u001b[0m       \u001b[0mnew_tracing_count\u001b[0m \u001b[0;34m=\u001b[0m \u001b[0mself\u001b[0m\u001b[0;34m.\u001b[0m\u001b[0mexperimental_get_tracing_count\u001b[0m\u001b[0;34m(\u001b[0m\u001b[0;34m)\u001b[0m\u001b[0;34m\u001b[0m\u001b[0;34m\u001b[0m\u001b[0m\n",
      "\u001b[0;32m/home/looselot/virtualenvs/ENV-MAL/lib/python3.7/site-packages/tensorflow/python/eager/def_function.py\u001b[0m in \u001b[0;36m_call\u001b[0;34m(self, *args, **kwds)\u001b[0m\n\u001b[1;32m    931\u001b[0m       \u001b[0;31m# This is the first call of __call__, so we have to initialize.\u001b[0m\u001b[0;34m\u001b[0m\u001b[0;34m\u001b[0m\u001b[0;34m\u001b[0m\u001b[0m\n\u001b[1;32m    932\u001b[0m       \u001b[0minitializers\u001b[0m \u001b[0;34m=\u001b[0m \u001b[0;34m[\u001b[0m\u001b[0;34m]\u001b[0m\u001b[0;34m\u001b[0m\u001b[0;34m\u001b[0m\u001b[0m\n\u001b[0;32m--> 933\u001b[0;31m       \u001b[0mself\u001b[0m\u001b[0;34m.\u001b[0m\u001b[0m_initialize\u001b[0m\u001b[0;34m(\u001b[0m\u001b[0margs\u001b[0m\u001b[0;34m,\u001b[0m \u001b[0mkwds\u001b[0m\u001b[0;34m,\u001b[0m \u001b[0madd_initializers_to\u001b[0m\u001b[0;34m=\u001b[0m\u001b[0minitializers\u001b[0m\u001b[0;34m)\u001b[0m\u001b[0;34m\u001b[0m\u001b[0;34m\u001b[0m\u001b[0m\n\u001b[0m\u001b[1;32m    934\u001b[0m     \u001b[0;32mfinally\u001b[0m\u001b[0;34m:\u001b[0m\u001b[0;34m\u001b[0m\u001b[0;34m\u001b[0m\u001b[0m\n\u001b[1;32m    935\u001b[0m       \u001b[0;31m# At this point we know that the initialization is complete (or less\u001b[0m\u001b[0;34m\u001b[0m\u001b[0;34m\u001b[0m\u001b[0;34m\u001b[0m\u001b[0m\n",
      "\u001b[0;32m/home/looselot/virtualenvs/ENV-MAL/lib/python3.7/site-packages/tensorflow/python/eager/def_function.py\u001b[0m in \u001b[0;36m_initialize\u001b[0;34m(self, args, kwds, add_initializers_to)\u001b[0m\n\u001b[1;32m    758\u001b[0m     self._concrete_stateful_fn = (\n\u001b[1;32m    759\u001b[0m         self._stateful_fn._get_concrete_function_internal_garbage_collected(  # pylint: disable=protected-access\n\u001b[0;32m--> 760\u001b[0;31m             *args, **kwds))\n\u001b[0m\u001b[1;32m    761\u001b[0m \u001b[0;34m\u001b[0m\u001b[0m\n\u001b[1;32m    762\u001b[0m     \u001b[0;32mdef\u001b[0m \u001b[0minvalid_creator_scope\u001b[0m\u001b[0;34m(\u001b[0m\u001b[0;34m*\u001b[0m\u001b[0munused_args\u001b[0m\u001b[0;34m,\u001b[0m \u001b[0;34m**\u001b[0m\u001b[0munused_kwds\u001b[0m\u001b[0;34m)\u001b[0m\u001b[0;34m:\u001b[0m\u001b[0;34m\u001b[0m\u001b[0;34m\u001b[0m\u001b[0m\n",
      "\u001b[0;32m/home/looselot/virtualenvs/ENV-MAL/lib/python3.7/site-packages/tensorflow/python/eager/function.py\u001b[0m in \u001b[0;36m_get_concrete_function_internal_garbage_collected\u001b[0;34m(self, *args, **kwargs)\u001b[0m\n\u001b[1;32m   3064\u001b[0m       \u001b[0margs\u001b[0m\u001b[0;34m,\u001b[0m \u001b[0mkwargs\u001b[0m \u001b[0;34m=\u001b[0m \u001b[0;32mNone\u001b[0m\u001b[0;34m,\u001b[0m \u001b[0;32mNone\u001b[0m\u001b[0;34m\u001b[0m\u001b[0;34m\u001b[0m\u001b[0m\n\u001b[1;32m   3065\u001b[0m     \u001b[0;32mwith\u001b[0m \u001b[0mself\u001b[0m\u001b[0;34m.\u001b[0m\u001b[0m_lock\u001b[0m\u001b[0;34m:\u001b[0m\u001b[0;34m\u001b[0m\u001b[0;34m\u001b[0m\u001b[0m\n\u001b[0;32m-> 3066\u001b[0;31m       \u001b[0mgraph_function\u001b[0m\u001b[0;34m,\u001b[0m \u001b[0m_\u001b[0m \u001b[0;34m=\u001b[0m \u001b[0mself\u001b[0m\u001b[0;34m.\u001b[0m\u001b[0m_maybe_define_function\u001b[0m\u001b[0;34m(\u001b[0m\u001b[0margs\u001b[0m\u001b[0;34m,\u001b[0m \u001b[0mkwargs\u001b[0m\u001b[0;34m)\u001b[0m\u001b[0;34m\u001b[0m\u001b[0;34m\u001b[0m\u001b[0m\n\u001b[0m\u001b[1;32m   3067\u001b[0m     \u001b[0;32mreturn\u001b[0m \u001b[0mgraph_function\u001b[0m\u001b[0;34m\u001b[0m\u001b[0;34m\u001b[0m\u001b[0m\n\u001b[1;32m   3068\u001b[0m \u001b[0;34m\u001b[0m\u001b[0m\n",
      "\u001b[0;32m/home/looselot/virtualenvs/ENV-MAL/lib/python3.7/site-packages/tensorflow/python/eager/function.py\u001b[0m in \u001b[0;36m_maybe_define_function\u001b[0;34m(self, args, kwargs)\u001b[0m\n\u001b[1;32m   3461\u001b[0m \u001b[0;34m\u001b[0m\u001b[0m\n\u001b[1;32m   3462\u001b[0m           \u001b[0mself\u001b[0m\u001b[0;34m.\u001b[0m\u001b[0m_function_cache\u001b[0m\u001b[0;34m.\u001b[0m\u001b[0mmissed\u001b[0m\u001b[0;34m.\u001b[0m\u001b[0madd\u001b[0m\u001b[0;34m(\u001b[0m\u001b[0mcall_context_key\u001b[0m\u001b[0;34m)\u001b[0m\u001b[0;34m\u001b[0m\u001b[0;34m\u001b[0m\u001b[0m\n\u001b[0;32m-> 3463\u001b[0;31m           \u001b[0mgraph_function\u001b[0m \u001b[0;34m=\u001b[0m \u001b[0mself\u001b[0m\u001b[0;34m.\u001b[0m\u001b[0m_create_graph_function\u001b[0m\u001b[0;34m(\u001b[0m\u001b[0margs\u001b[0m\u001b[0;34m,\u001b[0m \u001b[0mkwargs\u001b[0m\u001b[0;34m)\u001b[0m\u001b[0;34m\u001b[0m\u001b[0;34m\u001b[0m\u001b[0m\n\u001b[0m\u001b[1;32m   3464\u001b[0m           \u001b[0mself\u001b[0m\u001b[0;34m.\u001b[0m\u001b[0m_function_cache\u001b[0m\u001b[0;34m.\u001b[0m\u001b[0mprimary\u001b[0m\u001b[0;34m[\u001b[0m\u001b[0mcache_key\u001b[0m\u001b[0;34m]\u001b[0m \u001b[0;34m=\u001b[0m \u001b[0mgraph_function\u001b[0m\u001b[0;34m\u001b[0m\u001b[0;34m\u001b[0m\u001b[0m\n\u001b[1;32m   3465\u001b[0m \u001b[0;34m\u001b[0m\u001b[0m\n",
      "\u001b[0;32m/home/looselot/virtualenvs/ENV-MAL/lib/python3.7/site-packages/tensorflow/python/eager/function.py\u001b[0m in \u001b[0;36m_create_graph_function\u001b[0;34m(self, args, kwargs, override_flat_arg_shapes)\u001b[0m\n\u001b[1;32m   3306\u001b[0m             \u001b[0marg_names\u001b[0m\u001b[0;34m=\u001b[0m\u001b[0marg_names\u001b[0m\u001b[0;34m,\u001b[0m\u001b[0;34m\u001b[0m\u001b[0;34m\u001b[0m\u001b[0m\n\u001b[1;32m   3307\u001b[0m             \u001b[0moverride_flat_arg_shapes\u001b[0m\u001b[0;34m=\u001b[0m\u001b[0moverride_flat_arg_shapes\u001b[0m\u001b[0;34m,\u001b[0m\u001b[0;34m\u001b[0m\u001b[0;34m\u001b[0m\u001b[0m\n\u001b[0;32m-> 3308\u001b[0;31m             capture_by_value=self._capture_by_value),\n\u001b[0m\u001b[1;32m   3309\u001b[0m         \u001b[0mself\u001b[0m\u001b[0;34m.\u001b[0m\u001b[0m_function_attributes\u001b[0m\u001b[0;34m,\u001b[0m\u001b[0;34m\u001b[0m\u001b[0;34m\u001b[0m\u001b[0m\n\u001b[1;32m   3310\u001b[0m         \u001b[0mfunction_spec\u001b[0m\u001b[0;34m=\u001b[0m\u001b[0mself\u001b[0m\u001b[0;34m.\u001b[0m\u001b[0mfunction_spec\u001b[0m\u001b[0;34m,\u001b[0m\u001b[0;34m\u001b[0m\u001b[0;34m\u001b[0m\u001b[0m\n",
      "\u001b[0;32m/home/looselot/virtualenvs/ENV-MAL/lib/python3.7/site-packages/tensorflow/python/framework/func_graph.py\u001b[0m in \u001b[0;36mfunc_graph_from_py_func\u001b[0;34m(name, python_func, args, kwargs, signature, func_graph, autograph, autograph_options, add_control_dependencies, arg_names, op_return_value, collections, capture_by_value, override_flat_arg_shapes, acd_record_initial_resource_uses)\u001b[0m\n\u001b[1;32m   1005\u001b[0m         \u001b[0m_\u001b[0m\u001b[0;34m,\u001b[0m \u001b[0moriginal_func\u001b[0m \u001b[0;34m=\u001b[0m \u001b[0mtf_decorator\u001b[0m\u001b[0;34m.\u001b[0m\u001b[0munwrap\u001b[0m\u001b[0;34m(\u001b[0m\u001b[0mpython_func\u001b[0m\u001b[0;34m)\u001b[0m\u001b[0;34m\u001b[0m\u001b[0;34m\u001b[0m\u001b[0m\n\u001b[1;32m   1006\u001b[0m \u001b[0;34m\u001b[0m\u001b[0m\n\u001b[0;32m-> 1007\u001b[0;31m       \u001b[0mfunc_outputs\u001b[0m \u001b[0;34m=\u001b[0m \u001b[0mpython_func\u001b[0m\u001b[0;34m(\u001b[0m\u001b[0;34m*\u001b[0m\u001b[0mfunc_args\u001b[0m\u001b[0;34m,\u001b[0m \u001b[0;34m**\u001b[0m\u001b[0mfunc_kwargs\u001b[0m\u001b[0;34m)\u001b[0m\u001b[0;34m\u001b[0m\u001b[0;34m\u001b[0m\u001b[0m\n\u001b[0m\u001b[1;32m   1008\u001b[0m \u001b[0;34m\u001b[0m\u001b[0m\n\u001b[1;32m   1009\u001b[0m       \u001b[0;31m# invariant: `func_outputs` contains only Tensors, CompositeTensors,\u001b[0m\u001b[0;34m\u001b[0m\u001b[0;34m\u001b[0m\u001b[0;34m\u001b[0m\u001b[0m\n",
      "\u001b[0;32m/home/looselot/virtualenvs/ENV-MAL/lib/python3.7/site-packages/tensorflow/python/eager/def_function.py\u001b[0m in \u001b[0;36mwrapped_fn\u001b[0;34m(*args, **kwds)\u001b[0m\n\u001b[1;32m    666\u001b[0m         \u001b[0;31m# the function a weak reference to itself to avoid a reference cycle.\u001b[0m\u001b[0;34m\u001b[0m\u001b[0;34m\u001b[0m\u001b[0;34m\u001b[0m\u001b[0m\n\u001b[1;32m    667\u001b[0m         \u001b[0;32mwith\u001b[0m \u001b[0mOptionalXlaContext\u001b[0m\u001b[0;34m(\u001b[0m\u001b[0mcompile_with_xla\u001b[0m\u001b[0;34m)\u001b[0m\u001b[0;34m:\u001b[0m\u001b[0;34m\u001b[0m\u001b[0;34m\u001b[0m\u001b[0m\n\u001b[0;32m--> 668\u001b[0;31m           \u001b[0mout\u001b[0m \u001b[0;34m=\u001b[0m \u001b[0mweak_wrapped_fn\u001b[0m\u001b[0;34m(\u001b[0m\u001b[0;34m)\u001b[0m\u001b[0;34m.\u001b[0m\u001b[0m__wrapped__\u001b[0m\u001b[0;34m(\u001b[0m\u001b[0;34m*\u001b[0m\u001b[0margs\u001b[0m\u001b[0;34m,\u001b[0m \u001b[0;34m**\u001b[0m\u001b[0mkwds\u001b[0m\u001b[0;34m)\u001b[0m\u001b[0;34m\u001b[0m\u001b[0;34m\u001b[0m\u001b[0m\n\u001b[0m\u001b[1;32m    669\u001b[0m         \u001b[0;32mreturn\u001b[0m \u001b[0mout\u001b[0m\u001b[0;34m\u001b[0m\u001b[0;34m\u001b[0m\u001b[0m\n\u001b[1;32m    670\u001b[0m \u001b[0;34m\u001b[0m\u001b[0m\n",
      "\u001b[0;32m/home/looselot/virtualenvs/ENV-MAL/lib/python3.7/site-packages/tensorflow/python/framework/func_graph.py\u001b[0m in \u001b[0;36mwrapper\u001b[0;34m(*args, **kwargs)\u001b[0m\n\u001b[1;32m    992\u001b[0m           \u001b[0;32mexcept\u001b[0m \u001b[0mException\u001b[0m \u001b[0;32mas\u001b[0m \u001b[0me\u001b[0m\u001b[0;34m:\u001b[0m  \u001b[0;31m# pylint:disable=broad-except\u001b[0m\u001b[0;34m\u001b[0m\u001b[0;34m\u001b[0m\u001b[0m\n\u001b[1;32m    993\u001b[0m             \u001b[0;32mif\u001b[0m \u001b[0mhasattr\u001b[0m\u001b[0;34m(\u001b[0m\u001b[0me\u001b[0m\u001b[0;34m,\u001b[0m \u001b[0;34m\"ag_error_metadata\"\u001b[0m\u001b[0;34m)\u001b[0m\u001b[0;34m:\u001b[0m\u001b[0;34m\u001b[0m\u001b[0;34m\u001b[0m\u001b[0m\n\u001b[0;32m--> 994\u001b[0;31m               \u001b[0;32mraise\u001b[0m \u001b[0me\u001b[0m\u001b[0;34m.\u001b[0m\u001b[0mag_error_metadata\u001b[0m\u001b[0;34m.\u001b[0m\u001b[0mto_exception\u001b[0m\u001b[0;34m(\u001b[0m\u001b[0me\u001b[0m\u001b[0;34m)\u001b[0m\u001b[0;34m\u001b[0m\u001b[0;34m\u001b[0m\u001b[0m\n\u001b[0m\u001b[1;32m    995\u001b[0m             \u001b[0;32melse\u001b[0m\u001b[0;34m:\u001b[0m\u001b[0;34m\u001b[0m\u001b[0;34m\u001b[0m\u001b[0m\n\u001b[1;32m    996\u001b[0m               \u001b[0;32mraise\u001b[0m\u001b[0;34m\u001b[0m\u001b[0;34m\u001b[0m\u001b[0m\n",
      "\u001b[0;31mValueError\u001b[0m: in user code:\n\n    /home/looselot/virtualenvs/ENV-MAL/lib/python3.7/site-packages/keras/engine/training.py:853 train_function  *\n        return step_function(self, iterator)\n    /home/looselot/virtualenvs/ENV-MAL/lib/python3.7/site-packages/keras/engine/training.py:842 step_function  **\n        outputs = model.distribute_strategy.run(run_step, args=(data,))\n    /home/looselot/virtualenvs/ENV-MAL/lib/python3.7/site-packages/tensorflow/python/distribute/distribute_lib.py:1286 run\n        return self._extended.call_for_each_replica(fn, args=args, kwargs=kwargs)\n    /home/looselot/virtualenvs/ENV-MAL/lib/python3.7/site-packages/tensorflow/python/distribute/distribute_lib.py:2849 call_for_each_replica\n        return self._call_for_each_replica(fn, args, kwargs)\n    /home/looselot/virtualenvs/ENV-MAL/lib/python3.7/site-packages/tensorflow/python/distribute/distribute_lib.py:3632 _call_for_each_replica\n        return fn(*args, **kwargs)\n    /home/looselot/virtualenvs/ENV-MAL/lib/python3.7/site-packages/keras/engine/training.py:835 run_step  **\n        outputs = model.train_step(data)\n    /home/looselot/virtualenvs/ENV-MAL/lib/python3.7/site-packages/keras/engine/training.py:792 train_step\n        self.compiled_metrics.update_state(y, y_pred, sample_weight)\n    /home/looselot/virtualenvs/ENV-MAL/lib/python3.7/site-packages/keras/engine/compile_utils.py:457 update_state\n        metric_obj.update_state(y_t, y_p, sample_weight=mask)\n    /home/looselot/virtualenvs/ENV-MAL/lib/python3.7/site-packages/keras/utils/metrics_utils.py:73 decorated\n        update_op = update_state_fn(*args, **kwargs)\n    /home/looselot/virtualenvs/ENV-MAL/lib/python3.7/site-packages/keras/metrics.py:177 update_state_fn\n        return ag_update_state(*args, **kwargs)\n    /home/looselot/virtualenvs/ENV-MAL/lib/python3.7/site-packages/keras/metrics.py:1366 update_state  **\n        sample_weight=sample_weight)\n    /home/looselot/virtualenvs/ENV-MAL/lib/python3.7/site-packages/keras/utils/metrics_utils.py:623 update_confusion_matrix_variables\n        y_pred.shape.assert_is_compatible_with(y_true.shape)\n    /home/looselot/virtualenvs/ENV-MAL/lib/python3.7/site-packages/tensorflow/python/framework/tensor_shape.py:1161 assert_is_compatible_with\n        raise ValueError(\"Shapes %s and %s are incompatible\" % (self, other))\n\n    ValueError: Shapes (None, 2) and (None, 1) are incompatible\n"
     ]
    }
   ],
   "source": [
    "model = create_model(padded_alarm, n_alarms)\n",
    "\n",
    "# model seems to be overfitting, try to reduce overfitting by reduce LR, but model should take longer to converge so use a larger EPOCH\n",
    "callbacks = [ReduceLROnPlateau(monitor=monitor, factor=0.2, patience=5, min_lr=0.001), \\\n",
    "            EarlyStopping(monitor=monitor, patience=30, mode=mode, restore_best_weights=True)]\n",
    "\n",
    "history = model.fit(X_train_seq, y_train_seq, \n",
    "                batch_size=BATCH_SIZE, epochs=EPOCHS, \n",
    "                validation_data=(X_val_seq, y_val_seq), \n",
    "                callbacks=callbacks)\n",
    "\n",
    "evaluate = model.evaluate(X_test_seq, y_test_seq) #loss, mse\n",
    "\n",
    "pred = model.predict(X_test_seq)\n",
    "classes = []\n",
    "for ele in pred:\n",
    "    classes.append(int((ele>0.5)[0]))\n",
    "\n",
    "from sklearn.metrics import classification_report, confusion_matrix\n",
    "\n",
    "cm = confusion_matrix(y_test_seq, classes)\n",
    "\n",
    "seq_result[hour] = [evaluate, cm]\n",
    "\n",
    "end = datetime.now()\n",
    "time = end - start\n",
    "print(f\"Training took {time.seconds} seconds to complete.\")\n",
    "seq_result[hour, mean_length] = evaluate"
   ]
  },
  {
   "cell_type": "code",
   "execution_count": 23,
   "id": "4a754f11",
   "metadata": {},
   "outputs": [
    {
     "ename": "ValueError",
     "evalue": "Input 0 of layer conv1d is incompatible with the layer: : expected min_ndim=3, found ndim=2. Full shape received: (53, 128)",
     "output_type": "error",
     "traceback": [
      "\u001b[0;31m---------------------------------------------------------------------------\u001b[0m",
      "\u001b[0;31mValueError\u001b[0m                                Traceback (most recent call last)",
      "\u001b[0;32m<ipython-input-23-29d238c3cc80>\u001b[0m in \u001b[0;36m<module>\u001b[0;34m\u001b[0m\n\u001b[1;32m      9\u001b[0m \u001b[0;34m\u001b[0m\u001b[0m\n\u001b[1;32m     10\u001b[0m \u001b[0;34m\u001b[0m\u001b[0m\n\u001b[0;32m---> 11\u001b[0;31m \u001b[0mlayer_output\u001b[0m \u001b[0;34m=\u001b[0m \u001b[0mget_embed_out\u001b[0m\u001b[0;34m(\u001b[0m\u001b[0;34m[\u001b[0m\u001b[0mX_test_seq\u001b[0m\u001b[0;34m[\u001b[0m\u001b[0;36m0\u001b[0m\u001b[0;34m]\u001b[0m\u001b[0;34m]\u001b[0m\u001b[0;34m)\u001b[0m\u001b[0;34m\u001b[0m\u001b[0;34m\u001b[0m\u001b[0m\n\u001b[0m\u001b[1;32m     12\u001b[0m \u001b[0;34m\u001b[0m\u001b[0m\n\u001b[1;32m     13\u001b[0m \u001b[0malarms\u001b[0m \u001b[0;34m=\u001b[0m \u001b[0;34m[\u001b[0m\u001b[0;36m44\u001b[0m\u001b[0;34m,\u001b[0m \u001b[0;36m45\u001b[0m \u001b[0;34m,\u001b[0m\u001b[0;36m90\u001b[0m\u001b[0;34m,\u001b[0m \u001b[0;36m150\u001b[0m\u001b[0;34m]\u001b[0m\u001b[0;34m\u001b[0m\u001b[0;34m\u001b[0m\u001b[0m\n",
      "\u001b[0;32m/home/looselot/virtualenvs/ENV-MAL/lib/python3.7/site-packages/keras/backend.py\u001b[0m in \u001b[0;36mfunc\u001b[0;34m(model_inputs)\u001b[0m\n\u001b[1;32m   4076\u001b[0m     \u001b[0mwrap_outputs\u001b[0m \u001b[0;34m=\u001b[0m \u001b[0misinstance\u001b[0m\u001b[0;34m(\u001b[0m\u001b[0moutputs\u001b[0m\u001b[0;34m,\u001b[0m \u001b[0mlist\u001b[0m\u001b[0;34m)\u001b[0m \u001b[0;32mand\u001b[0m \u001b[0mlen\u001b[0m\u001b[0;34m(\u001b[0m\u001b[0moutputs\u001b[0m\u001b[0;34m)\u001b[0m \u001b[0;34m==\u001b[0m \u001b[0;36m1\u001b[0m\u001b[0;34m\u001b[0m\u001b[0;34m\u001b[0m\u001b[0m\n\u001b[1;32m   4077\u001b[0m     \u001b[0;32mdef\u001b[0m \u001b[0mfunc\u001b[0m\u001b[0;34m(\u001b[0m\u001b[0mmodel_inputs\u001b[0m\u001b[0;34m)\u001b[0m\u001b[0;34m:\u001b[0m\u001b[0;34m\u001b[0m\u001b[0;34m\u001b[0m\u001b[0m\n\u001b[0;32m-> 4078\u001b[0;31m       \u001b[0mouts\u001b[0m \u001b[0;34m=\u001b[0m \u001b[0mmodel\u001b[0m\u001b[0;34m(\u001b[0m\u001b[0mmodel_inputs\u001b[0m\u001b[0;34m)\u001b[0m\u001b[0;34m\u001b[0m\u001b[0;34m\u001b[0m\u001b[0m\n\u001b[0m\u001b[1;32m   4079\u001b[0m       \u001b[0;32mif\u001b[0m \u001b[0mwrap_outputs\u001b[0m\u001b[0;34m:\u001b[0m\u001b[0;34m\u001b[0m\u001b[0;34m\u001b[0m\u001b[0m\n\u001b[1;32m   4080\u001b[0m         \u001b[0mouts\u001b[0m \u001b[0;34m=\u001b[0m \u001b[0;34m[\u001b[0m\u001b[0mouts\u001b[0m\u001b[0;34m]\u001b[0m\u001b[0;34m\u001b[0m\u001b[0;34m\u001b[0m\u001b[0m\n",
      "\u001b[0;32m/home/looselot/virtualenvs/ENV-MAL/lib/python3.7/site-packages/keras/engine/base_layer.py\u001b[0m in \u001b[0;36m__call__\u001b[0;34m(self, *args, **kwargs)\u001b[0m\n\u001b[1;32m   1035\u001b[0m         with autocast_variable.enable_auto_cast_variables(\n\u001b[1;32m   1036\u001b[0m             self._compute_dtype_object):\n\u001b[0;32m-> 1037\u001b[0;31m           \u001b[0moutputs\u001b[0m \u001b[0;34m=\u001b[0m \u001b[0mcall_fn\u001b[0m\u001b[0;34m(\u001b[0m\u001b[0minputs\u001b[0m\u001b[0;34m,\u001b[0m \u001b[0;34m*\u001b[0m\u001b[0margs\u001b[0m\u001b[0;34m,\u001b[0m \u001b[0;34m**\u001b[0m\u001b[0mkwargs\u001b[0m\u001b[0;34m)\u001b[0m\u001b[0;34m\u001b[0m\u001b[0;34m\u001b[0m\u001b[0m\n\u001b[0m\u001b[1;32m   1038\u001b[0m \u001b[0;34m\u001b[0m\u001b[0m\n\u001b[1;32m   1039\u001b[0m         \u001b[0;32mif\u001b[0m \u001b[0mself\u001b[0m\u001b[0;34m.\u001b[0m\u001b[0m_activity_regularizer\u001b[0m\u001b[0;34m:\u001b[0m\u001b[0;34m\u001b[0m\u001b[0;34m\u001b[0m\u001b[0m\n",
      "\u001b[0;32m/home/looselot/virtualenvs/ENV-MAL/lib/python3.7/site-packages/keras/engine/functional.py\u001b[0m in \u001b[0;36mcall\u001b[0;34m(self, inputs, training, mask)\u001b[0m\n\u001b[1;32m    413\u001b[0m     \"\"\"\n\u001b[1;32m    414\u001b[0m     return self._run_internal_graph(\n\u001b[0;32m--> 415\u001b[0;31m         inputs, training=training, mask=mask)\n\u001b[0m\u001b[1;32m    416\u001b[0m \u001b[0;34m\u001b[0m\u001b[0m\n\u001b[1;32m    417\u001b[0m   \u001b[0;32mdef\u001b[0m \u001b[0mcompute_output_shape\u001b[0m\u001b[0;34m(\u001b[0m\u001b[0mself\u001b[0m\u001b[0;34m,\u001b[0m \u001b[0minput_shape\u001b[0m\u001b[0;34m)\u001b[0m\u001b[0;34m:\u001b[0m\u001b[0;34m\u001b[0m\u001b[0;34m\u001b[0m\u001b[0m\n",
      "\u001b[0;32m/home/looselot/virtualenvs/ENV-MAL/lib/python3.7/site-packages/keras/engine/functional.py\u001b[0m in \u001b[0;36m_run_internal_graph\u001b[0;34m(self, inputs, training, mask)\u001b[0m\n\u001b[1;32m    548\u001b[0m \u001b[0;34m\u001b[0m\u001b[0m\n\u001b[1;32m    549\u001b[0m         \u001b[0margs\u001b[0m\u001b[0;34m,\u001b[0m \u001b[0mkwargs\u001b[0m \u001b[0;34m=\u001b[0m \u001b[0mnode\u001b[0m\u001b[0;34m.\u001b[0m\u001b[0mmap_arguments\u001b[0m\u001b[0;34m(\u001b[0m\u001b[0mtensor_dict\u001b[0m\u001b[0;34m)\u001b[0m\u001b[0;34m\u001b[0m\u001b[0;34m\u001b[0m\u001b[0m\n\u001b[0;32m--> 550\u001b[0;31m         \u001b[0moutputs\u001b[0m \u001b[0;34m=\u001b[0m \u001b[0mnode\u001b[0m\u001b[0;34m.\u001b[0m\u001b[0mlayer\u001b[0m\u001b[0;34m(\u001b[0m\u001b[0;34m*\u001b[0m\u001b[0margs\u001b[0m\u001b[0;34m,\u001b[0m \u001b[0;34m**\u001b[0m\u001b[0mkwargs\u001b[0m\u001b[0;34m)\u001b[0m\u001b[0;34m\u001b[0m\u001b[0;34m\u001b[0m\u001b[0m\n\u001b[0m\u001b[1;32m    551\u001b[0m \u001b[0;34m\u001b[0m\u001b[0m\n\u001b[1;32m    552\u001b[0m         \u001b[0;31m# Update tensor_dict.\u001b[0m\u001b[0;34m\u001b[0m\u001b[0;34m\u001b[0m\u001b[0;34m\u001b[0m\u001b[0m\n",
      "\u001b[0;32m/home/looselot/virtualenvs/ENV-MAL/lib/python3.7/site-packages/keras/engine/base_layer.py\u001b[0m in \u001b[0;36m__call__\u001b[0;34m(self, *args, **kwargs)\u001b[0m\n\u001b[1;32m   1018\u001b[0m         training=training_mode):\n\u001b[1;32m   1019\u001b[0m \u001b[0;34m\u001b[0m\u001b[0m\n\u001b[0;32m-> 1020\u001b[0;31m       \u001b[0minput_spec\u001b[0m\u001b[0;34m.\u001b[0m\u001b[0massert_input_compatibility\u001b[0m\u001b[0;34m(\u001b[0m\u001b[0mself\u001b[0m\u001b[0;34m.\u001b[0m\u001b[0minput_spec\u001b[0m\u001b[0;34m,\u001b[0m \u001b[0minputs\u001b[0m\u001b[0;34m,\u001b[0m \u001b[0mself\u001b[0m\u001b[0;34m.\u001b[0m\u001b[0mname\u001b[0m\u001b[0;34m)\u001b[0m\u001b[0;34m\u001b[0m\u001b[0;34m\u001b[0m\u001b[0m\n\u001b[0m\u001b[1;32m   1021\u001b[0m       \u001b[0;32mif\u001b[0m \u001b[0meager\u001b[0m\u001b[0;34m:\u001b[0m\u001b[0;34m\u001b[0m\u001b[0;34m\u001b[0m\u001b[0m\n\u001b[1;32m   1022\u001b[0m         \u001b[0mcall_fn\u001b[0m \u001b[0;34m=\u001b[0m \u001b[0mself\u001b[0m\u001b[0;34m.\u001b[0m\u001b[0mcall\u001b[0m\u001b[0;34m\u001b[0m\u001b[0;34m\u001b[0m\u001b[0m\n",
      "\u001b[0;32m/home/looselot/virtualenvs/ENV-MAL/lib/python3.7/site-packages/keras/engine/input_spec.py\u001b[0m in \u001b[0;36massert_input_compatibility\u001b[0;34m(input_spec, inputs, layer_name)\u001b[0m\n\u001b[1;32m    232\u001b[0m                          \u001b[0;34m', found ndim='\u001b[0m \u001b[0;34m+\u001b[0m \u001b[0mstr\u001b[0m\u001b[0;34m(\u001b[0m\u001b[0mndim\u001b[0m\u001b[0;34m)\u001b[0m \u001b[0;34m+\u001b[0m\u001b[0;34m\u001b[0m\u001b[0;34m\u001b[0m\u001b[0m\n\u001b[1;32m    233\u001b[0m                          \u001b[0;34m'. Full shape received: '\u001b[0m \u001b[0;34m+\u001b[0m\u001b[0;34m\u001b[0m\u001b[0;34m\u001b[0m\u001b[0m\n\u001b[0;32m--> 234\u001b[0;31m                          str(tuple(shape)))\n\u001b[0m\u001b[1;32m    235\u001b[0m     \u001b[0;31m# Check dtype.\u001b[0m\u001b[0;34m\u001b[0m\u001b[0;34m\u001b[0m\u001b[0;34m\u001b[0m\u001b[0m\n\u001b[1;32m    236\u001b[0m     \u001b[0;32mif\u001b[0m \u001b[0mspec\u001b[0m\u001b[0;34m.\u001b[0m\u001b[0mdtype\u001b[0m \u001b[0;32mis\u001b[0m \u001b[0;32mnot\u001b[0m \u001b[0;32mNone\u001b[0m\u001b[0;34m:\u001b[0m\u001b[0;34m\u001b[0m\u001b[0;34m\u001b[0m\u001b[0m\n",
      "\u001b[0;31mValueError\u001b[0m: Input 0 of layer conv1d is incompatible with the layer: : expected min_ndim=3, found ndim=2. Full shape received: (53, 128)"
     ]
    }
   ],
   "source": [
    "import matplotlib.pyplot as plt\n",
    "import tensorflow as tf\n",
    "from tensorflow import keras\n",
    "\n",
    "# with a Sequential model\n",
    "get_embed_out = keras.backend.function(\n",
    "    model.layers[0].input,\n",
    "    model.layers[1].output)\n",
    "\n",
    "\n",
    "layer_output = get_embed_out([X_test_seq[0]])\n",
    "\n",
    "alarms = [44, 45 ,90, 150]\n",
    "emb_alarms = tf.constant([mapping_dict[alarm] for alarm in alarms])\n",
    "\n",
    "words = get_embed_out([enc_review])[0]\n",
    "\n",
    "plt.scatter(words[:,0], words[:,1])\n",
    "for i, txt in enumerate(alarms):\n",
    "    plt.annotate(txt, (words[i,0], words[i,1]))"
   ]
  },
  {
   "cell_type": "code",
   "execution_count": 41,
   "id": "e0fb32f4",
   "metadata": {},
   "outputs": [
    {
     "data": {
      "text/plain": [
       "(<KerasTensor: shape=(None, 53) dtype=float32 (created by layer 'embedding_1_input')>,\n",
       " <KerasTensor: shape=(None, 20, 64) dtype=float32 (created by layer 'conv1d_5')>)"
      ]
     },
     "execution_count": 41,
     "metadata": {},
     "output_type": "execute_result"
    }
   ],
   "source": [
    "model.layers[0].input, model.layers[1].output"
   ]
  },
  {
   "cell_type": "code",
   "execution_count": 24,
   "id": "1b81ef0d",
   "metadata": {},
   "outputs": [
    {
     "ename": "ValueError",
     "evalue": "Input 0 of layer conv1d is incompatible with the layer: : expected min_ndim=3, found ndim=2. Full shape received: (53, 128)",
     "output_type": "error",
     "traceback": [
      "\u001b[0;31m---------------------------------------------------------------------------\u001b[0m",
      "\u001b[0;31mValueError\u001b[0m                                Traceback (most recent call last)",
      "\u001b[0;32m<ipython-input-24-a6964863743b>\u001b[0m in \u001b[0;36m<module>\u001b[0;34m\u001b[0m\n\u001b[0;32m----> 1\u001b[0;31m \u001b[0mlayer_output\u001b[0m \u001b[0;34m=\u001b[0m \u001b[0mget_embed_out\u001b[0m\u001b[0;34m(\u001b[0m\u001b[0;34m[\u001b[0m\u001b[0mX_test_seq\u001b[0m\u001b[0;34m[\u001b[0m\u001b[0;36m0\u001b[0m\u001b[0;34m]\u001b[0m\u001b[0;34m]\u001b[0m\u001b[0;34m)\u001b[0m\u001b[0;34m\u001b[0m\u001b[0;34m\u001b[0m\u001b[0m\n\u001b[0m\u001b[1;32m      2\u001b[0m \u001b[0mprint\u001b[0m\u001b[0;34m(\u001b[0m\u001b[0mtype\u001b[0m\u001b[0;34m(\u001b[0m\u001b[0mlayer_output\u001b[0m\u001b[0;34m)\u001b[0m\u001b[0;34m,\u001b[0m \u001b[0mlen\u001b[0m\u001b[0;34m(\u001b[0m\u001b[0mlayer_output\u001b[0m\u001b[0;34m)\u001b[0m\u001b[0;34m,\u001b[0m \u001b[0mlayer_output\u001b[0m\u001b[0;34m[\u001b[0m\u001b[0;36m0\u001b[0m\u001b[0;34m]\u001b[0m\u001b[0;34m.\u001b[0m\u001b[0mshape\u001b[0m\u001b[0;34m)\u001b[0m\u001b[0;34m\u001b[0m\u001b[0;34m\u001b[0m\u001b[0m\n",
      "\u001b[0;32m/home/looselot/virtualenvs/ENV-MAL/lib/python3.7/site-packages/keras/backend.py\u001b[0m in \u001b[0;36mfunc\u001b[0;34m(model_inputs)\u001b[0m\n\u001b[1;32m   4076\u001b[0m     \u001b[0mwrap_outputs\u001b[0m \u001b[0;34m=\u001b[0m \u001b[0misinstance\u001b[0m\u001b[0;34m(\u001b[0m\u001b[0moutputs\u001b[0m\u001b[0;34m,\u001b[0m \u001b[0mlist\u001b[0m\u001b[0;34m)\u001b[0m \u001b[0;32mand\u001b[0m \u001b[0mlen\u001b[0m\u001b[0;34m(\u001b[0m\u001b[0moutputs\u001b[0m\u001b[0;34m)\u001b[0m \u001b[0;34m==\u001b[0m \u001b[0;36m1\u001b[0m\u001b[0;34m\u001b[0m\u001b[0;34m\u001b[0m\u001b[0m\n\u001b[1;32m   4077\u001b[0m     \u001b[0;32mdef\u001b[0m \u001b[0mfunc\u001b[0m\u001b[0;34m(\u001b[0m\u001b[0mmodel_inputs\u001b[0m\u001b[0;34m)\u001b[0m\u001b[0;34m:\u001b[0m\u001b[0;34m\u001b[0m\u001b[0;34m\u001b[0m\u001b[0m\n\u001b[0;32m-> 4078\u001b[0;31m       \u001b[0mouts\u001b[0m \u001b[0;34m=\u001b[0m \u001b[0mmodel\u001b[0m\u001b[0;34m(\u001b[0m\u001b[0mmodel_inputs\u001b[0m\u001b[0;34m)\u001b[0m\u001b[0;34m\u001b[0m\u001b[0;34m\u001b[0m\u001b[0m\n\u001b[0m\u001b[1;32m   4079\u001b[0m       \u001b[0;32mif\u001b[0m \u001b[0mwrap_outputs\u001b[0m\u001b[0;34m:\u001b[0m\u001b[0;34m\u001b[0m\u001b[0;34m\u001b[0m\u001b[0m\n\u001b[1;32m   4080\u001b[0m         \u001b[0mouts\u001b[0m \u001b[0;34m=\u001b[0m \u001b[0;34m[\u001b[0m\u001b[0mouts\u001b[0m\u001b[0;34m]\u001b[0m\u001b[0;34m\u001b[0m\u001b[0;34m\u001b[0m\u001b[0m\n",
      "\u001b[0;32m/home/looselot/virtualenvs/ENV-MAL/lib/python3.7/site-packages/keras/engine/base_layer.py\u001b[0m in \u001b[0;36m__call__\u001b[0;34m(self, *args, **kwargs)\u001b[0m\n\u001b[1;32m   1035\u001b[0m         with autocast_variable.enable_auto_cast_variables(\n\u001b[1;32m   1036\u001b[0m             self._compute_dtype_object):\n\u001b[0;32m-> 1037\u001b[0;31m           \u001b[0moutputs\u001b[0m \u001b[0;34m=\u001b[0m \u001b[0mcall_fn\u001b[0m\u001b[0;34m(\u001b[0m\u001b[0minputs\u001b[0m\u001b[0;34m,\u001b[0m \u001b[0;34m*\u001b[0m\u001b[0margs\u001b[0m\u001b[0;34m,\u001b[0m \u001b[0;34m**\u001b[0m\u001b[0mkwargs\u001b[0m\u001b[0;34m)\u001b[0m\u001b[0;34m\u001b[0m\u001b[0;34m\u001b[0m\u001b[0m\n\u001b[0m\u001b[1;32m   1038\u001b[0m \u001b[0;34m\u001b[0m\u001b[0m\n\u001b[1;32m   1039\u001b[0m         \u001b[0;32mif\u001b[0m \u001b[0mself\u001b[0m\u001b[0;34m.\u001b[0m\u001b[0m_activity_regularizer\u001b[0m\u001b[0;34m:\u001b[0m\u001b[0;34m\u001b[0m\u001b[0;34m\u001b[0m\u001b[0m\n",
      "\u001b[0;32m/home/looselot/virtualenvs/ENV-MAL/lib/python3.7/site-packages/keras/engine/functional.py\u001b[0m in \u001b[0;36mcall\u001b[0;34m(self, inputs, training, mask)\u001b[0m\n\u001b[1;32m    413\u001b[0m     \"\"\"\n\u001b[1;32m    414\u001b[0m     return self._run_internal_graph(\n\u001b[0;32m--> 415\u001b[0;31m         inputs, training=training, mask=mask)\n\u001b[0m\u001b[1;32m    416\u001b[0m \u001b[0;34m\u001b[0m\u001b[0m\n\u001b[1;32m    417\u001b[0m   \u001b[0;32mdef\u001b[0m \u001b[0mcompute_output_shape\u001b[0m\u001b[0;34m(\u001b[0m\u001b[0mself\u001b[0m\u001b[0;34m,\u001b[0m \u001b[0minput_shape\u001b[0m\u001b[0;34m)\u001b[0m\u001b[0;34m:\u001b[0m\u001b[0;34m\u001b[0m\u001b[0;34m\u001b[0m\u001b[0m\n",
      "\u001b[0;32m/home/looselot/virtualenvs/ENV-MAL/lib/python3.7/site-packages/keras/engine/functional.py\u001b[0m in \u001b[0;36m_run_internal_graph\u001b[0;34m(self, inputs, training, mask)\u001b[0m\n\u001b[1;32m    548\u001b[0m \u001b[0;34m\u001b[0m\u001b[0m\n\u001b[1;32m    549\u001b[0m         \u001b[0margs\u001b[0m\u001b[0;34m,\u001b[0m \u001b[0mkwargs\u001b[0m \u001b[0;34m=\u001b[0m \u001b[0mnode\u001b[0m\u001b[0;34m.\u001b[0m\u001b[0mmap_arguments\u001b[0m\u001b[0;34m(\u001b[0m\u001b[0mtensor_dict\u001b[0m\u001b[0;34m)\u001b[0m\u001b[0;34m\u001b[0m\u001b[0;34m\u001b[0m\u001b[0m\n\u001b[0;32m--> 550\u001b[0;31m         \u001b[0moutputs\u001b[0m \u001b[0;34m=\u001b[0m \u001b[0mnode\u001b[0m\u001b[0;34m.\u001b[0m\u001b[0mlayer\u001b[0m\u001b[0;34m(\u001b[0m\u001b[0;34m*\u001b[0m\u001b[0margs\u001b[0m\u001b[0;34m,\u001b[0m \u001b[0;34m**\u001b[0m\u001b[0mkwargs\u001b[0m\u001b[0;34m)\u001b[0m\u001b[0;34m\u001b[0m\u001b[0;34m\u001b[0m\u001b[0m\n\u001b[0m\u001b[1;32m    551\u001b[0m \u001b[0;34m\u001b[0m\u001b[0m\n\u001b[1;32m    552\u001b[0m         \u001b[0;31m# Update tensor_dict.\u001b[0m\u001b[0;34m\u001b[0m\u001b[0;34m\u001b[0m\u001b[0;34m\u001b[0m\u001b[0m\n",
      "\u001b[0;32m/home/looselot/virtualenvs/ENV-MAL/lib/python3.7/site-packages/keras/engine/base_layer.py\u001b[0m in \u001b[0;36m__call__\u001b[0;34m(self, *args, **kwargs)\u001b[0m\n\u001b[1;32m   1018\u001b[0m         training=training_mode):\n\u001b[1;32m   1019\u001b[0m \u001b[0;34m\u001b[0m\u001b[0m\n\u001b[0;32m-> 1020\u001b[0;31m       \u001b[0minput_spec\u001b[0m\u001b[0;34m.\u001b[0m\u001b[0massert_input_compatibility\u001b[0m\u001b[0;34m(\u001b[0m\u001b[0mself\u001b[0m\u001b[0;34m.\u001b[0m\u001b[0minput_spec\u001b[0m\u001b[0;34m,\u001b[0m \u001b[0minputs\u001b[0m\u001b[0;34m,\u001b[0m \u001b[0mself\u001b[0m\u001b[0;34m.\u001b[0m\u001b[0mname\u001b[0m\u001b[0;34m)\u001b[0m\u001b[0;34m\u001b[0m\u001b[0;34m\u001b[0m\u001b[0m\n\u001b[0m\u001b[1;32m   1021\u001b[0m       \u001b[0;32mif\u001b[0m \u001b[0meager\u001b[0m\u001b[0;34m:\u001b[0m\u001b[0;34m\u001b[0m\u001b[0;34m\u001b[0m\u001b[0m\n\u001b[1;32m   1022\u001b[0m         \u001b[0mcall_fn\u001b[0m \u001b[0;34m=\u001b[0m \u001b[0mself\u001b[0m\u001b[0;34m.\u001b[0m\u001b[0mcall\u001b[0m\u001b[0;34m\u001b[0m\u001b[0;34m\u001b[0m\u001b[0m\n",
      "\u001b[0;32m/home/looselot/virtualenvs/ENV-MAL/lib/python3.7/site-packages/keras/engine/input_spec.py\u001b[0m in \u001b[0;36massert_input_compatibility\u001b[0;34m(input_spec, inputs, layer_name)\u001b[0m\n\u001b[1;32m    232\u001b[0m                          \u001b[0;34m', found ndim='\u001b[0m \u001b[0;34m+\u001b[0m \u001b[0mstr\u001b[0m\u001b[0;34m(\u001b[0m\u001b[0mndim\u001b[0m\u001b[0;34m)\u001b[0m \u001b[0;34m+\u001b[0m\u001b[0;34m\u001b[0m\u001b[0;34m\u001b[0m\u001b[0m\n\u001b[1;32m    233\u001b[0m                          \u001b[0;34m'. Full shape received: '\u001b[0m \u001b[0;34m+\u001b[0m\u001b[0;34m\u001b[0m\u001b[0;34m\u001b[0m\u001b[0m\n\u001b[0;32m--> 234\u001b[0;31m                          str(tuple(shape)))\n\u001b[0m\u001b[1;32m    235\u001b[0m     \u001b[0;31m# Check dtype.\u001b[0m\u001b[0;34m\u001b[0m\u001b[0;34m\u001b[0m\u001b[0;34m\u001b[0m\u001b[0m\n\u001b[1;32m    236\u001b[0m     \u001b[0;32mif\u001b[0m \u001b[0mspec\u001b[0m\u001b[0;34m.\u001b[0m\u001b[0mdtype\u001b[0m \u001b[0;32mis\u001b[0m \u001b[0;32mnot\u001b[0m \u001b[0;32mNone\u001b[0m\u001b[0;34m:\u001b[0m\u001b[0;34m\u001b[0m\u001b[0;34m\u001b[0m\u001b[0m\n",
      "\u001b[0;31mValueError\u001b[0m: Input 0 of layer conv1d is incompatible with the layer: : expected min_ndim=3, found ndim=2. Full shape received: (53, 128)"
     ]
    }
   ],
   "source": [
    "layer_output = get_embed_out([X_test_seq[0]])\n",
    "print(type(layer_output), len(layer_output), layer_output[0].shape)"
   ]
  },
  {
   "cell_type": "code",
   "execution_count": 21,
   "id": "49dce51d",
   "metadata": {},
   "outputs": [],
   "source": [
    "enc_wba124_X_seq, n_alarm_wba124, mapping_dict_wba124 = label_encode(wba124.X_seq)"
   ]
  },
  {
   "cell_type": "code",
   "execution_count": 22,
   "id": "5564ab0f",
   "metadata": {},
   "outputs": [],
   "source": [
    "from tensorflow.keras.preprocessing.sequence import pad_sequences\n",
    "\n",
    "feature = pad_sequences(enc_wba124_X_seq, maxlen=n_alarm_wba124, value=0, \n",
    "                         truncating='pre', padding='pre') "
   ]
  },
  {
   "cell_type": "code",
   "execution_count": 36,
   "id": "dd126c6a",
   "metadata": {},
   "outputs": [
    {
     "data": {
      "text/plain": [
       "{0: 0.5609915198956295, 1: 4.598930481283422}"
      ]
     },
     "execution_count": 36,
     "metadata": {},
     "output_type": "execute_result"
    }
   ],
   "source": [
    "X_train, X_val, y_train, y_val = train_test_split(feature, wba124.major_down_arr, test_size=0.4)\n",
    "X_val, X_test, y_val, y_test = train_test_split(X_val, y_val, test_size=0.4)\n",
    "\n",
    "class_weights = class_weight.compute_class_weight('balanced',\n",
    "                                                 np.unique(y_train),\n",
    "                                                 y_train)\n",
    "weights ={}\n",
    "for idx, val in enumerate(class_weights):\n",
    "    weights[idx] = val\n",
    "weights"
   ]
  },
  {
   "cell_type": "code",
   "execution_count": 64,
   "id": "5199fb5b",
   "metadata": {
    "scrolled": true
   },
   "outputs": [
    {
     "name": "stdout",
     "output_type": "stream",
     "text": [
      "Epoch 1/10\n",
      "162/162 [==============================] - 6s 22ms/step - loss: 0.6785 - accuracy: 0.5545 - val_loss: 0.6619 - val_accuracy: 0.4423\n",
      "Epoch 2/10\n",
      "162/162 [==============================] - 3s 20ms/step - loss: 0.6614 - accuracy: 0.4715 - val_loss: 0.6575 - val_accuracy: 0.4583\n",
      "Epoch 3/10\n",
      "162/162 [==============================] - 3s 20ms/step - loss: 0.6477 - accuracy: 0.4713 - val_loss: 0.7895 - val_accuracy: 0.3711\n",
      "Epoch 4/10\n",
      "162/162 [==============================] - 3s 20ms/step - loss: 0.6436 - accuracy: 0.4638 - val_loss: 0.6128 - val_accuracy: 0.4893\n",
      "Epoch 5/10\n",
      "162/162 [==============================] - 3s 19ms/step - loss: 0.6346 - accuracy: 0.5116 - val_loss: 0.6018 - val_accuracy: 0.5058\n",
      "Epoch 6/10\n",
      "162/162 [==============================] - 3s 20ms/step - loss: 0.6254 - accuracy: 0.4913 - val_loss: 0.7448 - val_accuracy: 0.3910\n",
      "Epoch 7/10\n",
      "162/162 [==============================] - 3s 20ms/step - loss: 0.6182 - accuracy: 0.4818 - val_loss: 0.6637 - val_accuracy: 0.4535\n",
      "Epoch 8/10\n",
      "162/162 [==============================] - 3s 19ms/step - loss: 0.6080 - accuracy: 0.5444 - val_loss: 0.6437 - val_accuracy: 0.4651\n",
      "Epoch 9/10\n",
      "162/162 [==============================] - 3s 20ms/step - loss: 0.6047 - accuracy: 0.5932 - val_loss: 0.6631 - val_accuracy: 0.4453\n",
      "Epoch 10/10\n",
      "162/162 [==============================] - 3s 20ms/step - loss: 0.5899 - accuracy: 0.5547 - val_loss: 0.6133 - val_accuracy: 0.4937\n"
     ]
    }
   ],
   "source": [
    "model = Sequential()\n",
    "model.add(Embedding(n_alarm_wba124, 128, input_length=feature.shape[1], mask_zero=True))\n",
    "model.add(Conv1D(filters=32, kernel_size=3, padding='same', activation='relu'))\n",
    "model.add(MaxPooling1D(pool_size=2))\n",
    "model.add(LSTM(100))\n",
    "model.add(Dense(1, activation='sigmoid'))\n",
    "model.compile(loss='binary_crossentropy', optimizer='adam', metrics=['accuracy'])\n",
    "\n",
    "callbacks = [EarlyStopping(monitor='val_accuracy', mode='max', patience=5)]\n",
    "\n",
    "model.fit(np.array(X_train), np.array(y_train), \n",
    "          epochs=10, \n",
    "          batch_size=BATCH_SIZE,\n",
    "          verbose = 1,\n",
    "          class_weight=weights,\n",
    "          callbacks=callbacks,\n",
    "          validation_data=(X_val, np.array(y_val)))\n",
    "\n",
    "pred = model.predict(X_test)"
   ]
  },
  {
   "cell_type": "code",
   "execution_count": 68,
   "id": "1e427919",
   "metadata": {},
   "outputs": [
    {
     "name": "stdout",
     "output_type": "stream",
     "text": [
      "Model: \"sequential_14\"\n",
      "_________________________________________________________________\n",
      "Layer (type)                 Output Shape              Param #   \n",
      "=================================================================\n",
      "embedding_14 (Embedding)     (None, 48, 128)           6144      \n",
      "_________________________________________________________________\n",
      "conv1d_18 (Conv1D)           (None, 48, 32)            12320     \n",
      "_________________________________________________________________\n",
      "max_pooling1d_12 (MaxPooling (None, 24, 32)            0         \n",
      "_________________________________________________________________\n",
      "lstm_12 (LSTM)               (None, 100)               53200     \n",
      "_________________________________________________________________\n",
      "dense_13 (Dense)             (None, 1)                 101       \n",
      "=================================================================\n",
      "Total params: 71,765\n",
      "Trainable params: 71,765\n",
      "Non-trainable params: 0\n",
      "_________________________________________________________________\n"
     ]
    }
   ],
   "source": [
    "model.summary()"
   ]
  },
  {
   "cell_type": "code",
   "execution_count": 65,
   "id": "bfd2bf71",
   "metadata": {},
   "outputs": [
    {
     "name": "stdout",
     "output_type": "stream",
     "text": [
      "[[552 696]\n",
      " [ 35  94]]\n"
     ]
    },
    {
     "data": {
      "text/plain": [
       "(None, 0.4691358024691358)"
      ]
     },
     "execution_count": 65,
     "metadata": {},
     "output_type": "execute_result"
    }
   ],
   "source": [
    "classes = []\n",
    "for ele in pred:\n",
    "    classes.append(int((ele>0.5)[0]))\n",
    "\n",
    "print(confusion_matrix(np.array(y_test), classes)), accuracy_score(np.array(y_test), classes)"
   ]
  },
  {
   "cell_type": "code",
   "execution_count": 62,
   "id": "c9ffd6b5",
   "metadata": {},
   "outputs": [
    {
     "name": "stdout",
     "output_type": "stream",
     "text": [
      "Best Threshold=1.000000\n"
     ]
    },
    {
     "data": {
      "text/plain": [
       "(array([[553, 695],\n",
       "        [ 37,  92]]),\n",
       " 0.4684095860566449)"
      ]
     },
     "execution_count": 62,
     "metadata": {},
     "output_type": "execute_result"
    }
   ],
   "source": [
    "from sklearn.metrics import roc_auc_score\n",
    "from sklearn.metrics import roc_curve\n",
    "\n",
    "def to_labels(y_scores, threshold):\n",
    "    return (y_scores >= threshold).astype('int')\n",
    "\n",
    "fpr, tpr, thresholds = roc_curve(np.array(y_test), classes)\n",
    "J = tpr - fpr\n",
    "ix = np.argmax(J)\n",
    "best_thresh = thresholds[ix]\n",
    "print('Best Threshold=%f' % (best_thresh))\n",
    "\n",
    "testest = to_labels(classes, best_thresh) # best thresh optimizes recall\n",
    "confusion_matrix(np.array(y_test), testest), accuracy_score(np.array(y_test), testest)"
   ]
  },
  {
   "cell_type": "code",
   "execution_count": 73,
   "id": "ee5246a1",
   "metadata": {},
   "outputs": [
    {
     "ename": "ValueError",
     "evalue": "Input 0 of layer conv1d_18 is incompatible with the layer: : expected min_ndim=3, found ndim=2. Full shape received: (4, 128)",
     "output_type": "error",
     "traceback": [
      "\u001b[0;31m---------------------------------------------------------------------------\u001b[0m",
      "\u001b[0;31mValueError\u001b[0m                                Traceback (most recent call last)",
      "\u001b[0;32m<ipython-input-73-1b1a8c2a2a1d>\u001b[0m in \u001b[0;36m<module>\u001b[0;34m\u001b[0m\n\u001b[1;32m     14\u001b[0m \u001b[0memb_alarms\u001b[0m \u001b[0;34m=\u001b[0m \u001b[0mtf\u001b[0m\u001b[0;34m.\u001b[0m\u001b[0mconstant\u001b[0m\u001b[0;34m(\u001b[0m\u001b[0;34m[\u001b[0m\u001b[0mmapping_dict_wba124\u001b[0m\u001b[0;34m[\u001b[0m\u001b[0malarm\u001b[0m\u001b[0;34m]\u001b[0m \u001b[0;32mfor\u001b[0m \u001b[0malarm\u001b[0m \u001b[0;32min\u001b[0m \u001b[0malarms\u001b[0m\u001b[0;34m]\u001b[0m\u001b[0;34m)\u001b[0m\u001b[0;34m\u001b[0m\u001b[0;34m\u001b[0m\u001b[0m\n\u001b[1;32m     15\u001b[0m \u001b[0;34m\u001b[0m\u001b[0m\n\u001b[0;32m---> 16\u001b[0;31m \u001b[0mwords\u001b[0m \u001b[0;34m=\u001b[0m \u001b[0mget_embed_out\u001b[0m\u001b[0;34m(\u001b[0m\u001b[0;34m[\u001b[0m\u001b[0memb_alarms\u001b[0m\u001b[0;34m]\u001b[0m\u001b[0;34m)\u001b[0m\u001b[0;34m[\u001b[0m\u001b[0;36m0\u001b[0m\u001b[0;34m]\u001b[0m\u001b[0;34m\u001b[0m\u001b[0;34m\u001b[0m\u001b[0m\n\u001b[0m\u001b[1;32m     17\u001b[0m \u001b[0;34m\u001b[0m\u001b[0m\n\u001b[1;32m     18\u001b[0m \u001b[0mplt\u001b[0m\u001b[0;34m.\u001b[0m\u001b[0mscatter\u001b[0m\u001b[0;34m(\u001b[0m\u001b[0mwords\u001b[0m\u001b[0;34m[\u001b[0m\u001b[0;34m:\u001b[0m\u001b[0;34m,\u001b[0m\u001b[0;36m0\u001b[0m\u001b[0;34m]\u001b[0m\u001b[0;34m,\u001b[0m \u001b[0mwords\u001b[0m\u001b[0;34m[\u001b[0m\u001b[0;34m:\u001b[0m\u001b[0;34m,\u001b[0m\u001b[0;36m1\u001b[0m\u001b[0;34m]\u001b[0m\u001b[0;34m)\u001b[0m\u001b[0;34m\u001b[0m\u001b[0;34m\u001b[0m\u001b[0m\n",
      "\u001b[0;32m/home/looselot/virtualenvs/ENV-MAL/lib/python3.7/site-packages/keras/backend.py\u001b[0m in \u001b[0;36mfunc\u001b[0;34m(model_inputs)\u001b[0m\n\u001b[1;32m   4076\u001b[0m     \u001b[0mwrap_outputs\u001b[0m \u001b[0;34m=\u001b[0m \u001b[0misinstance\u001b[0m\u001b[0;34m(\u001b[0m\u001b[0moutputs\u001b[0m\u001b[0;34m,\u001b[0m \u001b[0mlist\u001b[0m\u001b[0;34m)\u001b[0m \u001b[0;32mand\u001b[0m \u001b[0mlen\u001b[0m\u001b[0;34m(\u001b[0m\u001b[0moutputs\u001b[0m\u001b[0;34m)\u001b[0m \u001b[0;34m==\u001b[0m \u001b[0;36m1\u001b[0m\u001b[0;34m\u001b[0m\u001b[0;34m\u001b[0m\u001b[0m\n\u001b[1;32m   4077\u001b[0m     \u001b[0;32mdef\u001b[0m \u001b[0mfunc\u001b[0m\u001b[0;34m(\u001b[0m\u001b[0mmodel_inputs\u001b[0m\u001b[0;34m)\u001b[0m\u001b[0;34m:\u001b[0m\u001b[0;34m\u001b[0m\u001b[0;34m\u001b[0m\u001b[0m\n\u001b[0;32m-> 4078\u001b[0;31m       \u001b[0mouts\u001b[0m \u001b[0;34m=\u001b[0m \u001b[0mmodel\u001b[0m\u001b[0;34m(\u001b[0m\u001b[0mmodel_inputs\u001b[0m\u001b[0;34m)\u001b[0m\u001b[0;34m\u001b[0m\u001b[0;34m\u001b[0m\u001b[0m\n\u001b[0m\u001b[1;32m   4079\u001b[0m       \u001b[0;32mif\u001b[0m \u001b[0mwrap_outputs\u001b[0m\u001b[0;34m:\u001b[0m\u001b[0;34m\u001b[0m\u001b[0;34m\u001b[0m\u001b[0m\n\u001b[1;32m   4080\u001b[0m         \u001b[0mouts\u001b[0m \u001b[0;34m=\u001b[0m \u001b[0;34m[\u001b[0m\u001b[0mouts\u001b[0m\u001b[0;34m]\u001b[0m\u001b[0;34m\u001b[0m\u001b[0;34m\u001b[0m\u001b[0m\n",
      "\u001b[0;32m/home/looselot/virtualenvs/ENV-MAL/lib/python3.7/site-packages/keras/engine/base_layer.py\u001b[0m in \u001b[0;36m__call__\u001b[0;34m(self, *args, **kwargs)\u001b[0m\n\u001b[1;32m   1035\u001b[0m         with autocast_variable.enable_auto_cast_variables(\n\u001b[1;32m   1036\u001b[0m             self._compute_dtype_object):\n\u001b[0;32m-> 1037\u001b[0;31m           \u001b[0moutputs\u001b[0m \u001b[0;34m=\u001b[0m \u001b[0mcall_fn\u001b[0m\u001b[0;34m(\u001b[0m\u001b[0minputs\u001b[0m\u001b[0;34m,\u001b[0m \u001b[0;34m*\u001b[0m\u001b[0margs\u001b[0m\u001b[0;34m,\u001b[0m \u001b[0;34m**\u001b[0m\u001b[0mkwargs\u001b[0m\u001b[0;34m)\u001b[0m\u001b[0;34m\u001b[0m\u001b[0;34m\u001b[0m\u001b[0m\n\u001b[0m\u001b[1;32m   1038\u001b[0m \u001b[0;34m\u001b[0m\u001b[0m\n\u001b[1;32m   1039\u001b[0m         \u001b[0;32mif\u001b[0m \u001b[0mself\u001b[0m\u001b[0;34m.\u001b[0m\u001b[0m_activity_regularizer\u001b[0m\u001b[0;34m:\u001b[0m\u001b[0;34m\u001b[0m\u001b[0;34m\u001b[0m\u001b[0m\n",
      "\u001b[0;32m/home/looselot/virtualenvs/ENV-MAL/lib/python3.7/site-packages/keras/engine/functional.py\u001b[0m in \u001b[0;36mcall\u001b[0;34m(self, inputs, training, mask)\u001b[0m\n\u001b[1;32m    413\u001b[0m     \"\"\"\n\u001b[1;32m    414\u001b[0m     return self._run_internal_graph(\n\u001b[0;32m--> 415\u001b[0;31m         inputs, training=training, mask=mask)\n\u001b[0m\u001b[1;32m    416\u001b[0m \u001b[0;34m\u001b[0m\u001b[0m\n\u001b[1;32m    417\u001b[0m   \u001b[0;32mdef\u001b[0m \u001b[0mcompute_output_shape\u001b[0m\u001b[0;34m(\u001b[0m\u001b[0mself\u001b[0m\u001b[0;34m,\u001b[0m \u001b[0minput_shape\u001b[0m\u001b[0;34m)\u001b[0m\u001b[0;34m:\u001b[0m\u001b[0;34m\u001b[0m\u001b[0;34m\u001b[0m\u001b[0m\n",
      "\u001b[0;32m/home/looselot/virtualenvs/ENV-MAL/lib/python3.7/site-packages/keras/engine/functional.py\u001b[0m in \u001b[0;36m_run_internal_graph\u001b[0;34m(self, inputs, training, mask)\u001b[0m\n\u001b[1;32m    548\u001b[0m \u001b[0;34m\u001b[0m\u001b[0m\n\u001b[1;32m    549\u001b[0m         \u001b[0margs\u001b[0m\u001b[0;34m,\u001b[0m \u001b[0mkwargs\u001b[0m \u001b[0;34m=\u001b[0m \u001b[0mnode\u001b[0m\u001b[0;34m.\u001b[0m\u001b[0mmap_arguments\u001b[0m\u001b[0;34m(\u001b[0m\u001b[0mtensor_dict\u001b[0m\u001b[0;34m)\u001b[0m\u001b[0;34m\u001b[0m\u001b[0;34m\u001b[0m\u001b[0m\n\u001b[0;32m--> 550\u001b[0;31m         \u001b[0moutputs\u001b[0m \u001b[0;34m=\u001b[0m \u001b[0mnode\u001b[0m\u001b[0;34m.\u001b[0m\u001b[0mlayer\u001b[0m\u001b[0;34m(\u001b[0m\u001b[0;34m*\u001b[0m\u001b[0margs\u001b[0m\u001b[0;34m,\u001b[0m \u001b[0;34m**\u001b[0m\u001b[0mkwargs\u001b[0m\u001b[0;34m)\u001b[0m\u001b[0;34m\u001b[0m\u001b[0;34m\u001b[0m\u001b[0m\n\u001b[0m\u001b[1;32m    551\u001b[0m \u001b[0;34m\u001b[0m\u001b[0m\n\u001b[1;32m    552\u001b[0m         \u001b[0;31m# Update tensor_dict.\u001b[0m\u001b[0;34m\u001b[0m\u001b[0;34m\u001b[0m\u001b[0;34m\u001b[0m\u001b[0m\n",
      "\u001b[0;32m/home/looselot/virtualenvs/ENV-MAL/lib/python3.7/site-packages/keras/engine/base_layer.py\u001b[0m in \u001b[0;36m__call__\u001b[0;34m(self, *args, **kwargs)\u001b[0m\n\u001b[1;32m   1018\u001b[0m         training=training_mode):\n\u001b[1;32m   1019\u001b[0m \u001b[0;34m\u001b[0m\u001b[0m\n\u001b[0;32m-> 1020\u001b[0;31m       \u001b[0minput_spec\u001b[0m\u001b[0;34m.\u001b[0m\u001b[0massert_input_compatibility\u001b[0m\u001b[0;34m(\u001b[0m\u001b[0mself\u001b[0m\u001b[0;34m.\u001b[0m\u001b[0minput_spec\u001b[0m\u001b[0;34m,\u001b[0m \u001b[0minputs\u001b[0m\u001b[0;34m,\u001b[0m \u001b[0mself\u001b[0m\u001b[0;34m.\u001b[0m\u001b[0mname\u001b[0m\u001b[0;34m)\u001b[0m\u001b[0;34m\u001b[0m\u001b[0;34m\u001b[0m\u001b[0m\n\u001b[0m\u001b[1;32m   1021\u001b[0m       \u001b[0;32mif\u001b[0m \u001b[0meager\u001b[0m\u001b[0;34m:\u001b[0m\u001b[0;34m\u001b[0m\u001b[0;34m\u001b[0m\u001b[0m\n\u001b[1;32m   1022\u001b[0m         \u001b[0mcall_fn\u001b[0m \u001b[0;34m=\u001b[0m \u001b[0mself\u001b[0m\u001b[0;34m.\u001b[0m\u001b[0mcall\u001b[0m\u001b[0;34m\u001b[0m\u001b[0;34m\u001b[0m\u001b[0m\n",
      "\u001b[0;32m/home/looselot/virtualenvs/ENV-MAL/lib/python3.7/site-packages/keras/engine/input_spec.py\u001b[0m in \u001b[0;36massert_input_compatibility\u001b[0;34m(input_spec, inputs, layer_name)\u001b[0m\n\u001b[1;32m    232\u001b[0m                          \u001b[0;34m', found ndim='\u001b[0m \u001b[0;34m+\u001b[0m \u001b[0mstr\u001b[0m\u001b[0;34m(\u001b[0m\u001b[0mndim\u001b[0m\u001b[0;34m)\u001b[0m \u001b[0;34m+\u001b[0m\u001b[0;34m\u001b[0m\u001b[0;34m\u001b[0m\u001b[0m\n\u001b[1;32m    233\u001b[0m                          \u001b[0;34m'. Full shape received: '\u001b[0m \u001b[0;34m+\u001b[0m\u001b[0;34m\u001b[0m\u001b[0;34m\u001b[0m\u001b[0m\n\u001b[0;32m--> 234\u001b[0;31m                          str(tuple(shape)))\n\u001b[0m\u001b[1;32m    235\u001b[0m     \u001b[0;31m# Check dtype.\u001b[0m\u001b[0;34m\u001b[0m\u001b[0;34m\u001b[0m\u001b[0;34m\u001b[0m\u001b[0m\n\u001b[1;32m    236\u001b[0m     \u001b[0;32mif\u001b[0m \u001b[0mspec\u001b[0m\u001b[0;34m.\u001b[0m\u001b[0mdtype\u001b[0m \u001b[0;32mis\u001b[0m \u001b[0;32mnot\u001b[0m \u001b[0;32mNone\u001b[0m\u001b[0;34m:\u001b[0m\u001b[0;34m\u001b[0m\u001b[0;34m\u001b[0m\u001b[0m\n",
      "\u001b[0;31mValueError\u001b[0m: Input 0 of layer conv1d_18 is incompatible with the layer: : expected min_ndim=3, found ndim=2. Full shape received: (4, 128)"
     ]
    }
   ],
   "source": [
    "import matplotlib.pyplot as plt\n",
    "import tensorflow as tf\n",
    "from tensorflow import keras\n",
    "\n",
    "# with a Sequential model\n",
    "get_embed_out = keras.backend.function(\n",
    "    [model.layers[0].input],\n",
    "    [model.layers[1].output])\n",
    "\n",
    "layer_output = get_embed_out([X_test[0].reshape(-1, X_test[0].shape[0])])\n",
    "\n",
    "alarms = [44, 45 ,90, 150]\n",
    "emb_alarms = tf.constant([mapping_dict_wba124[alarm] for alarm in alarms])\n",
    "\n",
    "words = get_embed_out([emb_alarms])[0]\n",
    "\n",
    "plt.scatter(words[:,0], words[:,1])\n",
    "for i, txt in enumerate(alarms):\n",
    "    plt.annotate(txt, (words[i,0], words[i,1]))"
   ]
  },
  {
   "cell_type": "code",
   "execution_count": 74,
   "id": "308e683d",
   "metadata": {},
   "outputs": [
    {
     "data": {
      "text/plain": [
       "<tf.Tensor: shape=(4,), dtype=int32, numpy=array([28, 29, 42, 17], dtype=int32)>"
      ]
     },
     "execution_count": 74,
     "metadata": {},
     "output_type": "execute_result"
    }
   ],
   "source": [
    "emb_alarms"
   ]
  },
  {
   "cell_type": "code",
   "execution_count": null,
   "id": "2b8fcf1d",
   "metadata": {},
   "outputs": [],
   "source": []
  },
  {
   "cell_type": "code",
   "execution_count": null,
   "id": "920dde0a",
   "metadata": {},
   "outputs": [],
   "source": [
    "seq_result # Embedding + Conv1D + LSTM"
   ]
  },
  {
   "cell_type": "code",
   "execution_count": 7,
   "id": "701dbb0a",
   "metadata": {},
   "outputs": [
    {
     "data": {
      "text/plain": [
       "{12: [[0.6287420988082886,\n",
       "   0.5336463451385498,\n",
       "   0.4633152186870575,\n",
       "   0.6475076079368591],\n",
       "  array([[932, 298],\n",
       "         [395, 341]])],\n",
       " (12, 30): [0.6287420988082886,\n",
       "  0.5336463451385498,\n",
       "  0.4633152186870575,\n",
       "  0.6475076079368591],\n",
       " 24: [[0.6324173808097839,\n",
       "   0.5170998573303223,\n",
       "   0.5142857432365417,\n",
       "   0.6386768221855164],\n",
       "  array([[877, 353],\n",
       "         [357, 378]])],\n",
       " (24, 58): [0.6324173808097839,\n",
       "  0.5170998573303223,\n",
       "  0.5142857432365417,\n",
       "  0.6386768221855164],\n",
       " 48: [[0.6813942790031433,\n",
       "   0.4801097512245178,\n",
       "   0.47683924436569214,\n",
       "   0.6113092303276062],\n",
       "  array([[850, 379],\n",
       "         [384, 350]])],\n",
       " (48, 115): [0.6813942790031433,\n",
       "  0.4801097512245178,\n",
       "  0.47683924436569214,\n",
       "  0.6113092303276062],\n",
       " 72: [[0.8038536310195923,\n",
       "   0.42728298902511597,\n",
       "   0.5156462788581848,\n",
       "   0.5596330165863037],\n",
       "  array([[719, 508],\n",
       "         [356, 379]])],\n",
       " (72, 169): [0.8038536310195923,\n",
       "  0.42728298902511597,\n",
       "  0.5156462788581848,\n",
       "  0.5596330165863037]}"
      ]
     },
     "execution_count": 7,
     "metadata": {},
     "output_type": "execute_result"
    }
   ],
   "source": [
    "seq_result # stack Conv1D above LSTM (without removing noise)"
   ]
  },
  {
   "cell_type": "code",
   "execution_count": 7,
   "id": "2cd13298",
   "metadata": {},
   "outputs": [
    {
     "data": {
      "text/plain": [
       "{12: [[0.6843389272689819,\n",
       "   0.4783889949321747,\n",
       "   0.7767145037651062,\n",
       "   0.5706973671913147],\n",
       "  array([[405, 531],\n",
       "         [140, 487]])],\n",
       " (12, 38): [0.6843389272689819,\n",
       "  0.4783889949321747,\n",
       "  0.7767145037651062,\n",
       "  0.5706973671913147],\n",
       " 24: [[0.6756141185760498,\n",
       "   0.4753146171569824,\n",
       "   0.7695924639701843,\n",
       "   0.5767813324928284],\n",
       "  array([[448, 542],\n",
       "         [147, 491]])],\n",
       " (24, 71): [0.6756141185760498,\n",
       "  0.4753146171569824,\n",
       "  0.7695924639701843,\n",
       "  0.5767813324928284],\n",
       " 48: [[0.686356782913208,\n",
       "   0.4554730951786041,\n",
       "   0.7577160596847534,\n",
       "   0.5595026612281799],\n",
       "  array([[454, 587],\n",
       "         [157, 491]])],\n",
       " (48, 133): [0.686356782913208,\n",
       "  0.4554730951786041,\n",
       "  0.7577160596847534,\n",
       "  0.5595026612281799],\n",
       " 72: [[0.6810200810432434,\n",
       "   0.4411483108997345,\n",
       "   0.7048929929733276,\n",
       "   0.5485183000564575],\n",
       "  array([[483, 584],\n",
       "         [193, 461]])],\n",
       " (72, 193): [0.6810200810432434,\n",
       "  0.4411483108997345,\n",
       "  0.7048929929733276,\n",
       "  0.5485183000564575]}"
      ]
     },
     "execution_count": 7,
     "metadata": {},
     "output_type": "execute_result"
    }
   ],
   "source": [
    "seq_result # downsample negative data"
   ]
  },
  {
   "cell_type": "code",
   "execution_count": 8,
   "id": "b1b9a45c",
   "metadata": {},
   "outputs": [
    {
     "data": {
      "text/plain": [
       "{(12, 34): [0.7047469019889832,\n",
       "  0.1626969575881958,\n",
       "  0.7081339955329895,\n",
       "  0.534690797328949],\n",
       " (24, 66): [0.7164930105209351,\n",
       "  0.15516085922718048,\n",
       "  0.7257053256034851,\n",
       "  0.517192006111145],\n",
       " (48, 126): [0.6946452856063843,\n",
       "  0.14175792038440704,\n",
       "  0.7391975522041321,\n",
       "  0.4753846228122711]}"
      ]
     },
     "execution_count": 8,
     "metadata": {},
     "output_type": "execute_result"
    }
   ],
   "source": [
    "seq_result # monitor val recall\n",
    "# {72: [0.7307, 0.1300, 0.8012, 0.3925]}"
   ]
  },
  {
   "cell_type": "code",
   "execution_count": 7,
   "id": "c67a3624",
   "metadata": {},
   "outputs": [
    {
     "data": {
      "text/plain": [
       "{(24, 34): [0.5954988598823547,\n",
       "  0.1780264526605606,\n",
       "  0.5582137107849121,\n",
       "  0.6430995464324951],\n",
       " (12, 34): [0.6063371300697327,\n",
       "  0.17000912129878998,\n",
       "  0.5948963165283203,\n",
       "  0.6087858080863953],\n",
       " (24, 66): [0.6042451858520508,\n",
       "  0.1820913404226303,\n",
       "  0.47492164373397827,\n",
       "  0.6962750554084778],\n",
       " (48, 126): [0.5850675106048584,\n",
       "  0.1593644618988037,\n",
       "  0.5108024477958679,\n",
       "  0.6473504304885864],\n",
       " (72, 185): [0.5972234010696411,\n",
       "  0.1689220666885376,\n",
       "  0.5535168051719666,\n",
       "  0.6538076400756836]}"
      ]
     },
     "execution_count": 7,
     "metadata": {},
     "output_type": "execute_result"
    }
   ],
   "source": [
    "seq_result # train on 5 machines same EQ family with shuffle and masking and empty datapoints removed"
   ]
  },
  {
   "cell_type": "code",
   "execution_count": null,
   "id": "ac8529d9",
   "metadata": {},
   "outputs": [],
   "source": [
    "seq_result # everything on top but trained on a bidirectional LSTM layer\n",
    "# {12: [1.4355, 0.2238, 0.2041, 0.8222]}\n",
    "# {24: [1.0140, 0.2651, 0.2962, 0.8258]}\n",
    "# {48: [0.9016, 0.2873, 0.3210, 0.8366]}"
   ]
  },
  {
   "cell_type": "markdown",
   "id": "3c179781",
   "metadata": {},
   "source": [
    "# Model Architecture"
   ]
  },
  {
   "cell_type": "code",
   "execution_count": 26,
   "id": "7d11b162",
   "metadata": {},
   "outputs": [
    {
     "data": {
      "image/png": "[encoded data removed]",
      "text/plain": [
       "<IPython.core.display.Image object>"
      ]
     },
     "execution_count": 26,
     "metadata": {},
     "output_type": "execute_result"
    }
   ],
   "source": [
    "from keras.utils.vis_utils import plot_model\n",
    "\n",
    "plot_model(model, show_shapes=True, show_layer_names=True)"
   ]
  },
  {
   "cell_type": "code",
   "execution_count": null,
   "id": "fef04aea",
   "metadata": {},
   "outputs": [],
   "source": []
  }
 ],
 "metadata": {
  "kernelspec": {
   "display_name": "ENV-MAL-VE",
   "language": "python",
   "name": "env-mal-ve_kernel"
  },
  "language_info": {
   "codemirror_mode": {
    "name": "ipython",
    "version": 3
   },
   "file_extension": ".py",
   "mimetype": "text/x-python",
   "name": "python",
   "nbconvert_exporter": "python",
   "pygments_lexer": "ipython3",
   "version": "3.7.9"
  }
 },
 "nbformat": 4,
 "nbformat_minor": 5
}
