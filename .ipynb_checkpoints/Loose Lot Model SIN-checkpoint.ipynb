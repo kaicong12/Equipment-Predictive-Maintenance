{
 "cells": [
  {
   "cell_type": "code",
   "execution_count": 1,
   "id": "0b1254c9",
   "metadata": {},
   "outputs": [],
   "source": [
    "# This Python file includes steps on training the model and saving the model\n",
    "\n",
    "# Import all the libraries\n",
    "import pandas as pd \n",
    "import numpy as np \n",
    "import matplotlib.pyplot as plt\n",
    "from sklearn.metrics import classification_report\n",
    "from sklearn.metrics import accuracy_score\n",
    "from sklearn.metrics import confusion_matrix\n",
    "from sklearn.metrics import plot_confusion_matrix\n",
    "from sklearn.metrics import roc_auc_score\n",
    "from sklearn.model_selection import train_test_split\n",
    "from sklearn.metrics import precision_recall_curve, precision_score, recall_score\n",
    "from matplotlib import pyplot\n",
    "from sklearn.metrics import fbeta_score\n",
    "import datetime\n",
    "from sklearn.metrics import roc_auc_score\n",
    "from sklearn.metrics import average_precision_score\n",
    "from collections import Counter\n",
    "import xgboost as xgb\n",
    "from imblearn.over_sampling import SMOTE, ADASYN\n",
    "# Use the command \"pip install -U imbalanced-learn\" on Anaconda Prompt\n",
    "# Then, restart the kernel.            \n",
    "import joblib\n",
    "import cx_Oracle"
   ]
  },
  {
   "cell_type": "code",
   "execution_count": 2,
   "id": "e589bbb7",
   "metadata": {},
   "outputs": [],
   "source": [
    "import pandas as pd\n",
    "from sqlalchemy import create_engine\n",
    "\n",
    "try:\n",
    "    oracle_connection_string = \"oracle+cx_oracle://{username}:{password}@{hostname}:{port}/{database}\"\n",
    "    engine = create_engine(\n",
    "        oracle_connection_string.format(\n",
    "            username= 'HARVESTING_BEAR_INDEX',\n",
    "            password = 'P@ssword(May2018)',\n",
    "            hostname = 'mpdb-db.sin.infineon.com',\n",
    "            port = '1542',\n",
    "            database = 'mpdb',\n",
    "        )\n",
    "    )\n",
    "\n",
    "except Exception as err:\n",
    "    print(str(err))"
   ]
  },
  {
   "cell_type": "code",
   "execution_count": 3,
   "id": "aa4a1295",
   "metadata": {},
   "outputs": [
    {
     "data": {
      "text/html": [
       "<div>\n",
       "<style scoped>\n",
       "    .dataframe tbody tr th:only-of-type {\n",
       "        vertical-align: middle;\n",
       "    }\n",
       "\n",
       "    .dataframe tbody tr th {\n",
       "        vertical-align: top;\n",
       "    }\n",
       "\n",
       "    .dataframe thead th {\n",
       "        text-align: right;\n",
       "    }\n",
       "</style>\n",
       "<table border=\"1\" class=\"dataframe\">\n",
       "  <thead>\n",
       "    <tr style=\"text-align: right;\">\n",
       "      <th></th>\n",
       "      <th>datecode</th>\n",
       "      <th>looselotcontaname</th>\n",
       "      <th>combinetimestamp</th>\n",
       "      <th>scraplottimestamp</th>\n",
       "      <th>looselottimestamp</th>\n",
       "      <th>ownername</th>\n",
       "      <th>qty</th>\n",
       "      <th>futureholdcount</th>\n",
       "      <th>ifxisbequalityrisk</th>\n",
       "      <th>ifxisfequalityrisk</th>\n",
       "      <th>...</th>\n",
       "      <th>ifxisnottomerge</th>\n",
       "      <th>timeheld</th>\n",
       "      <th>currentholdcount</th>\n",
       "      <th>ifxpackagefamily</th>\n",
       "      <th>status</th>\n",
       "      <th>combinecontaname</th>\n",
       "      <th>scrapcontaname</th>\n",
       "      <th>successfullycombined</th>\n",
       "      <th>combinelogic</th>\n",
       "      <th>remaininghrs</th>\n",
       "    </tr>\n",
       "  </thead>\n",
       "  <tbody>\n",
       "    <tr>\n",
       "      <th>0</th>\n",
       "      <td>2042</td>\n",
       "      <td>VE023719A09</td>\n",
       "      <td>NaT</td>\n",
       "      <td>NaT</td>\n",
       "      <td>2021-01-26 16:31:34</td>\n",
       "      <td>PROD</td>\n",
       "      <td>740</td>\n",
       "      <td>0</td>\n",
       "      <td>0</td>\n",
       "      <td>0</td>\n",
       "      <td>...</td>\n",
       "      <td>0</td>\n",
       "      <td>99999999.00</td>\n",
       "      <td>0</td>\n",
       "      <td>DSO150/SSOP</td>\n",
       "      <td>2</td>\n",
       "      <td>None</td>\n",
       "      <td>None</td>\n",
       "      <td>8888888</td>\n",
       "      <td>None</td>\n",
       "      <td>0.000000</td>\n",
       "    </tr>\n",
       "    <tr>\n",
       "      <th>1</th>\n",
       "      <td>2103</td>\n",
       "      <td>84PVNU65A04</td>\n",
       "      <td>2021-02-20 08:16:52</td>\n",
       "      <td>NaT</td>\n",
       "      <td>2021-01-27 22:33:26</td>\n",
       "      <td>PROD</td>\n",
       "      <td>249</td>\n",
       "      <td>0</td>\n",
       "      <td>0</td>\n",
       "      <td>0</td>\n",
       "      <td>...</td>\n",
       "      <td>0</td>\n",
       "      <td>23.41</td>\n",
       "      <td>0</td>\n",
       "      <td>LQFP</td>\n",
       "      <td>2</td>\n",
       "      <td>84PVNU65A04</td>\n",
       "      <td>None</td>\n",
       "      <td>1</td>\n",
       "      <td>COMBINEHISTORYLOGIC</td>\n",
       "      <td>-4934.658627</td>\n",
       "    </tr>\n",
       "    <tr>\n",
       "      <th>2</th>\n",
       "      <td>2102</td>\n",
       "      <td>ZA029145A11</td>\n",
       "      <td>2021-01-29 02:09:04</td>\n",
       "      <td>NaT</td>\n",
       "      <td>2021-01-29 02:06:53</td>\n",
       "      <td>PROD</td>\n",
       "      <td>952</td>\n",
       "      <td>0</td>\n",
       "      <td>0</td>\n",
       "      <td>0</td>\n",
       "      <td>...</td>\n",
       "      <td>0</td>\n",
       "      <td>0.00</td>\n",
       "      <td>0</td>\n",
       "      <td>VQFN</td>\n",
       "      <td>2</td>\n",
       "      <td>ZA029145A11</td>\n",
       "      <td>None</td>\n",
       "      <td>1</td>\n",
       "      <td>COMBINEHISTORYLOGIC</td>\n",
       "      <td>-5466.883889</td>\n",
       "    </tr>\n",
       "    <tr>\n",
       "      <th>3</th>\n",
       "      <td>2102</td>\n",
       "      <td>84PVPR99A13</td>\n",
       "      <td>2021-01-29 09:29:28</td>\n",
       "      <td>NaT</td>\n",
       "      <td>2021-01-29 09:03:40</td>\n",
       "      <td>PROD</td>\n",
       "      <td>210</td>\n",
       "      <td>0</td>\n",
       "      <td>0</td>\n",
       "      <td>0</td>\n",
       "      <td>...</td>\n",
       "      <td>0</td>\n",
       "      <td>0.02</td>\n",
       "      <td>0</td>\n",
       "      <td>LFBGA</td>\n",
       "      <td>2</td>\n",
       "      <td>84PVPR99A13</td>\n",
       "      <td>None</td>\n",
       "      <td>1</td>\n",
       "      <td>COMBINEHISTORYLOGIC</td>\n",
       "      <td>-5460.132390</td>\n",
       "    </tr>\n",
       "    <tr>\n",
       "      <th>4</th>\n",
       "      <td>2101</td>\n",
       "      <td>ZA025498A02</td>\n",
       "      <td>2021-01-30 11:15:15</td>\n",
       "      <td>NaT</td>\n",
       "      <td>2021-01-30 02:41:31</td>\n",
       "      <td>PROD</td>\n",
       "      <td>2470</td>\n",
       "      <td>0</td>\n",
       "      <td>0</td>\n",
       "      <td>0</td>\n",
       "      <td>...</td>\n",
       "      <td>0</td>\n",
       "      <td>0.36</td>\n",
       "      <td>0</td>\n",
       "      <td>VQFN</td>\n",
       "      <td>2</td>\n",
       "      <td>ZA025498A02</td>\n",
       "      <td>None</td>\n",
       "      <td>1</td>\n",
       "      <td>COMBINEHISTORYLOGIC</td>\n",
       "      <td>-5432.591830</td>\n",
       "    </tr>\n",
       "  </tbody>\n",
       "</table>\n",
       "<p>5 rows × 27 columns</p>\n",
       "</div>"
      ],
      "text/plain": [
       "  datecode looselotcontaname    combinetimestamp scraplottimestamp  \\\n",
       "0     2042       VE023719A09                 NaT               NaT   \n",
       "1     2103       84PVNU65A04 2021-02-20 08:16:52               NaT   \n",
       "2     2102       ZA029145A11 2021-01-29 02:09:04               NaT   \n",
       "3     2102       84PVPR99A13 2021-01-29 09:29:28               NaT   \n",
       "4     2101       ZA025498A02 2021-01-30 11:15:15               NaT   \n",
       "\n",
       "    looselottimestamp ownername   qty futureholdcount ifxisbequalityrisk  \\\n",
       "0 2021-01-26 16:31:34      PROD   740               0                  0   \n",
       "1 2021-01-27 22:33:26      PROD   249               0                  0   \n",
       "2 2021-01-29 02:06:53      PROD   952               0                  0   \n",
       "3 2021-01-29 09:03:40      PROD   210               0                  0   \n",
       "4 2021-01-30 02:41:31      PROD  2470               0                  0   \n",
       "\n",
       "  ifxisfequalityrisk  ... ifxisnottomerge     timeheld currentholdcount  \\\n",
       "0                  0  ...               0  99999999.00                0   \n",
       "1                  0  ...               0        23.41                0   \n",
       "2                  0  ...               0         0.00                0   \n",
       "3                  0  ...               0         0.02                0   \n",
       "4                  0  ...               0         0.36                0   \n",
       "\n",
       "  ifxpackagefamily status combinecontaname scrapcontaname  \\\n",
       "0      DSO150/SSOP      2             None           None   \n",
       "1             LQFP      2      84PVNU65A04           None   \n",
       "2             VQFN      2      ZA029145A11           None   \n",
       "3            LFBGA      2      84PVPR99A13           None   \n",
       "4             VQFN      2      ZA025498A02           None   \n",
       "\n",
       "  successfullycombined         combinelogic remaininghrs  \n",
       "0              8888888                 None     0.000000  \n",
       "1                    1  COMBINEHISTORYLOGIC -4934.658627  \n",
       "2                    1  COMBINEHISTORYLOGIC -5466.883889  \n",
       "3                    1  COMBINEHISTORYLOGIC -5460.132390  \n",
       "4                    1  COMBINEHISTORYLOGIC -5432.591830  \n",
       "\n",
       "[5 rows x 27 columns]"
      ]
     },
     "execution_count": 3,
     "metadata": {},
     "output_type": "execute_result"
    }
   ],
   "source": [
    "df = pd.read_sql(\"SELECT * FROM LOOSELOT_TRAINING_SIN\",engine)\n",
    "df.head()"
   ]
  },
  {
   "cell_type": "code",
   "execution_count": 4,
   "id": "fac08bbf",
   "metadata": {},
   "outputs": [
    {
     "data": {
      "text/html": [
       "<div>\n",
       "<style scoped>\n",
       "    .dataframe tbody tr th:only-of-type {\n",
       "        vertical-align: middle;\n",
       "    }\n",
       "\n",
       "    .dataframe tbody tr th {\n",
       "        vertical-align: top;\n",
       "    }\n",
       "\n",
       "    .dataframe thead th {\n",
       "        text-align: right;\n",
       "    }\n",
       "</style>\n",
       "<table border=\"1\" class=\"dataframe\">\n",
       "  <thead>\n",
       "    <tr style=\"text-align: right;\">\n",
       "      <th></th>\n",
       "      <th>DATECODE</th>\n",
       "      <th>LOOSELOTCONTANAME</th>\n",
       "      <th>COMBINETIMESTAMP</th>\n",
       "      <th>SCRAPLOTTIMESTAMP</th>\n",
       "      <th>LOOSELOTTIMESTAMP</th>\n",
       "      <th>OWNERNAME</th>\n",
       "      <th>QTY</th>\n",
       "      <th>FUTUREHOLDCOUNT</th>\n",
       "      <th>IFXISBEQUALITYRISK</th>\n",
       "      <th>IFXISFEQUALITYRISK</th>\n",
       "      <th>...</th>\n",
       "      <th>IFXISNOTTOMERGE</th>\n",
       "      <th>TIMEHELD</th>\n",
       "      <th>CURRENTHOLDCOUNT</th>\n",
       "      <th>IFXPACKAGEFAMILY</th>\n",
       "      <th>STATUS</th>\n",
       "      <th>COMBINECONTANAME</th>\n",
       "      <th>SCRAPCONTANAME</th>\n",
       "      <th>SUCCESSFULLYCOMBINED</th>\n",
       "      <th>COMBINELOGIC</th>\n",
       "      <th>REMAININGHRS</th>\n",
       "    </tr>\n",
       "  </thead>\n",
       "  <tbody>\n",
       "    <tr>\n",
       "      <th>0</th>\n",
       "      <td>2042</td>\n",
       "      <td>VE023719A09</td>\n",
       "      <td>NaT</td>\n",
       "      <td>NaT</td>\n",
       "      <td>2021-01-26 16:31:34</td>\n",
       "      <td>PROD</td>\n",
       "      <td>740</td>\n",
       "      <td>0</td>\n",
       "      <td>0</td>\n",
       "      <td>0</td>\n",
       "      <td>...</td>\n",
       "      <td>0</td>\n",
       "      <td>99999999.00</td>\n",
       "      <td>0</td>\n",
       "      <td>DSO150/SSOP</td>\n",
       "      <td>2</td>\n",
       "      <td>None</td>\n",
       "      <td>None</td>\n",
       "      <td>8888888</td>\n",
       "      <td>None</td>\n",
       "      <td>0.000000</td>\n",
       "    </tr>\n",
       "    <tr>\n",
       "      <th>1</th>\n",
       "      <td>2103</td>\n",
       "      <td>84PVNU65A04</td>\n",
       "      <td>2021-02-20 08:16:52</td>\n",
       "      <td>NaT</td>\n",
       "      <td>2021-01-27 22:33:26</td>\n",
       "      <td>PROD</td>\n",
       "      <td>249</td>\n",
       "      <td>0</td>\n",
       "      <td>0</td>\n",
       "      <td>0</td>\n",
       "      <td>...</td>\n",
       "      <td>0</td>\n",
       "      <td>23.41</td>\n",
       "      <td>0</td>\n",
       "      <td>LQFP</td>\n",
       "      <td>2</td>\n",
       "      <td>84PVNU65A04</td>\n",
       "      <td>None</td>\n",
       "      <td>1</td>\n",
       "      <td>COMBINEHISTORYLOGIC</td>\n",
       "      <td>-4934.658627</td>\n",
       "    </tr>\n",
       "  </tbody>\n",
       "</table>\n",
       "<p>2 rows × 27 columns</p>\n",
       "</div>"
      ],
      "text/plain": [
       "  DATECODE LOOSELOTCONTANAME    COMBINETIMESTAMP SCRAPLOTTIMESTAMP  \\\n",
       "0     2042       VE023719A09                 NaT               NaT   \n",
       "1     2103       84PVNU65A04 2021-02-20 08:16:52               NaT   \n",
       "\n",
       "    LOOSELOTTIMESTAMP OWNERNAME  QTY FUTUREHOLDCOUNT IFXISBEQUALITYRISK  \\\n",
       "0 2021-01-26 16:31:34      PROD  740               0                  0   \n",
       "1 2021-01-27 22:33:26      PROD  249               0                  0   \n",
       "\n",
       "  IFXISFEQUALITYRISK  ... IFXISNOTTOMERGE     TIMEHELD CURRENTHOLDCOUNT  \\\n",
       "0                  0  ...               0  99999999.00                0   \n",
       "1                  0  ...               0        23.41                0   \n",
       "\n",
       "  IFXPACKAGEFAMILY STATUS COMBINECONTANAME SCRAPCONTANAME  \\\n",
       "0      DSO150/SSOP      2             None           None   \n",
       "1             LQFP      2      84PVNU65A04           None   \n",
       "\n",
       "  SUCCESSFULLYCOMBINED         COMBINELOGIC REMAININGHRS  \n",
       "0              8888888                 None     0.000000  \n",
       "1                    1  COMBINEHISTORYLOGIC -4934.658627  \n",
       "\n",
       "[2 rows x 27 columns]"
      ]
     },
     "execution_count": 4,
     "metadata": {},
     "output_type": "execute_result"
    }
   ],
   "source": [
    "df.columns= df.columns.str.upper()\n",
    "df.head(2)"
   ]
  },
  {
   "cell_type": "code",
   "execution_count": null,
   "id": "d3c7b2b3",
   "metadata": {},
   "outputs": [],
   "source": []
  },
  {
   "cell_type": "code",
   "execution_count": 5,
   "id": "4dec0aef",
   "metadata": {},
   "outputs": [
    {
     "data": {
      "text/plain": [
       "(139878, 27)"
      ]
     },
     "execution_count": 5,
     "metadata": {},
     "output_type": "execute_result"
    }
   ],
   "source": [
    "df.shape"
   ]
  },
  {
   "cell_type": "code",
   "execution_count": 6,
   "id": "e33ea34b",
   "metadata": {},
   "outputs": [],
   "source": [
    "### Drop rows where SUCCESSFULLYCOMBINED column == '88888888'\n",
    "index_names_success = df[df['SUCCESSFULLYCOMBINED'] == 8888888].index\n",
    "df.drop(index = index_names_success, inplace = True)\n",
    "###  Drop duplicates\n",
    "df.sort_values('COMBINETIMESTAMP', inplace = True)\n",
    "df.drop_duplicates('LOOSELOTCONTANAME', keep = 'last', inplace = True)"
   ]
  },
  {
   "cell_type": "markdown",
   "id": "aa50ab04",
   "metadata": {},
   "source": [
    "#### After performing the sorting above the index gets jumbled, so we will reset the index"
   ]
  },
  {
   "cell_type": "code",
   "execution_count": 8,
   "id": "c6f12eec",
   "metadata": {},
   "outputs": [
    {
     "data": {
      "text/html": [
       "<div>\n",
       "<style scoped>\n",
       "    .dataframe tbody tr th:only-of-type {\n",
       "        vertical-align: middle;\n",
       "    }\n",
       "\n",
       "    .dataframe tbody tr th {\n",
       "        vertical-align: top;\n",
       "    }\n",
       "\n",
       "    .dataframe thead th {\n",
       "        text-align: right;\n",
       "    }\n",
       "</style>\n",
       "<table border=\"1\" class=\"dataframe\">\n",
       "  <thead>\n",
       "    <tr style=\"text-align: right;\">\n",
       "      <th></th>\n",
       "      <th>DATECODE</th>\n",
       "      <th>LOOSELOTCONTANAME</th>\n",
       "      <th>COMBINETIMESTAMP</th>\n",
       "      <th>SCRAPLOTTIMESTAMP</th>\n",
       "      <th>LOOSELOTTIMESTAMP</th>\n",
       "      <th>OWNERNAME</th>\n",
       "      <th>QTY</th>\n",
       "      <th>FUTUREHOLDCOUNT</th>\n",
       "      <th>IFXISBEQUALITYRISK</th>\n",
       "      <th>IFXISFEQUALITYRISK</th>\n",
       "      <th>...</th>\n",
       "      <th>IFXISNOTTOMERGE</th>\n",
       "      <th>TIMEHELD</th>\n",
       "      <th>CURRENTHOLDCOUNT</th>\n",
       "      <th>IFXPACKAGEFAMILY</th>\n",
       "      <th>STATUS</th>\n",
       "      <th>COMBINECONTANAME</th>\n",
       "      <th>SCRAPCONTANAME</th>\n",
       "      <th>SUCCESSFULLYCOMBINED</th>\n",
       "      <th>COMBINELOGIC</th>\n",
       "      <th>REMAININGHRS</th>\n",
       "    </tr>\n",
       "  </thead>\n",
       "  <tbody>\n",
       "    <tr>\n",
       "      <th>0</th>\n",
       "      <td>2035</td>\n",
       "      <td>VF027905A22</td>\n",
       "      <td>2020-09-14 00:03:23</td>\n",
       "      <td>NaT</td>\n",
       "      <td>2020-09-14 00:00:14</td>\n",
       "      <td>PROD</td>\n",
       "      <td>608</td>\n",
       "      <td>0</td>\n",
       "      <td>0</td>\n",
       "      <td>0</td>\n",
       "      <td>...</td>\n",
       "      <td>0</td>\n",
       "      <td>0.0</td>\n",
       "      <td>0</td>\n",
       "      <td>IQFN</td>\n",
       "      <td>2</td>\n",
       "      <td>VF027905A22</td>\n",
       "      <td>None</td>\n",
       "      <td>1</td>\n",
       "      <td>COMBINEHISTORYLOGIC</td>\n",
       "      <td>-8758.466944</td>\n",
       "    </tr>\n",
       "    <tr>\n",
       "      <th>1</th>\n",
       "      <td>2034</td>\n",
       "      <td>RU017378A06</td>\n",
       "      <td>2020-09-14 00:08:06</td>\n",
       "      <td>NaT</td>\n",
       "      <td>2020-09-14 00:04:03</td>\n",
       "      <td>PROD</td>\n",
       "      <td>799</td>\n",
       "      <td>0</td>\n",
       "      <td>0</td>\n",
       "      <td>0</td>\n",
       "      <td>...</td>\n",
       "      <td>0</td>\n",
       "      <td>0.0</td>\n",
       "      <td>0</td>\n",
       "      <td>LQFP</td>\n",
       "      <td>2</td>\n",
       "      <td>RU017378A06</td>\n",
       "      <td>None</td>\n",
       "      <td>1</td>\n",
       "      <td>COMBINEHISTORYLOGIC</td>\n",
       "      <td>-8754.836876</td>\n",
       "    </tr>\n",
       "    <tr>\n",
       "      <th>2</th>\n",
       "      <td>2036</td>\n",
       "      <td>84PV1U98A39</td>\n",
       "      <td>2020-09-14 00:08:37</td>\n",
       "      <td>NaT</td>\n",
       "      <td>2020-09-14 00:04:57</td>\n",
       "      <td>PROD</td>\n",
       "      <td>1200</td>\n",
       "      <td>0</td>\n",
       "      <td>0</td>\n",
       "      <td>0</td>\n",
       "      <td>...</td>\n",
       "      <td>0</td>\n",
       "      <td>0.0</td>\n",
       "      <td>0</td>\n",
       "      <td>TSSOP</td>\n",
       "      <td>2</td>\n",
       "      <td>84PV1U98A39</td>\n",
       "      <td>None</td>\n",
       "      <td>1</td>\n",
       "      <td>COMBINEHISTORYLOGIC</td>\n",
       "      <td>-8757.955000</td>\n",
       "    </tr>\n",
       "    <tr>\n",
       "      <th>3</th>\n",
       "      <td>2036</td>\n",
       "      <td>ZA936044A15</td>\n",
       "      <td>2020-09-14 00:09:43</td>\n",
       "      <td>NaT</td>\n",
       "      <td>2020-09-14 00:03:49</td>\n",
       "      <td>PROD</td>\n",
       "      <td>2160</td>\n",
       "      <td>0</td>\n",
       "      <td>0</td>\n",
       "      <td>0</td>\n",
       "      <td>...</td>\n",
       "      <td>0</td>\n",
       "      <td>0.0</td>\n",
       "      <td>0</td>\n",
       "      <td>DSO150/SSOP</td>\n",
       "      <td>2</td>\n",
       "      <td>ZA936044A15</td>\n",
       "      <td>None</td>\n",
       "      <td>1</td>\n",
       "      <td>COMBINEHISTORYLOGIC</td>\n",
       "      <td>0.000000</td>\n",
       "    </tr>\n",
       "    <tr>\n",
       "      <th>4</th>\n",
       "      <td>2035</td>\n",
       "      <td>RU021402A02</td>\n",
       "      <td>2020-09-14 00:14:48</td>\n",
       "      <td>NaT</td>\n",
       "      <td>2020-09-14 00:11:10</td>\n",
       "      <td>PROD</td>\n",
       "      <td>279</td>\n",
       "      <td>0</td>\n",
       "      <td>0</td>\n",
       "      <td>0</td>\n",
       "      <td>...</td>\n",
       "      <td>0</td>\n",
       "      <td>0.0</td>\n",
       "      <td>0</td>\n",
       "      <td>MQFP</td>\n",
       "      <td>2</td>\n",
       "      <td>RU021402A02</td>\n",
       "      <td>None</td>\n",
       "      <td>1</td>\n",
       "      <td>COMBINEHISTORYLOGIC</td>\n",
       "      <td>-8754.742737</td>\n",
       "    </tr>\n",
       "  </tbody>\n",
       "</table>\n",
       "<p>5 rows × 27 columns</p>\n",
       "</div>"
      ],
      "text/plain": [
       "  DATECODE LOOSELOTCONTANAME    COMBINETIMESTAMP SCRAPLOTTIMESTAMP  \\\n",
       "0     2035       VF027905A22 2020-09-14 00:03:23               NaT   \n",
       "1     2034       RU017378A06 2020-09-14 00:08:06               NaT   \n",
       "2     2036       84PV1U98A39 2020-09-14 00:08:37               NaT   \n",
       "3     2036       ZA936044A15 2020-09-14 00:09:43               NaT   \n",
       "4     2035       RU021402A02 2020-09-14 00:14:48               NaT   \n",
       "\n",
       "    LOOSELOTTIMESTAMP OWNERNAME   QTY FUTUREHOLDCOUNT IFXISBEQUALITYRISK  \\\n",
       "0 2020-09-14 00:00:14      PROD   608               0                  0   \n",
       "1 2020-09-14 00:04:03      PROD   799               0                  0   \n",
       "2 2020-09-14 00:04:57      PROD  1200               0                  0   \n",
       "3 2020-09-14 00:03:49      PROD  2160               0                  0   \n",
       "4 2020-09-14 00:11:10      PROD   279               0                  0   \n",
       "\n",
       "  IFXISFEQUALITYRISK  ... IFXISNOTTOMERGE TIMEHELD CURRENTHOLDCOUNT  \\\n",
       "0                  0  ...               0      0.0                0   \n",
       "1                  0  ...               0      0.0                0   \n",
       "2                  0  ...               0      0.0                0   \n",
       "3                  0  ...               0      0.0                0   \n",
       "4                  0  ...               0      0.0                0   \n",
       "\n",
       "  IFXPACKAGEFAMILY STATUS COMBINECONTANAME SCRAPCONTANAME  \\\n",
       "0             IQFN      2      VF027905A22           None   \n",
       "1             LQFP      2      RU017378A06           None   \n",
       "2            TSSOP      2      84PV1U98A39           None   \n",
       "3      DSO150/SSOP      2      ZA936044A15           None   \n",
       "4             MQFP      2      RU021402A02           None   \n",
       "\n",
       "  SUCCESSFULLYCOMBINED         COMBINELOGIC REMAININGHRS  \n",
       "0                    1  COMBINEHISTORYLOGIC -8758.466944  \n",
       "1                    1  COMBINEHISTORYLOGIC -8754.836876  \n",
       "2                    1  COMBINEHISTORYLOGIC -8757.955000  \n",
       "3                    1  COMBINEHISTORYLOGIC     0.000000  \n",
       "4                    1  COMBINEHISTORYLOGIC -8754.742737  \n",
       "\n",
       "[5 rows x 27 columns]"
      ]
     },
     "execution_count": 8,
     "metadata": {},
     "output_type": "execute_result"
    }
   ],
   "source": [
    "df = df.reset_index(drop=True)\n",
    "df.head()\n",
    "#drop = True = dropping the column consisting old index, not dropping data"
   ]
  },
  {
   "cell_type": "markdown",
   "id": "beb63985",
   "metadata": {},
   "source": [
    "#### Removing heading & trailing spaces in datecode"
   ]
  },
  {
   "cell_type": "code",
   "execution_count": 9,
   "id": "f5dcb410",
   "metadata": {},
   "outputs": [],
   "source": [
    "import warnings\n",
    "warnings.filterwarnings(\"ignore\")"
   ]
  },
  {
   "cell_type": "code",
   "execution_count": 10,
   "id": "9b67483e",
   "metadata": {},
   "outputs": [],
   "source": [
    "df['DATECODE'] = df['DATECODE'].str.strip() #removing spaces in datecode"
   ]
  },
  {
   "cell_type": "code",
   "execution_count": 11,
   "id": "82841b3a",
   "metadata": {},
   "outputs": [],
   "source": [
    "df['DATECODE'] = df['DATECODE'].str.replace('^\\W', '') \n",
    "#\\w = word characters (A-Z,a-z,0-9) in regex \n",
    "#\\W = negated version of w -> all characters BUT word characters\n",
    "#so here removing datecode like /2019 for example"
   ]
  },
  {
   "cell_type": "code",
   "execution_count": 12,
   "id": "77b08b37",
   "metadata": {},
   "outputs": [],
   "source": [
    "index_empty_datecode = df.loc[df['DATECODE']==''].index\n",
    "df = df.drop(index = index_empty_datecode)"
   ]
  },
  {
   "cell_type": "markdown",
   "id": "b9eb1211",
   "metadata": {},
   "source": [
    "#### Matching the Datecode (many scnearios) - try using regex"
   ]
  },
  {
   "cell_type": "code",
   "execution_count": 13,
   "id": "e45aa626",
   "metadata": {},
   "outputs": [],
   "source": [
    "df_date_correct_noslash = df.loc[df.DATECODE.str.contains(r'(^\\d{4}$)',regex=True)==True]\n",
    "#2034 \n",
    "#G139 -> CHECK THIS NON STANDARD DATECODE (RECENTLY/ OLD DATA? THERE MUST BE EVENT THAT CAUSE THE DATECODE LIKE THIS)\n",
    "#-> IF THIS HAPPEN OFTEN, WILL NEED TO CHECK ANOTHER PATTERN TO CHECK THE DATECODE \n",
    "#TO DECIDE WHETHER TO INCLUDE / EXCLUDE THIS TYPE OF DATECODE\n",
    "#IF THERE IS PATTERN (ONLY CERTAIN PERIOD OF TIME ) -> CAN EXCLUDE IT, COS IT IS SPECIAL CASE\n",
    "#IF RANDOM, NEED TO FIND INFO FROM EXPERTS"
   ]
  },
  {
   "cell_type": "code",
   "execution_count": null,
   "id": "763f7434",
   "metadata": {},
   "outputs": [],
   "source": [
    "# 2030\n",
    "#\\2030\n",
    "#G300\n",
    "#A240\n",
    "#HOW MANY RECORDS? \n",
    "#IF THERE ARE ANY OTHER PATTERNS OBSERVED, IF YES "
   ]
  },
  {
   "cell_type": "code",
   "execution_count": 14,
   "id": "d4eb75df",
   "metadata": {},
   "outputs": [],
   "source": [
    "df_date_correct_withslash = df.loc[df.DATECODE.str.contains(r'(^\\d{4}/\\d{4})',regex=True)==True]\n",
    "#only taking the first datecode from 2015/2015 in dataframe with slash datecode\n",
    "df_date_correct_withslash['DATECODE'] = [i[0:4] for i in df_date_correct_withslash['DATECODE']]"
   ]
  },
  {
   "cell_type": "code",
   "execution_count": 15,
   "id": "8f4a8c0b",
   "metadata": {},
   "outputs": [],
   "source": [
    "#appending both dataframe together \n",
    "d = pd.concat([df_date_correct_withslash,df_date_correct_noslash])\n",
    "#reset the index \n",
    "new_df = d.reset_index(drop=True)"
   ]
  },
  {
   "cell_type": "code",
   "execution_count": 16,
   "id": "f7674db5",
   "metadata": {},
   "outputs": [
    {
     "data": {
      "text/html": [
       "<div>\n",
       "<style scoped>\n",
       "    .dataframe tbody tr th:only-of-type {\n",
       "        vertical-align: middle;\n",
       "    }\n",
       "\n",
       "    .dataframe tbody tr th {\n",
       "        vertical-align: top;\n",
       "    }\n",
       "\n",
       "    .dataframe thead th {\n",
       "        text-align: right;\n",
       "    }\n",
       "</style>\n",
       "<table border=\"1\" class=\"dataframe\">\n",
       "  <thead>\n",
       "    <tr style=\"text-align: right;\">\n",
       "      <th></th>\n",
       "      <th>DATECODE</th>\n",
       "      <th>LOOSELOTCONTANAME</th>\n",
       "      <th>COMBINETIMESTAMP</th>\n",
       "      <th>SCRAPLOTTIMESTAMP</th>\n",
       "      <th>LOOSELOTTIMESTAMP</th>\n",
       "      <th>OWNERNAME</th>\n",
       "      <th>QTY</th>\n",
       "      <th>FUTUREHOLDCOUNT</th>\n",
       "      <th>IFXISBEQUALITYRISK</th>\n",
       "      <th>IFXISFEQUALITYRISK</th>\n",
       "      <th>...</th>\n",
       "      <th>IFXISNOTTOMERGE</th>\n",
       "      <th>TIMEHELD</th>\n",
       "      <th>CURRENTHOLDCOUNT</th>\n",
       "      <th>IFXPACKAGEFAMILY</th>\n",
       "      <th>STATUS</th>\n",
       "      <th>COMBINECONTANAME</th>\n",
       "      <th>SCRAPCONTANAME</th>\n",
       "      <th>SUCCESSFULLYCOMBINED</th>\n",
       "      <th>COMBINELOGIC</th>\n",
       "      <th>REMAININGHRS</th>\n",
       "    </tr>\n",
       "  </thead>\n",
       "  <tbody>\n",
       "    <tr>\n",
       "      <th>129557</th>\n",
       "      <td>2133</td>\n",
       "      <td>XI145020A01</td>\n",
       "      <td>2021-08-28 10:10:33</td>\n",
       "      <td>NaT</td>\n",
       "      <td>2021-08-28 10:05:45</td>\n",
       "      <td>PROD</td>\n",
       "      <td>297</td>\n",
       "      <td>0</td>\n",
       "      <td>0</td>\n",
       "      <td>0</td>\n",
       "      <td>...</td>\n",
       "      <td>0</td>\n",
       "      <td>0.0</td>\n",
       "      <td>0</td>\n",
       "      <td>DSO300/430</td>\n",
       "      <td>2</td>\n",
       "      <td>XI145020A01</td>\n",
       "      <td>None</td>\n",
       "      <td>1</td>\n",
       "      <td>COMBINEHISTORYLOGIC</td>\n",
       "      <td>-396.571667</td>\n",
       "    </tr>\n",
       "    <tr>\n",
       "      <th>93324</th>\n",
       "      <td>2114</td>\n",
       "      <td>84PVCC70A13</td>\n",
       "      <td>2021-05-18 09:24:22</td>\n",
       "      <td>NaT</td>\n",
       "      <td>2021-05-18 09:17:24</td>\n",
       "      <td>PROD</td>\n",
       "      <td>487</td>\n",
       "      <td>0</td>\n",
       "      <td>0</td>\n",
       "      <td>0</td>\n",
       "      <td>...</td>\n",
       "      <td>0</td>\n",
       "      <td>0.0</td>\n",
       "      <td>0</td>\n",
       "      <td>BGA</td>\n",
       "      <td>2</td>\n",
       "      <td>84PVCC70A13</td>\n",
       "      <td>None</td>\n",
       "      <td>1</td>\n",
       "      <td>COMBINEHISTORYLOGIC</td>\n",
       "      <td>-2843.932075</td>\n",
       "    </tr>\n",
       "  </tbody>\n",
       "</table>\n",
       "<p>2 rows × 27 columns</p>\n",
       "</div>"
      ],
      "text/plain": [
       "       DATECODE LOOSELOTCONTANAME    COMBINETIMESTAMP SCRAPLOTTIMESTAMP  \\\n",
       "129557     2133       XI145020A01 2021-08-28 10:10:33               NaT   \n",
       "93324      2114       84PVCC70A13 2021-05-18 09:24:22               NaT   \n",
       "\n",
       "         LOOSELOTTIMESTAMP OWNERNAME  QTY FUTUREHOLDCOUNT IFXISBEQUALITYRISK  \\\n",
       "129557 2021-08-28 10:05:45      PROD  297               0                  0   \n",
       "93324  2021-05-18 09:17:24      PROD  487               0                  0   \n",
       "\n",
       "       IFXISFEQUALITYRISK  ... IFXISNOTTOMERGE TIMEHELD CURRENTHOLDCOUNT  \\\n",
       "129557                  0  ...               0      0.0                0   \n",
       "93324                   0  ...               0      0.0                0   \n",
       "\n",
       "       IFXPACKAGEFAMILY STATUS COMBINECONTANAME SCRAPCONTANAME  \\\n",
       "129557       DSO300/430      2      XI145020A01           None   \n",
       "93324               BGA      2      84PVCC70A13           None   \n",
       "\n",
       "       SUCCESSFULLYCOMBINED         COMBINELOGIC REMAININGHRS  \n",
       "129557                    1  COMBINEHISTORYLOGIC  -396.571667  \n",
       "93324                     1  COMBINEHISTORYLOGIC -2843.932075  \n",
       "\n",
       "[2 rows x 27 columns]"
      ]
     },
     "execution_count": 16,
     "metadata": {},
     "output_type": "execute_result"
    }
   ],
   "source": [
    "new_df.sample(2)"
   ]
  },
  {
   "cell_type": "code",
   "execution_count": null,
   "id": "b11bc24d",
   "metadata": {},
   "outputs": [],
   "source": [
    "# df_date_correct_withslash"
   ]
  },
  {
   "cell_type": "code",
   "execution_count": null,
   "id": "53d8a275",
   "metadata": {},
   "outputs": [],
   "source": [
    "# index_false_noslash = df.loc[df.DATECODE.str.contains(r'(^\\d{4}$)',regex=True)==False].index\n",
    "# #index of df where datecode is \n",
    "# index_false_slash = df.loc[df.DATECODE.str.contains(r'(^\\d{4}/\\d{4})',regex=True)==False].index"
   ]
  },
  {
   "cell_type": "code",
   "execution_count": null,
   "id": "608a8d9e",
   "metadata": {},
   "outputs": [],
   "source": [
    "# index_false_slash"
   ]
  },
  {
   "cell_type": "code",
   "execution_count": null,
   "id": "927182d8",
   "metadata": {},
   "outputs": [],
   "source": [
    "# index_true_slash = df.loc[df.DATECODE.str.contains(r'(^\\d{4}$)',regex=True)==True].index\n",
    "# #index of df where datecode is \n",
    "# index_true_slash = df.loc[df.DATECODE.str.contains(r'(^\\d{4}/\\d{4})',regex=True)==True].index"
   ]
  },
  {
   "cell_type": "code",
   "execution_count": null,
   "id": "de4a33ad",
   "metadata": {},
   "outputs": [],
   "source": [
    "# index_true_slash"
   ]
  },
  {
   "cell_type": "code",
   "execution_count": null,
   "id": "1318ee79",
   "metadata": {},
   "outputs": [],
   "source": [
    "# df.loc[[i for i in index_false_noslash if i in index_false_slash]].DATECODE\n",
    "# #checking the content of index which appears both in index_false_noslash & index_false_slash"
   ]
  },
  {
   "cell_type": "code",
   "execution_count": null,
   "id": "01f02f44",
   "metadata": {},
   "outputs": [],
   "source": [
    "# df.loc[[i for i in index_true_slash if i in index_true_slash]].DATECODE"
   ]
  },
  {
   "cell_type": "code",
   "execution_count": null,
   "id": "088031b8",
   "metadata": {},
   "outputs": [],
   "source": [
    "# #dropping index which appears in both index_false_slash & index_false_noslash so it will not be doubled\n",
    "# index_false = list(index_false_slash)\n",
    "# index_false.extend(i for i in list(index_false_noslash) if i not in index_false_slash)"
   ]
  },
  {
   "cell_type": "code",
   "execution_count": null,
   "id": "3e724a76",
   "metadata": {},
   "outputs": [],
   "source": [
    "# df2 = df.drop(index = index_false_slash)\n",
    "# df3 = df2.drop(index = index_false_noslash)"
   ]
  },
  {
   "cell_type": "markdown",
   "id": "7b23d2b8",
   "metadata": {},
   "source": [
    "### Next Step"
   ]
  },
  {
   "cell_type": "code",
   "execution_count": 17,
   "id": "2f8d9b6d",
   "metadata": {},
   "outputs": [],
   "source": [
    "### Drop rows where TIMEHELD < 0\n",
    "index_timeheld = new_df[new_df['TIMEHELD'] < 0].index\n",
    "new_df.drop(index = index_timeheld, inplace = True) \n",
    "\n",
    "### Drop rows where HOLDREASONNAME = Pending for e-Scrap\n",
    "index_holdreasonnames = new_df[(new_df['HOLDREASONNAME'] == 'D_Pending eScrap Approval') | (new_df['HOLDREASONNAME'] == 'P_Pending eScrap Approval') \n",
    "                         | (new_df['HOLDREASONNAME'] == 'L_Pending eScrap Approval') | (new_df['HOLDREASONNAME'] == 'P_Pending eScrap Request') \n",
    "                         |(new_df['HOLDREASONNAME'] == 'Pending scrap execution') | (new_df['HOLDREASONNAME'] == 'Pending eScrap Approval')].index\n",
    "\n",
    "new_df.drop(index_holdreasonnames, inplace = True) \n",
    "### Remove NA values in 'DATECODE', and IFXISINCOMINGRISK' columns\n",
    "new_df.dropna(subset=['DATECODE', 'IFXISINCOMINGRISK'], inplace = True)\n",
    "\n",
    "###  Drop rows that are not in the right 'DATECODE' format\n",
    "index_datecode = new_df[(new_df['DATECODE'] == 'NORMAL') | (new_df['DATECODE'] == '1') | (new_df['DATECODE'] == 'MohdShif')].index\n",
    "new_df.drop(index_datecode, inplace = True) "
   ]
  },
  {
   "cell_type": "code",
   "execution_count": 18,
   "id": "0e1cbaa5",
   "metadata": {},
   "outputs": [],
   "source": [
    "calendar_df = pd.read_sql(\"select IFX_CW AS CW, IFX_YEAR AS YEAR, calendar.intstart, calendar.intend from calendar\",engine)\n",
    "calendar_df.columns= calendar_df.columns.str.upper()"
   ]
  },
  {
   "cell_type": "code",
   "execution_count": 19,
   "id": "7688fa55",
   "metadata": {},
   "outputs": [
    {
     "data": {
      "text/html": [
       "<div>\n",
       "<style scoped>\n",
       "    .dataframe tbody tr th:only-of-type {\n",
       "        vertical-align: middle;\n",
       "    }\n",
       "\n",
       "    .dataframe tbody tr th {\n",
       "        vertical-align: top;\n",
       "    }\n",
       "\n",
       "    .dataframe thead th {\n",
       "        text-align: right;\n",
       "    }\n",
       "</style>\n",
       "<table border=\"1\" class=\"dataframe\">\n",
       "  <thead>\n",
       "    <tr style=\"text-align: right;\">\n",
       "      <th></th>\n",
       "      <th>CW</th>\n",
       "      <th>YEAR</th>\n",
       "      <th>INTSTART</th>\n",
       "      <th>INTEND</th>\n",
       "    </tr>\n",
       "  </thead>\n",
       "  <tbody>\n",
       "    <tr>\n",
       "      <th>101</th>\n",
       "      <td>37</td>\n",
       "      <td>2022</td>\n",
       "      <td>2022-09-10 07:00:00</td>\n",
       "      <td>2022-09-17 07:00:00</td>\n",
       "    </tr>\n",
       "    <tr>\n",
       "      <th>254</th>\n",
       "      <td>33</td>\n",
       "      <td>2016</td>\n",
       "      <td>2016-08-13 07:00:00</td>\n",
       "      <td>2016-08-20 07:00:00</td>\n",
       "    </tr>\n",
       "  </tbody>\n",
       "</table>\n",
       "</div>"
      ],
      "text/plain": [
       "     CW  YEAR            INTSTART              INTEND\n",
       "101  37  2022 2022-09-10 07:00:00 2022-09-17 07:00:00\n",
       "254  33  2016 2016-08-13 07:00:00 2016-08-20 07:00:00"
      ]
     },
     "execution_count": 19,
     "metadata": {},
     "output_type": "execute_result"
    }
   ],
   "source": [
    "calendar_df.sample(2)"
   ]
  },
  {
   "cell_type": "code",
   "execution_count": 20,
   "id": "23fed159",
   "metadata": {},
   "outputs": [],
   "source": [
    "##### Convert LOOSELOTTIMESTAMP, COMBINETIMESTAMP, SCRAPLOTTIMESTAMP from STRING to DATETIME type\n",
    "new_df['LOOSELOTTIMESTAMP'] = pd.to_datetime(new_df['LOOSELOTTIMESTAMP'], dayfirst=True)\n",
    "new_df['COMBINETIMESTAMP'] = pd.to_datetime(new_df['COMBINETIMESTAMP'], dayfirst=True)\n",
    "new_df['SCRAPLOTTIMESTAMP'] = pd.to_datetime(new_df['SCRAPLOTTIMESTAMP'], dayfirst=True)\n",
    "new_df['FUTUREHOLDCOUNT'] = pd.to_numeric(new_df['FUTUREHOLDCOUNT'])\n",
    "new_df['IFXISBEQUALITYRISK'] = pd.to_numeric(new_df['IFXISBEQUALITYRISK'])\n",
    "new_df['IFXISQMR'] = pd.to_numeric(new_df['IFXISQMR'])"
   ]
  },
  {
   "cell_type": "code",
   "execution_count": 21,
   "id": "e60da0cf",
   "metadata": {},
   "outputs": [],
   "source": [
    "##### Extract the CW and YEAR from 'COMBINETIMESTAMP' column. This is important to compute the 'WEEK_APART' column\n",
    "new_df['COMBINETIMESTAMP_TO_CW'] = new_df['COMBINETIMESTAMP']\n",
    "c1 = calendar_df.INTSTART.values\n",
    "c2 = calendar_df.INTEND.values\n",
    "c = new_df.COMBINETIMESTAMP_TO_CW.values[:,None]"
   ]
  },
  {
   "cell_type": "code",
   "execution_count": 22,
   "id": "6137cfa1",
   "metadata": {},
   "outputs": [],
   "source": [
    "new_df['CW_COMBINE'] = np.dot((c >= c1) & (c <= c2), calendar_df.CW) # Getting the calendar week of combine date \n",
    "new_df['YEAR_COMBINE'] = np.dot((c >= c1) & (c <= c2), calendar_df.YEAR) # Getting the year of combine date"
   ]
  },
  {
   "cell_type": "code",
   "execution_count": 23,
   "id": "9e0f847e",
   "metadata": {},
   "outputs": [],
   "source": [
    "##### Extract the CW and YEAR from 'SCRAPLOTTIMESTAMP' column. This is important to compute the 'WEEK_APART' column\n",
    "new_df['SCRAPTIMESTAMP_FOR_CW'] = new_df['SCRAPLOTTIMESTAMP']\n",
    "s1 = calendar_df.INTSTART.values\n",
    "s2 = calendar_df.INTEND.values\n",
    "s = new_df.SCRAPTIMESTAMP_FOR_CW.values[:,None]\n",
    "\n",
    "new_df['CW_SCRAP'] = np.dot((s >= s1) & (s <= s2) , calendar_df.CW) # Getting the calendar week of SCRAP date \n",
    "new_df['YEAR_SCRAP'] = np.dot((s >= s1) & (s <= s2), calendar_df.YEAR) # Getting the year of SCRAP date"
   ]
  },
  {
   "cell_type": "code",
   "execution_count": 24,
   "id": "acdefad6",
   "metadata": {},
   "outputs": [
    {
     "data": {
      "text/html": [
       "<div>\n",
       "<style scoped>\n",
       "    .dataframe tbody tr th:only-of-type {\n",
       "        vertical-align: middle;\n",
       "    }\n",
       "\n",
       "    .dataframe tbody tr th {\n",
       "        vertical-align: top;\n",
       "    }\n",
       "\n",
       "    .dataframe thead th {\n",
       "        text-align: right;\n",
       "    }\n",
       "</style>\n",
       "<table border=\"1\" class=\"dataframe\">\n",
       "  <thead>\n",
       "    <tr style=\"text-align: right;\">\n",
       "      <th></th>\n",
       "      <th>DATECODE</th>\n",
       "      <th>LOOSELOTCONTANAME</th>\n",
       "      <th>COMBINETIMESTAMP</th>\n",
       "      <th>SCRAPLOTTIMESTAMP</th>\n",
       "      <th>LOOSELOTTIMESTAMP</th>\n",
       "      <th>OWNERNAME</th>\n",
       "      <th>QTY</th>\n",
       "      <th>FUTUREHOLDCOUNT</th>\n",
       "      <th>IFXISBEQUALITYRISK</th>\n",
       "      <th>IFXISFEQUALITYRISK</th>\n",
       "      <th>...</th>\n",
       "      <th>SCRAPCONTANAME</th>\n",
       "      <th>SUCCESSFULLYCOMBINED</th>\n",
       "      <th>COMBINELOGIC</th>\n",
       "      <th>REMAININGHRS</th>\n",
       "      <th>COMBINETIMESTAMP_TO_CW</th>\n",
       "      <th>CW_COMBINE</th>\n",
       "      <th>YEAR_COMBINE</th>\n",
       "      <th>SCRAPTIMESTAMP_FOR_CW</th>\n",
       "      <th>CW_SCRAP</th>\n",
       "      <th>YEAR_SCRAP</th>\n",
       "    </tr>\n",
       "  </thead>\n",
       "  <tbody>\n",
       "    <tr>\n",
       "      <th>116450</th>\n",
       "      <td>2128</td>\n",
       "      <td>XI140023A01</td>\n",
       "      <td>2021-07-20 08:42:53</td>\n",
       "      <td>NaT</td>\n",
       "      <td>2021-07-20 08:37:54</td>\n",
       "      <td>PROD</td>\n",
       "      <td>541</td>\n",
       "      <td>0</td>\n",
       "      <td>0</td>\n",
       "      <td>0</td>\n",
       "      <td>...</td>\n",
       "      <td>None</td>\n",
       "      <td>1</td>\n",
       "      <td>COMBINEHISTORYLOGIC</td>\n",
       "      <td>-1341.176744</td>\n",
       "      <td>2021-07-20 08:42:53</td>\n",
       "      <td>29</td>\n",
       "      <td>2021</td>\n",
       "      <td>NaT</td>\n",
       "      <td></td>\n",
       "      <td></td>\n",
       "    </tr>\n",
       "    <tr>\n",
       "      <th>101752</th>\n",
       "      <td>2120</td>\n",
       "      <td>RU101211A10</td>\n",
       "      <td>2021-06-09 13:48:40</td>\n",
       "      <td>NaT</td>\n",
       "      <td>2021-06-09 13:25:52</td>\n",
       "      <td>PROD</td>\n",
       "      <td>1412</td>\n",
       "      <td>0</td>\n",
       "      <td>0</td>\n",
       "      <td>0</td>\n",
       "      <td>...</td>\n",
       "      <td>None</td>\n",
       "      <td>1</td>\n",
       "      <td>COMBINEHISTORYLOGIC</td>\n",
       "      <td>-2311.732500</td>\n",
       "      <td>2021-06-09 13:48:40</td>\n",
       "      <td>23</td>\n",
       "      <td>2021</td>\n",
       "      <td>NaT</td>\n",
       "      <td></td>\n",
       "      <td></td>\n",
       "    </tr>\n",
       "  </tbody>\n",
       "</table>\n",
       "<p>2 rows × 33 columns</p>\n",
       "</div>"
      ],
      "text/plain": [
       "       DATECODE LOOSELOTCONTANAME    COMBINETIMESTAMP SCRAPLOTTIMESTAMP  \\\n",
       "116450     2128       XI140023A01 2021-07-20 08:42:53               NaT   \n",
       "101752     2120       RU101211A10 2021-06-09 13:48:40               NaT   \n",
       "\n",
       "         LOOSELOTTIMESTAMP OWNERNAME   QTY  FUTUREHOLDCOUNT  \\\n",
       "116450 2021-07-20 08:37:54      PROD   541                0   \n",
       "101752 2021-06-09 13:25:52      PROD  1412                0   \n",
       "\n",
       "        IFXISBEQUALITYRISK IFXISFEQUALITYRISK  ... SCRAPCONTANAME  \\\n",
       "116450                   0                  0  ...           None   \n",
       "101752                   0                  0  ...           None   \n",
       "\n",
       "        SUCCESSFULLYCOMBINED         COMBINELOGIC REMAININGHRS  \\\n",
       "116450                     1  COMBINEHISTORYLOGIC -1341.176744   \n",
       "101752                     1  COMBINEHISTORYLOGIC -2311.732500   \n",
       "\n",
       "       COMBINETIMESTAMP_TO_CW CW_COMBINE YEAR_COMBINE SCRAPTIMESTAMP_FOR_CW  \\\n",
       "116450    2021-07-20 08:42:53         29         2021                   NaT   \n",
       "101752    2021-06-09 13:48:40         23         2021                   NaT   \n",
       "\n",
       "        CW_SCRAP YEAR_SCRAP  \n",
       "116450                       \n",
       "101752                       \n",
       "\n",
       "[2 rows x 33 columns]"
      ]
     },
     "execution_count": 24,
     "metadata": {},
     "output_type": "execute_result"
    }
   ],
   "source": [
    "new_df.sample(2)"
   ]
  },
  {
   "cell_type": "markdown",
   "id": "fea907a7",
   "metadata": {},
   "source": [
    "? Question: do we need to remove ownername != PROD? Cos we already clean the Datecode. Previous reason on why we want to use ownername = PROD was due to the datecode format"
   ]
  },
  {
   "cell_type": "code",
   "execution_count": 25,
   "id": "bd174f65",
   "metadata": {},
   "outputs": [],
   "source": [
    "#Removing dataset with non-PROD ownername \n",
    "#df = df.loc[df.OWNERNAME == 'PROD']"
   ]
  },
  {
   "cell_type": "code",
   "execution_count": 26,
   "id": "0db5845c",
   "metadata": {},
   "outputs": [
    {
     "data": {
      "text/plain": [
       "DATECODE                                 2134\n",
       "LOOSELOTCONTANAME                 ZA125026A03\n",
       "COMBINETIMESTAMP          2021-09-14 03:50:24\n",
       "SCRAPLOTTIMESTAMP                         NaT\n",
       "LOOSELOTTIMESTAMP         2021-09-14 02:59:48\n",
       "OWNERNAME                                PROD\n",
       "QTY                                       329\n",
       "FUTUREHOLDCOUNT                             0\n",
       "IFXISBEQUALITYRISK                          0\n",
       "IFXISFEQUALITYRISK                          0\n",
       "IFXISINCOMINGRISK                           0\n",
       "IFXISQMR                                    0\n",
       "IFXISMRB                                    0\n",
       "IFXLOTCODE                                22S\n",
       "IFXCOMBINEDWAFERLOTS                 ZA125026\n",
       "IFXPARENTLOTDATECODE                     2134\n",
       "HOLDREASONNAME                           None\n",
       "IFXISNOTTOMERGE                             0\n",
       "TIMEHELD                                 0.04\n",
       "CURRENTHOLDCOUNT                            0\n",
       "IFXPACKAGEFAMILY                         LQFP\n",
       "STATUS                                      2\n",
       "COMBINECONTANAME                  ZA125026A03\n",
       "SCRAPCONTANAME                           None\n",
       "SUCCESSFULLYCOMBINED                        1\n",
       "COMBINELOGIC              COMBINEHISTORYLOGIC\n",
       "REMAININGHRS                         6.029444\n",
       "COMBINETIMESTAMP_TO_CW    2021-09-14 03:50:24\n",
       "CW_COMBINE                                 37\n",
       "YEAR_COMBINE                             2021\n",
       "SCRAPTIMESTAMP_FOR_CW                     NaT\n",
       "CW_SCRAP                                     \n",
       "YEAR_SCRAP                                   \n",
       "Name: 135184, dtype: object"
      ]
     },
     "execution_count": 26,
     "metadata": {},
     "output_type": "execute_result"
    }
   ],
   "source": [
    "new_df.iloc[135173]"
   ]
  },
  {
   "cell_type": "code",
   "execution_count": 27,
   "id": "26f9f5eb",
   "metadata": {},
   "outputs": [],
   "source": [
    "##### Extracting YEAR and CW from DATECODE column\n",
    "new_df['DATECODE'] = new_df['DATECODE'].astype(str).str[0:4] # Take the first datecode\n",
    "new_df['YEAR_DATECODE'] = '20' + new_df['DATECODE'].astype(str).str[0:2]\n",
    "new_df['CW_DATECODE'] = new_df['DATECODE'].astype(str).str[2:4]\n",
    "\n",
    "##### Calculate WEEK_APART for COMBINE transactions\n",
    "new_df['WEEK_APART_C'] = 52 * (pd.to_numeric(new_df['YEAR_COMBINE']) - pd.to_numeric(new_df['YEAR_DATECODE'])) - pd.to_numeric(new_df['CW_DATECODE']) + pd.to_numeric(new_df['CW_COMBINE']) + 1\n",
    "new_df['WEEK_APART_C'] = new_df['WEEK_APART_C'] * (new_df['SUCCESSFULLYCOMBINED'] == 1)\n",
    "new_df['WEEK_APART_C'] = new_df['WEEK_APART_C'].fillna(0)\n",
    "\n",
    "##### Calculate WEEK_APART for SCRAP transactions\n",
    "new_df['WEEK_APART_S'] = 52 * (pd.to_numeric(new_df['YEAR_SCRAP']) - pd.to_numeric(new_df['YEAR_DATECODE'])) - pd.to_numeric(new_df['CW_DATECODE']) + pd.to_numeric(new_df['CW_SCRAP']) + 1\n",
    "new_df['WEEK_APART_S'] = new_df['WEEK_APART_S'] * (new_df['SUCCESSFULLYCOMBINED'] == 0)\n",
    "new_df['WEEK_APART_S'] = new_df['WEEK_APART_S'].fillna(0)\n",
    "\n",
    "##### Merging WEEK_APART for COMBINE and SCRAP transactions\n",
    "new_df['WEEK_APART'] = new_df['WEEK_APART_S'] + new_df['WEEK_APART_C']\n",
    "\n",
    "### Drop rows where WEEK_APART < 0 \n",
    "index_week_apart = new_df[(new_df['WEEK_APART'] < 0)].index\n",
    "new_df.drop(index = index_week_apart, inplace = True) "
   ]
  },
  {
   "cell_type": "code",
   "execution_count": 28,
   "id": "35471354",
   "metadata": {},
   "outputs": [],
   "source": [
    "### Compute 'WEEKS APART_PARENT' column from 'DATECODE' , 'IFXPARENTLOTDATECODE\n",
    "##### Extracting YEAR and CW from IFXPARENTLOTDATECODE column\n",
    "#remove parent datecode\n",
    "#new_df['IFXPARENTLOTDATECODE'] = new_df.IFXPARENTLOTDATECODE.replace(' ', '') # Remove spaces in between characters\n",
    "#new_df['IFXPARENTLOTDATECODE'] = new_df['IFXPARENTLOTDATECODE'].astype(str).str[0:4] # Take the first IFXPARENTLOTDATECODE\n",
    "\n",
    "#new_df['YEAR_PARENTDATECODE'] = '20' + new_df['IFXPARENTLOTDATECODE'].astype(str).str[0:2]\n",
    "#new_df['CW_PARENTDATECODE'] = new_df['IFXPARENTLOTDATECODE'].astype(str).str[2:4]\n",
    "\n",
    "##### Create temporary Lists for WEEK_APART_PARENT computation\n",
    "#WEEK_APART_PARENT_S = [22222] * len(new_df)\n",
    "#WEEK_APART_PARENT_C = [22222] * len(new_df)\n",
    "\n",
    "SUCCESSFULLYCOMBINED = list(new_df['SUCCESSFULLYCOMBINED'])\n",
    "#YEAR_PARENTDATECODE = list(new_df['YEAR_PARENTDATECODE'])\n",
    "#CW_PARENTDATECODE = list(new_df['CW_PARENTDATECODE'])\n",
    "YEAR_COMBINE = list(new_df['YEAR_COMBINE'])\n",
    "CW_COMBINE = list(new_df['CW_COMBINE'])\n",
    "YEAR_SCRAP = list(new_df['YEAR_SCRAP'])\n",
    "CW_SCRAP = list(new_df['CW_SCRAP'])"
   ]
  },
  {
   "cell_type": "code",
   "execution_count": 29,
   "id": "1dadb4dc",
   "metadata": {},
   "outputs": [],
   "source": [
    "#for i in range(len(new_df)):\n",
    "#    if YEAR_PARENTDATECODE[i] != '20No':\n",
    "#        if SUCCESSFULLYCOMBINED[i] == 1: # For combine transactions\n",
    "#            WEEK_APART_PARENT_C[i] = 52 * (int(YEAR_COMBINE[i]) - int(YEAR_PARENTDATECODE[i])) - int(CW_PARENTDATECODE[i]) + int(CW_COMBINE[i]) + 1\n",
    "#            WEEK_APART_PARENT_S[i] = 0\n",
    "#        elif SUCCESSFULLYCOMBINED[i] == 0: # For scrap transactions\n",
    "#            WEEK_APART_PARENT_S[i] = 52 * (int(YEAR_SCRAP[i]) - int(YEAR_PARENTDATECODE[i])) - int(CW_PARENTDATECODE[i]) + int(CW_SCRAP[i]) + 1\n",
    "#            WEEK_APART_PARENT_C[i] = 0\n",
    "            \n",
    "#new_df['WEEK_APART_PARENT_C'] = WEEK_APART_PARENT_C \n",
    "#new_df['WEEK_APART_PARENT_S'] = WEEK_APART_PARENT_S \n",
    "#new_df['WEEK_APART_PARENT'] = new_df['WEEK_APART_PARENT_S'] + new_df['WEEK_APART_PARENT_C']\n",
    "\n",
    "### Transforming IFXcombinedwaferlots\n",
    "new_df['IFXCOMBINEDWAFERLOTS_NEW'] = new_df['IFXCOMBINEDWAFERLOTS'].astype(str)\n",
    "slash = '/'\n",
    "new_df['IFXCOMBINEDWAFERLOTS_NEW'] = new_df['IFXCOMBINEDWAFERLOTS_NEW'].apply(lambda x : (x.count(slash) + 1) if x != 'nan' else 0 )"
   ]
  },
  {
   "cell_type": "markdown",
   "id": "3288847e",
   "metadata": {},
   "source": [
    "#### Removing data with y = 888888 \n",
    "(important, cos otherwise the clasification will be 3 classes: 0,1, or 88888)"
   ]
  },
  {
   "cell_type": "code",
   "execution_count": 30,
   "id": "da21e092",
   "metadata": {},
   "outputs": [
    {
     "data": {
      "text/plain": [
       "Index(['DATECODE', 'LOOSELOTCONTANAME', 'COMBINETIMESTAMP',\n",
       "       'SCRAPLOTTIMESTAMP', 'LOOSELOTTIMESTAMP', 'OWNERNAME', 'QTY',\n",
       "       'FUTUREHOLDCOUNT', 'IFXISBEQUALITYRISK', 'IFXISFEQUALITYRISK',\n",
       "       'IFXISINCOMINGRISK', 'IFXISQMR', 'IFXISMRB', 'IFXLOTCODE',\n",
       "       'IFXCOMBINEDWAFERLOTS', 'IFXPARENTLOTDATECODE', 'HOLDREASONNAME',\n",
       "       'IFXISNOTTOMERGE', 'TIMEHELD', 'CURRENTHOLDCOUNT', 'IFXPACKAGEFAMILY',\n",
       "       'STATUS', 'COMBINECONTANAME', 'SCRAPCONTANAME', 'SUCCESSFULLYCOMBINED',\n",
       "       'COMBINELOGIC', 'REMAININGHRS', 'COMBINETIMESTAMP_TO_CW', 'CW_COMBINE',\n",
       "       'YEAR_COMBINE', 'SCRAPTIMESTAMP_FOR_CW', 'CW_SCRAP', 'YEAR_SCRAP',\n",
       "       'YEAR_DATECODE', 'CW_DATECODE', 'WEEK_APART_C', 'WEEK_APART_S',\n",
       "       'WEEK_APART', 'IFXCOMBINEDWAFERLOTS_NEW'],\n",
       "      dtype='object')"
      ]
     },
     "execution_count": 30,
     "metadata": {},
     "output_type": "execute_result"
    }
   ],
   "source": [
    "new_df.columns"
   ]
  },
  {
   "cell_type": "code",
   "execution_count": 31,
   "id": "2f10fd24",
   "metadata": {},
   "outputs": [],
   "source": [
    "index_8s = new_df.loc[new_df['SUCCESSFULLYCOMBINED'] == '8888888'].index\n",
    "new_df=new_df.drop(index =index_8s )"
   ]
  },
  {
   "cell_type": "markdown",
   "id": "924b30bd",
   "metadata": {},
   "source": [
    "#### Modelling"
   ]
  },
  {
   "cell_type": "code",
   "execution_count": 32,
   "id": "45d65d39",
   "metadata": {},
   "outputs": [],
   "source": [
    "# Modelling\n",
    "### Defining variables\n",
    "X = new_df[['QTY', 'FUTUREHOLDCOUNT', 'TIMEHELD', 'REMAININGHRS', 'WEEK_APART',  \n",
    "        'IFXISBEQUALITYRISK', 'IFXISQMR','IFXCOMBINEDWAFERLOTS_NEW' ]]\n",
    "Y = new_df['SUCCESSFULLYCOMBINED']\n",
    "\n",
    "### Split Data & SMOTE sampling\n",
    "X_train, X_test, Y_train, Y_test = train_test_split(X, Y, test_size = 0.2, stratify = Y, random_state = 10) \n",
    "oversample = SMOTE()\n",
    "X_train_smote, Y_train_smote = oversample.fit_resample(X_train, Y_train)#ONLY PERFORM SMOTE ON TRAINING DATASET. NOT TEST DATASET."
   ]
  },
  {
   "cell_type": "code",
   "execution_count": 33,
   "id": "3b79c8c2",
   "metadata": {},
   "outputs": [
    {
     "data": {
      "text/plain": [
       "1    108237\n",
       "0    108237\n",
       "Name: SUCCESSFULLYCOMBINED, dtype: int64"
      ]
     },
     "execution_count": 33,
     "metadata": {},
     "output_type": "execute_result"
    }
   ],
   "source": [
    "Y_train_smote.value_counts()"
   ]
  },
  {
   "cell_type": "code",
   "execution_count": 34,
   "id": "0154225e",
   "metadata": {},
   "outputs": [
    {
     "data": {
      "text/plain": [
       "1    135296\n",
       "0      2693\n",
       "Name: SUCCESSFULLYCOMBINED, dtype: int64"
      ]
     },
     "execution_count": 34,
     "metadata": {},
     "output_type": "execute_result"
    }
   ],
   "source": [
    "Y.value_counts()"
   ]
  },
  {
   "cell_type": "code",
   "execution_count": 35,
   "id": "c34bc757",
   "metadata": {},
   "outputs": [
    {
     "data": {
      "text/plain": [
       "array(['1', '1', '1', ..., '0', '0', '0'], dtype=object)"
      ]
     },
     "execution_count": 35,
     "metadata": {},
     "output_type": "execute_result"
    }
   ],
   "source": [
    "np.array(Y)"
   ]
  },
  {
   "cell_type": "code",
   "execution_count": 36,
   "id": "2b9e2c3a",
   "metadata": {},
   "outputs": [
    {
     "data": {
      "text/html": [
       "<div>\n",
       "<style scoped>\n",
       "    .dataframe tbody tr th:only-of-type {\n",
       "        vertical-align: middle;\n",
       "    }\n",
       "\n",
       "    .dataframe tbody tr th {\n",
       "        vertical-align: top;\n",
       "    }\n",
       "\n",
       "    .dataframe thead th {\n",
       "        text-align: right;\n",
       "    }\n",
       "</style>\n",
       "<table border=\"1\" class=\"dataframe\">\n",
       "  <thead>\n",
       "    <tr style=\"text-align: right;\">\n",
       "      <th></th>\n",
       "      <th>QTY</th>\n",
       "      <th>FUTUREHOLDCOUNT</th>\n",
       "      <th>TIMEHELD</th>\n",
       "      <th>REMAININGHRS</th>\n",
       "      <th>WEEK_APART</th>\n",
       "      <th>IFXISBEQUALITYRISK</th>\n",
       "      <th>IFXISQMR</th>\n",
       "      <th>IFXCOMBINEDWAFERLOTS_NEW</th>\n",
       "    </tr>\n",
       "  </thead>\n",
       "  <tbody>\n",
       "    <tr>\n",
       "      <th>115477</th>\n",
       "      <td>3414</td>\n",
       "      <td>0</td>\n",
       "      <td>11.659505</td>\n",
       "      <td>13.944402</td>\n",
       "      <td>0.0</td>\n",
       "      <td>0</td>\n",
       "      <td>0</td>\n",
       "      <td>1</td>\n",
       "    </tr>\n",
       "    <tr>\n",
       "      <th>53340</th>\n",
       "      <td>1338</td>\n",
       "      <td>0</td>\n",
       "      <td>0.460000</td>\n",
       "      <td>-7856.092187</td>\n",
       "      <td>0.0</td>\n",
       "      <td>0</td>\n",
       "      <td>0</td>\n",
       "      <td>1</td>\n",
       "    </tr>\n",
       "    <tr>\n",
       "      <th>56340</th>\n",
       "      <td>1200</td>\n",
       "      <td>0</td>\n",
       "      <td>0.000000</td>\n",
       "      <td>-6881.144855</td>\n",
       "      <td>0.0</td>\n",
       "      <td>0</td>\n",
       "      <td>0</td>\n",
       "      <td>1</td>\n",
       "    </tr>\n",
       "  </tbody>\n",
       "</table>\n",
       "</div>"
      ],
      "text/plain": [
       "         QTY  FUTUREHOLDCOUNT   TIMEHELD  REMAININGHRS  WEEK_APART  \\\n",
       "115477  3414                0  11.659505     13.944402         0.0   \n",
       "53340   1338                0   0.460000  -7856.092187         0.0   \n",
       "56340   1200                0   0.000000  -6881.144855         0.0   \n",
       "\n",
       "        IFXISBEQUALITYRISK  IFXISQMR  IFXCOMBINEDWAFERLOTS_NEW  \n",
       "115477                   0         0                         1  \n",
       "53340                    0         0                         1  \n",
       "56340                    0         0                         1  "
      ]
     },
     "execution_count": 36,
     "metadata": {},
     "output_type": "execute_result"
    }
   ],
   "source": [
    "X_train_smote.sample(3)"
   ]
  },
  {
   "cell_type": "code",
   "execution_count": 37,
   "id": "47b0b6a1",
   "metadata": {},
   "outputs": [
    {
     "data": {
      "text/plain": [
       "QTY                         0\n",
       "FUTUREHOLDCOUNT             0\n",
       "TIMEHELD                    0\n",
       "REMAININGHRS                0\n",
       "WEEK_APART                  0\n",
       "IFXISBEQUALITYRISK          0\n",
       "IFXISQMR                    0\n",
       "IFXCOMBINEDWAFERLOTS_NEW    0\n",
       "dtype: int64"
      ]
     },
     "execution_count": 37,
     "metadata": {},
     "output_type": "execute_result"
    }
   ],
   "source": [
    "X_train_smote.isna().sum()"
   ]
  },
  {
   "cell_type": "code",
   "execution_count": 38,
   "id": "d7f77f71",
   "metadata": {},
   "outputs": [
    {
     "data": {
      "text/plain": [
       "0"
      ]
     },
     "execution_count": 38,
     "metadata": {},
     "output_type": "execute_result"
    }
   ],
   "source": [
    "Y_train_smote.isna().sum()"
   ]
  },
  {
   "cell_type": "code",
   "execution_count": 39,
   "id": "c7e0742a",
   "metadata": {},
   "outputs": [],
   "source": [
    "### Defining the functions to be used for modelling\n",
    " \n",
    "##### Function for threshold\n",
    "def to_labels(y_scores, threshold):\n",
    "    return (y_scores >= threshold).astype('int')\n",
    "\n",
    "##### Features importances\n",
    "def feature_importances(model, X_train):\n",
    "    \n",
    "    # Calculate feature importances\n",
    "    importance = model.feature_importances_\n",
    "    \n",
    "    # Sort feature importances in descending order\n",
    "    indices = np.argsort(importance)[::-1]\n",
    "\n",
    "    # Rearrange feature names so they match the sorted feature importances\n",
    "    names = [X_train.columns[i] for i in indices]\n",
    "\n",
    "    # Create plot\n",
    "    plt.figure()\n",
    "\n",
    "    # Create plot title\n",
    "    plt.title(\"Feature Importance\")\n",
    "\n",
    "    # Add bars\n",
    "    plt.bar(range(X_train.shape[1]), importance[indices])\n",
    "\n",
    "    # Add feature names as x-axis labels\n",
    "    plt.xticks(range(X_train.shape[1]), names, rotation = 90)\n",
    "    \n",
    "    # Show plot\n",
    "    plt.show()\n",
    "    \n",
    "    # summarize feature importance\n",
    "    for i in indices:\n",
    "        print('Feature: %s, Score: %.5f' % (X_train.columns[i], importance[i]))"
   ]
  },
  {
   "cell_type": "code",
   "execution_count": 40,
   "id": "8e06fece",
   "metadata": {},
   "outputs": [
    {
     "name": "stdout",
     "output_type": "stream",
     "text": [
      "[0]\tvalidation_0-aucpr:0.99939\tvalidation_0-error:0.00462\tvalidation_1-aucpr:0.99996\tvalidation_1-error:0.00525\n",
      "[1]\tvalidation_0-aucpr:0.99947\tvalidation_0-error:0.00462\tvalidation_1-aucpr:0.99996\tvalidation_1-error:0.00522\n",
      "[2]\tvalidation_0-aucpr:0.99948\tvalidation_0-error:0.00469\tvalidation_1-aucpr:0.99997\tvalidation_1-error:0.00533\n",
      "[3]\tvalidation_0-aucpr:0.99950\tvalidation_0-error:0.00467\tvalidation_1-aucpr:0.99997\tvalidation_1-error:0.00533\n",
      "[4]\tvalidation_0-aucpr:0.99952\tvalidation_0-error:0.00460\tvalidation_1-aucpr:0.99997\tvalidation_1-error:0.00511\n",
      "[5]\tvalidation_0-aucpr:0.99953\tvalidation_0-error:0.00453\tvalidation_1-aucpr:0.99997\tvalidation_1-error:0.00482\n",
      "[6]\tvalidation_0-aucpr:0.99959\tvalidation_0-error:0.00430\tvalidation_1-aucpr:0.99997\tvalidation_1-error:0.00464\n",
      "[7]\tvalidation_0-aucpr:0.99959\tvalidation_0-error:0.00442\tvalidation_1-aucpr:0.99997\tvalidation_1-error:0.00471\n",
      "[8]\tvalidation_0-aucpr:0.99964\tvalidation_0-error:0.00411\tvalidation_1-aucpr:0.99997\tvalidation_1-error:0.00471\n",
      "[9]\tvalidation_0-aucpr:0.99965\tvalidation_0-error:0.00396\tvalidation_1-aucpr:0.99997\tvalidation_1-error:0.00460\n",
      "[10]\tvalidation_0-aucpr:0.99966\tvalidation_0-error:0.00381\tvalidation_1-aucpr:0.99997\tvalidation_1-error:0.00467\n",
      "[11]\tvalidation_0-aucpr:0.99967\tvalidation_0-error:0.00370\tvalidation_1-aucpr:0.99997\tvalidation_1-error:0.00449\n",
      "[12]\tvalidation_0-aucpr:0.99968\tvalidation_0-error:0.00373\tvalidation_1-aucpr:0.99997\tvalidation_1-error:0.00457\n",
      "[13]\tvalidation_0-aucpr:0.99968\tvalidation_0-error:0.00367\tvalidation_1-aucpr:0.99997\tvalidation_1-error:0.00446\n",
      "[14]\tvalidation_0-aucpr:0.99970\tvalidation_0-error:0.00366\tvalidation_1-aucpr:0.99997\tvalidation_1-error:0.00449\n",
      "[15]\tvalidation_0-aucpr:0.99971\tvalidation_0-error:0.00365\tvalidation_1-aucpr:0.99997\tvalidation_1-error:0.00446\n",
      "[16]\tvalidation_0-aucpr:0.99972\tvalidation_0-error:0.00364\tvalidation_1-aucpr:0.99998\tvalidation_1-error:0.00446\n",
      "[17]\tvalidation_0-aucpr:0.99973\tvalidation_0-error:0.00363\tvalidation_1-aucpr:0.99998\tvalidation_1-error:0.00446\n",
      "[18]\tvalidation_0-aucpr:0.99974\tvalidation_0-error:0.00363\tvalidation_1-aucpr:0.99998\tvalidation_1-error:0.00442\n",
      "[19]\tvalidation_0-aucpr:0.99974\tvalidation_0-error:0.00363\tvalidation_1-aucpr:0.99998\tvalidation_1-error:0.00446\n",
      "[20]\tvalidation_0-aucpr:0.99975\tvalidation_0-error:0.00360\tvalidation_1-aucpr:0.99998\tvalidation_1-error:0.00438\n",
      "[21]\tvalidation_0-aucpr:0.99975\tvalidation_0-error:0.00359\tvalidation_1-aucpr:0.99998\tvalidation_1-error:0.00442\n",
      "[22]\tvalidation_0-aucpr:0.99976\tvalidation_0-error:0.00358\tvalidation_1-aucpr:0.99998\tvalidation_1-error:0.00442\n",
      "[23]\tvalidation_0-aucpr:0.99977\tvalidation_0-error:0.00358\tvalidation_1-aucpr:0.99998\tvalidation_1-error:0.00442\n",
      "[24]\tvalidation_0-aucpr:0.99977\tvalidation_0-error:0.00356\tvalidation_1-aucpr:0.99998\tvalidation_1-error:0.00442\n",
      "[25]\tvalidation_0-aucpr:0.99977\tvalidation_0-error:0.00356\tvalidation_1-aucpr:0.99998\tvalidation_1-error:0.00442\n",
      "[26]\tvalidation_0-aucpr:0.99977\tvalidation_0-error:0.00356\tvalidation_1-aucpr:0.99998\tvalidation_1-error:0.00442\n",
      "[27]\tvalidation_0-aucpr:0.99977\tvalidation_0-error:0.00355\tvalidation_1-aucpr:0.99998\tvalidation_1-error:0.00438\n",
      "[28]\tvalidation_0-aucpr:0.99978\tvalidation_0-error:0.00343\tvalidation_1-aucpr:0.99998\tvalidation_1-error:0.00446\n",
      "[29]\tvalidation_0-aucpr:0.99978\tvalidation_0-error:0.00345\tvalidation_1-aucpr:0.99998\tvalidation_1-error:0.00446\n",
      "[30]\tvalidation_0-aucpr:0.99979\tvalidation_0-error:0.00344\tvalidation_1-aucpr:0.99998\tvalidation_1-error:0.00446\n",
      "[31]\tvalidation_0-aucpr:0.99979\tvalidation_0-error:0.00341\tvalidation_1-aucpr:0.99998\tvalidation_1-error:0.00446\n",
      "[32]\tvalidation_0-aucpr:0.99979\tvalidation_0-error:0.00341\tvalidation_1-aucpr:0.99999\tvalidation_1-error:0.00446\n",
      "[33]\tvalidation_0-aucpr:0.99980\tvalidation_0-error:0.00340\tvalidation_1-aucpr:0.99999\tvalidation_1-error:0.00449\n",
      "[34]\tvalidation_0-aucpr:0.99981\tvalidation_0-error:0.00338\tvalidation_1-aucpr:0.99999\tvalidation_1-error:0.00449\n",
      "[35]\tvalidation_0-aucpr:0.99981\tvalidation_0-error:0.00338\tvalidation_1-aucpr:0.99999\tvalidation_1-error:0.00446\n",
      "[36]\tvalidation_0-aucpr:0.99981\tvalidation_0-error:0.00337\tvalidation_1-aucpr:0.99999\tvalidation_1-error:0.00449\n",
      "[37]\tvalidation_0-aucpr:0.99982\tvalidation_0-error:0.00337\tvalidation_1-aucpr:0.99998\tvalidation_1-error:0.00449\n",
      "[38]\tvalidation_0-aucpr:0.99982\tvalidation_0-error:0.00332\tvalidation_1-aucpr:0.99998\tvalidation_1-error:0.00446\n",
      "[39]\tvalidation_0-aucpr:0.99982\tvalidation_0-error:0.00332\tvalidation_1-aucpr:0.99998\tvalidation_1-error:0.00446\n",
      "[40]\tvalidation_0-aucpr:0.99982\tvalidation_0-error:0.00332\tvalidation_1-aucpr:0.99998\tvalidation_1-error:0.00446\n",
      "[41]\tvalidation_0-aucpr:0.99983\tvalidation_0-error:0.00333\tvalidation_1-aucpr:0.99998\tvalidation_1-error:0.00446\n",
      "[42]\tvalidation_0-aucpr:0.99983\tvalidation_0-error:0.00329\tvalidation_1-aucpr:0.99998\tvalidation_1-error:0.00442\n",
      "[43]\tvalidation_0-aucpr:0.99983\tvalidation_0-error:0.00327\tvalidation_1-aucpr:0.99998\tvalidation_1-error:0.00446\n",
      "[44]\tvalidation_0-aucpr:0.99984\tvalidation_0-error:0.00327\tvalidation_1-aucpr:0.99998\tvalidation_1-error:0.00446\n",
      "[45]\tvalidation_0-aucpr:0.99984\tvalidation_0-error:0.00318\tvalidation_1-aucpr:0.99998\tvalidation_1-error:0.00438\n",
      "[46]\tvalidation_0-aucpr:0.99984\tvalidation_0-error:0.00318\tvalidation_1-aucpr:0.99998\tvalidation_1-error:0.00442\n",
      "[47]\tvalidation_0-aucpr:0.99984\tvalidation_0-error:0.00318\tvalidation_1-aucpr:0.99998\tvalidation_1-error:0.00442\n",
      "[48]\tvalidation_0-aucpr:0.99985\tvalidation_0-error:0.00318\tvalidation_1-aucpr:0.99998\tvalidation_1-error:0.00442\n",
      "[49]\tvalidation_0-aucpr:0.99985\tvalidation_0-error:0.00316\tvalidation_1-aucpr:0.99998\tvalidation_1-error:0.00435\n",
      "[50]\tvalidation_0-aucpr:0.99985\tvalidation_0-error:0.00313\tvalidation_1-aucpr:0.99998\tvalidation_1-error:0.00435\n",
      "[51]\tvalidation_0-aucpr:0.99986\tvalidation_0-error:0.00313\tvalidation_1-aucpr:0.99998\tvalidation_1-error:0.00435\n",
      "[52]\tvalidation_0-aucpr:0.99986\tvalidation_0-error:0.00312\tvalidation_1-aucpr:0.99998\tvalidation_1-error:0.00435\n",
      "[53]\tvalidation_0-aucpr:0.99986\tvalidation_0-error:0.00312\tvalidation_1-aucpr:0.99998\tvalidation_1-error:0.00435\n",
      "[54]\tvalidation_0-aucpr:0.99986\tvalidation_0-error:0.00313\tvalidation_1-aucpr:0.99998\tvalidation_1-error:0.00435\n",
      "[55]\tvalidation_0-aucpr:0.99986\tvalidation_0-error:0.00313\tvalidation_1-aucpr:0.99998\tvalidation_1-error:0.00438\n",
      "[56]\tvalidation_0-aucpr:0.99986\tvalidation_0-error:0.00306\tvalidation_1-aucpr:0.99998\tvalidation_1-error:0.00438\n",
      "[57]\tvalidation_0-aucpr:0.99987\tvalidation_0-error:0.00298\tvalidation_1-aucpr:0.99999\tvalidation_1-error:0.00435\n",
      "[58]\tvalidation_0-aucpr:0.99987\tvalidation_0-error:0.00298\tvalidation_1-aucpr:0.99999\tvalidation_1-error:0.00435\n",
      "[59]\tvalidation_0-aucpr:0.99987\tvalidation_0-error:0.00296\tvalidation_1-aucpr:0.99999\tvalidation_1-error:0.00435\n",
      "[60]\tvalidation_0-aucpr:0.99988\tvalidation_0-error:0.00291\tvalidation_1-aucpr:0.99999\tvalidation_1-error:0.00438\n",
      "[61]\tvalidation_0-aucpr:0.99988\tvalidation_0-error:0.00288\tvalidation_1-aucpr:0.99999\tvalidation_1-error:0.00438\n",
      "[62]\tvalidation_0-aucpr:0.99989\tvalidation_0-error:0.00285\tvalidation_1-aucpr:0.99999\tvalidation_1-error:0.00438\n",
      "[63]\tvalidation_0-aucpr:0.99989\tvalidation_0-error:0.00283\tvalidation_1-aucpr:0.99998\tvalidation_1-error:0.00435\n",
      "[64]\tvalidation_0-aucpr:0.99989\tvalidation_0-error:0.00281\tvalidation_1-aucpr:0.99999\tvalidation_1-error:0.00435\n",
      "[65]\tvalidation_0-aucpr:0.99989\tvalidation_0-error:0.00278\tvalidation_1-aucpr:0.99999\tvalidation_1-error:0.00431\n",
      "[66]\tvalidation_0-aucpr:0.99989\tvalidation_0-error:0.00275\tvalidation_1-aucpr:0.99999\tvalidation_1-error:0.00438\n",
      "[67]\tvalidation_0-aucpr:0.99989\tvalidation_0-error:0.00274\tvalidation_1-aucpr:0.99999\tvalidation_1-error:0.00435\n",
      "[68]\tvalidation_0-aucpr:0.99989\tvalidation_0-error:0.00273\tvalidation_1-aucpr:0.99999\tvalidation_1-error:0.00431\n",
      "[69]\tvalidation_0-aucpr:0.99989\tvalidation_0-error:0.00273\tvalidation_1-aucpr:0.99999\tvalidation_1-error:0.00428\n",
      "[70]\tvalidation_0-aucpr:0.99989\tvalidation_0-error:0.00269\tvalidation_1-aucpr:0.99999\tvalidation_1-error:0.00435\n",
      "[71]\tvalidation_0-aucpr:0.99990\tvalidation_0-error:0.00262\tvalidation_1-aucpr:0.99999\tvalidation_1-error:0.00424\n",
      "[72]\tvalidation_0-aucpr:0.99990\tvalidation_0-error:0.00261\tvalidation_1-aucpr:0.99999\tvalidation_1-error:0.00424\n"
     ]
    },
    {
     "name": "stdout",
     "output_type": "stream",
     "text": [
      "[73]\tvalidation_0-aucpr:0.99990\tvalidation_0-error:0.00261\tvalidation_1-aucpr:0.99999\tvalidation_1-error:0.00428\n",
      "[74]\tvalidation_0-aucpr:0.99990\tvalidation_0-error:0.00259\tvalidation_1-aucpr:0.99999\tvalidation_1-error:0.00428\n",
      "[75]\tvalidation_0-aucpr:0.99990\tvalidation_0-error:0.00258\tvalidation_1-aucpr:0.99999\tvalidation_1-error:0.00424\n",
      "[76]\tvalidation_0-aucpr:0.99990\tvalidation_0-error:0.00257\tvalidation_1-aucpr:0.99999\tvalidation_1-error:0.00424\n",
      "[77]\tvalidation_0-aucpr:0.99991\tvalidation_0-error:0.00255\tvalidation_1-aucpr:0.99999\tvalidation_1-error:0.00424\n",
      "[78]\tvalidation_0-aucpr:0.99991\tvalidation_0-error:0.00254\tvalidation_1-aucpr:0.99999\tvalidation_1-error:0.00424\n",
      "[79]\tvalidation_0-aucpr:0.99991\tvalidation_0-error:0.00251\tvalidation_1-aucpr:0.99999\tvalidation_1-error:0.00420\n",
      "[80]\tvalidation_0-aucpr:0.99991\tvalidation_0-error:0.00250\tvalidation_1-aucpr:0.99999\tvalidation_1-error:0.00420\n",
      "[81]\tvalidation_0-aucpr:0.99991\tvalidation_0-error:0.00248\tvalidation_1-aucpr:0.99999\tvalidation_1-error:0.00424\n",
      "[82]\tvalidation_0-aucpr:0.99991\tvalidation_0-error:0.00248\tvalidation_1-aucpr:0.99999\tvalidation_1-error:0.00424\n",
      "[83]\tvalidation_0-aucpr:0.99991\tvalidation_0-error:0.00248\tvalidation_1-aucpr:0.99999\tvalidation_1-error:0.00424\n",
      "[84]\tvalidation_0-aucpr:0.99991\tvalidation_0-error:0.00248\tvalidation_1-aucpr:0.99999\tvalidation_1-error:0.00428\n",
      "[85]\tvalidation_0-aucpr:0.99992\tvalidation_0-error:0.00248\tvalidation_1-aucpr:0.99999\tvalidation_1-error:0.00428\n",
      "[86]\tvalidation_0-aucpr:0.99992\tvalidation_0-error:0.00249\tvalidation_1-aucpr:0.99999\tvalidation_1-error:0.00428\n",
      "[87]\tvalidation_0-aucpr:0.99992\tvalidation_0-error:0.00248\tvalidation_1-aucpr:0.99999\tvalidation_1-error:0.00431\n",
      "[88]\tvalidation_0-aucpr:0.99992\tvalidation_0-error:0.00247\tvalidation_1-aucpr:0.99999\tvalidation_1-error:0.00431\n",
      "[89]\tvalidation_0-aucpr:0.99992\tvalidation_0-error:0.00247\tvalidation_1-aucpr:0.99999\tvalidation_1-error:0.00431\n",
      "[90]\tvalidation_0-aucpr:0.99992\tvalidation_0-error:0.00247\tvalidation_1-aucpr:0.99999\tvalidation_1-error:0.00431\n",
      "[91]\tvalidation_0-aucpr:0.99992\tvalidation_0-error:0.00245\tvalidation_1-aucpr:0.99999\tvalidation_1-error:0.00431\n",
      "[92]\tvalidation_0-aucpr:0.99992\tvalidation_0-error:0.00245\tvalidation_1-aucpr:0.99999\tvalidation_1-error:0.00428\n",
      "[93]\tvalidation_0-aucpr:0.99992\tvalidation_0-error:0.00243\tvalidation_1-aucpr:0.99999\tvalidation_1-error:0.00431\n",
      "[94]\tvalidation_0-aucpr:0.99992\tvalidation_0-error:0.00243\tvalidation_1-aucpr:0.99999\tvalidation_1-error:0.00431\n",
      "[95]\tvalidation_0-aucpr:0.99993\tvalidation_0-error:0.00243\tvalidation_1-aucpr:0.99999\tvalidation_1-error:0.00431\n",
      "[96]\tvalidation_0-aucpr:0.99993\tvalidation_0-error:0.00243\tvalidation_1-aucpr:0.99999\tvalidation_1-error:0.00435\n",
      "[97]\tvalidation_0-aucpr:0.99993\tvalidation_0-error:0.00243\tvalidation_1-aucpr:0.99999\tvalidation_1-error:0.00435\n",
      "[98]\tvalidation_0-aucpr:0.99993\tvalidation_0-error:0.00242\tvalidation_1-aucpr:0.99999\tvalidation_1-error:0.00435\n",
      "[99]\tvalidation_0-aucpr:0.99993\tvalidation_0-error:0.00242\tvalidation_1-aucpr:0.99999\tvalidation_1-error:0.00435\n"
     ]
    },
    {
     "data": {
      "text/plain": [
       "XGBClassifier(base_score=0.5, booster='gbtree', colsample_bylevel=1,\n",
       "              colsample_bynode=1, colsample_bytree=1, gamma=0, gpu_id=-1,\n",
       "              importance_type='gain', interaction_constraints='',\n",
       "              learning_rate=0.300000012, max_delta_step=0, max_depth=6,\n",
       "              min_child_weight=1, missing=nan, monotone_constraints='()',\n",
       "              n_estimators=100, n_jobs=4, num_parallel_tree=1, random_state=40,\n",
       "              reg_alpha=0, reg_lambda=1, scale_pos_weight=1, seed=40,\n",
       "              subsample=1, tree_method='exact', validate_parameters=1,\n",
       "              verbosity=None)"
      ]
     },
     "execution_count": 40,
     "metadata": {},
     "output_type": "execute_result"
    }
   ],
   "source": [
    "import xgboost as xgb\n",
    "from xgboost import XGBClassifier\n",
    "xg_smote = xgb.XGBClassifier(objective = 'binary:logistic',\n",
    "                        seed = 40)\n",
    "# model_xgb = XGBClassifier(scale_pos_weight=scale_pos_weight\n",
    "#                          ,n_estimators=1000\n",
    "#                          ,tree_method='exact'\n",
    "#                          ,objective='binary:logistic')\n",
    "eval_set = [(X_train_smote,Y_train_smote),(X_test,Y_test)]\n",
    "\n",
    "xg_smote.fit(X_train_smote,Y_train_smote,\n",
    "             eval_metric=[\"aucpr\",\"error\"],\n",
    "             verbose=True,\n",
    "             eval_set=eval_set)"
   ]
  },
  {
   "cell_type": "code",
   "execution_count": 41,
   "id": "51153319",
   "metadata": {},
   "outputs": [
    {
     "data": {
      "image/png": "[encoded data removed]",
      "text/plain": [
       "<Figure size 360x360 with 1 Axes>"
      ]
     },
     "metadata": {
      "needs_background": "light"
     },
     "output_type": "display_data"
    },
    {
     "data": {
      "image/png": "[encoded data removed]",
      "text/plain": [
       "<Figure size 360x360 with 1 Axes>"
      ]
     },
     "metadata": {
      "needs_background": "light"
     },
     "output_type": "display_data"
    }
   ],
   "source": [
    "from matplotlib import pyplot as plt\n",
    "# retrieve performance metrics\n",
    "results = xg_smote.evals_result()\n",
    "epochs = len(results['validation_0']['error'])\n",
    "x_axis = range(0, epochs)\n",
    "\n",
    "# plot AUCPR\n",
    "fig, ax = plt.subplots(figsize=(5,5))\n",
    "ax.plot(x_axis, results['validation_0']['aucpr'], label='Train')\n",
    "ax.plot(x_axis, results['validation_1']['aucpr'], label='Test')\n",
    "ax.legend()\n",
    "\n",
    "plt.ylabel('AUCPR')\n",
    "plt.title('XGBoost AUCPR')\n",
    "plt.show()\n",
    "\n",
    "\n",
    "# plot classification error\n",
    "fig, ax = plt.subplots(figsize=(5,5))\n",
    "ax.plot(x_axis, results['validation_0']['error'], label='Train')\n",
    "ax.plot(x_axis, results['validation_1']['error'], label='Test')\n",
    "ax.legend()\n",
    "\n",
    "plt.ylabel('Classification Error')\n",
    "plt.title('XGBoost Classification Error')\n",
    "plt.show()"
   ]
  },
  {
   "cell_type": "code",
   "execution_count": 54,
   "id": "3ffb5231",
   "metadata": {},
   "outputs": [],
   "source": [
    "#MAL MODEL:\n",
    "# ### Final Model\n",
    "# xg_smote = xgb.XGBClassifier(objective = 'binary:logistic',\n",
    "#                         seed = 40)\n",
    "\n",
    "# xg_smote.fit(X_train_smote, \n",
    "#        Y_train_smote,\n",
    "#        verbose = True,\n",
    "#        early_stopping_rounds = 10,\n",
    "#        eval_metric = ['auc'],\n",
    "#        eval_set = [(X_test, Y_test)])"
   ]
  },
  {
   "cell_type": "code",
   "execution_count": 55,
   "id": "cfc893e0",
   "metadata": {},
   "outputs": [
    {
     "data": {
      "image/png": "[encoded data removed]",
      "text/plain": [
       "<Figure size 432x288 with 1 Axes>"
      ]
     },
     "metadata": {
      "needs_background": "light"
     },
     "output_type": "display_data"
    },
    {
     "name": "stdout",
     "output_type": "stream",
     "text": [
      "Feature: REMAININGHRS, Score: 0.73064\n",
      "Feature: IFXCOMBINEDWAFERLOTS_NEW, Score: 0.22036\n",
      "Feature: TIMEHELD, Score: 0.03881\n",
      "Feature: QTY, Score: 0.00710\n",
      "Feature: IFXISQMR, Score: 0.00310\n",
      "Feature: IFXISBEQUALITYRISK, Score: 0.00000\n",
      "Feature: WEEK_APART, Score: 0.00000\n",
      "Feature: FUTUREHOLDCOUNT, Score: 0.00000\n"
     ]
    }
   ],
   "source": [
    "#feature_importances(xg_smote, X_train_smote)\n",
    "\n",
    "feature_importances(xg_smote, X_train)"
   ]
  },
  {
   "cell_type": "code",
   "execution_count": null,
   "id": "bfb16e15",
   "metadata": {},
   "outputs": [],
   "source": [
    "Y_test = pd.to_numeric(Y_test, downcast = 'integer')\n",
    "Y_pred_normal_threshold = xg_smote.predict(X_test)\n",
    "Y_pred_normal_threshold = pd.to_numeric(Y_pred_normal_threshold, downcast = 'integer')\n",
    "\n",
    "confusion_matrix(Y_pred_normal_threshold,Y_test)\n",
    "\n",
    "print('precision score: ',precision_score(Y_test,Y_pred_normal_threshold))\n",
    "print('recall score: ',recall_score(Y_test,Y_pred_normal_threshold))"
   ]
  },
  {
   "cell_type": "code",
   "execution_count": 123,
   "id": "dcfd47e0",
   "metadata": {},
   "outputs": [
    {
     "name": "stdout",
     "output_type": "stream",
     "text": [
      "Accuracy: 99.6594 % \n",
      "Classification Report: \n",
      "               precision    recall  f1-score   support\n",
      "\n",
      "    Scrapped       0.89      0.95      0.92       539\n",
      "    Combined       1.00      1.00      1.00     27059\n",
      "\n",
      "    accuracy                           1.00     27598\n",
      "   macro avg       0.94      0.97      0.96     27598\n",
      "weighted avg       1.00      1.00      1.00     27598\n",
      "\n",
      " Confusion Matrix: \n",
      " [[  510    29]\n",
      " [   65 26994]]\n"
     ]
    }
   ],
   "source": [
    "def metrics(model, X_test, Y_test, threshold):\n",
    "    Y_test = pd.to_numeric(Y_test, downcast = 'integer')\n",
    "    Y_scores = model.predict_proba(X_test)[:,1]\n",
    "    Y_pred = to_labels(Y_scores, threshold)\n",
    "\n",
    "\n",
    "    targetnames = ['Scrapped', 'Combined']\n",
    "    \n",
    "   \n",
    "    print(f'Accuracy: {round(accuracy_score(Y_test, Y_pred) * 100, 4)} % ')\n",
    "    print(f'Classification Report: \\n {classification_report(Y_test, Y_pred, target_names = targetnames)}')\n",
    "    print(f' Confusion Matrix: \\n {confusion_matrix(Y_test, Y_pred)}')\n",
    "\n",
    "metrics(xg_smote, X_test, Y_test, 0.1) \n"
   ]
  },
  {
   "cell_type": "code",
   "execution_count": 124,
   "id": "2dca571b",
   "metadata": {},
   "outputs": [
    {
     "name": "stdout",
     "output_type": "stream",
     "text": [
      "Accuracy: 99.6594 % \n",
      " Confusion Matrix: \n",
      " [[  510    29]\n",
      " [   65 26994]]\n"
     ]
    }
   ],
   "source": [
    "model = xg_smote\n",
    "threshold = 0.1\n",
    "Y_test = pd.to_numeric(Y_test, downcast = 'integer')\n",
    "Y_scores = model.predict_proba(X_test)[:,1]\n",
    "Y_pred = to_labels(Y_scores, threshold)\n",
    "\n",
    "\n",
    "targetnames = ['Scrapped', 'Combined']\n",
    "\n",
    "\n",
    "print(f'Accuracy: {round(accuracy_score(Y_test, Y_pred) * 100, 4)} % ')\n",
    "#print(f'Classification Report: \\n {classification_report(Y_test, Y_pred, target_names = targetnames)}')\n",
    "print(f' Confusion Matrix: \\n {confusion_matrix(Y_test, Y_pred)}')"
   ]
  },
  {
   "cell_type": "code",
   "execution_count": 125,
   "id": "665c0268",
   "metadata": {},
   "outputs": [
    {
     "data": {
      "text/plain": [
       "array([1, 1, 1, ..., 1, 1, 1])"
      ]
     },
     "execution_count": 125,
     "metadata": {},
     "output_type": "execute_result"
    }
   ],
   "source": [
    "Y_pred"
   ]
  },
  {
   "cell_type": "code",
   "execution_count": 126,
   "id": "b16a831e",
   "metadata": {},
   "outputs": [
    {
     "data": {
      "text/plain": [
       "Counter({1: 27023, 0: 575})"
      ]
     },
     "execution_count": 126,
     "metadata": {},
     "output_type": "execute_result"
    }
   ],
   "source": [
    "from collections import Counter \n",
    "Counter(Y_pred)"
   ]
  },
  {
   "cell_type": "code",
   "execution_count": 127,
   "id": "aa46a300",
   "metadata": {},
   "outputs": [
    {
     "data": {
      "text/plain": [
       "array(['1', '1', '1', ..., '1', '1', '1'], dtype=object)"
      ]
     },
     "execution_count": 127,
     "metadata": {},
     "output_type": "execute_result"
    }
   ],
   "source": [
    "model.predict(np.array(X_test))"
   ]
  },
  {
   "cell_type": "code",
   "execution_count": 128,
   "id": "650e7bcf",
   "metadata": {},
   "outputs": [
    {
     "data": {
      "text/plain": [
       "52350     1\n",
       "48248     1\n",
       "3363      1\n",
       "87        1\n",
       "28526     1\n",
       "         ..\n",
       "20855     1\n",
       "2020      1\n",
       "103198    1\n",
       "20308     1\n",
       "96627     1\n",
       "Name: SUCCESSFULLYCOMBINED, Length: 27598, dtype: int8"
      ]
     },
     "execution_count": 128,
     "metadata": {},
     "output_type": "execute_result"
    }
   ],
   "source": [
    "Y_test"
   ]
  },
  {
   "cell_type": "code",
   "execution_count": 129,
   "id": "b819b199",
   "metadata": {},
   "outputs": [],
   "source": [
    "result = pd.DataFrame({'prediction':Y_pred,'actual':Y_test})"
   ]
  },
  {
   "cell_type": "code",
   "execution_count": 130,
   "id": "9a8fe325",
   "metadata": {},
   "outputs": [
    {
     "data": {
      "text/html": [
       "<div>\n",
       "<style scoped>\n",
       "    .dataframe tbody tr th:only-of-type {\n",
       "        vertical-align: middle;\n",
       "    }\n",
       "\n",
       "    .dataframe tbody tr th {\n",
       "        vertical-align: top;\n",
       "    }\n",
       "\n",
       "    .dataframe thead th {\n",
       "        text-align: right;\n",
       "    }\n",
       "</style>\n",
       "<table border=\"1\" class=\"dataframe\">\n",
       "  <thead>\n",
       "    <tr style=\"text-align: right;\">\n",
       "      <th></th>\n",
       "      <th>prediction</th>\n",
       "      <th>actual</th>\n",
       "    </tr>\n",
       "  </thead>\n",
       "  <tbody>\n",
       "    <tr>\n",
       "      <th>68183</th>\n",
       "      <td>0</td>\n",
       "      <td>1</td>\n",
       "    </tr>\n",
       "    <tr>\n",
       "      <th>43851</th>\n",
       "      <td>0</td>\n",
       "      <td>1</td>\n",
       "    </tr>\n",
       "    <tr>\n",
       "      <th>13081</th>\n",
       "      <td>0</td>\n",
       "      <td>1</td>\n",
       "    </tr>\n",
       "    <tr>\n",
       "      <th>28562</th>\n",
       "      <td>0</td>\n",
       "      <td>1</td>\n",
       "    </tr>\n",
       "    <tr>\n",
       "      <th>135308</th>\n",
       "      <td>0</td>\n",
       "      <td>1</td>\n",
       "    </tr>\n",
       "    <tr>\n",
       "      <th>...</th>\n",
       "      <td>...</td>\n",
       "      <td>...</td>\n",
       "    </tr>\n",
       "    <tr>\n",
       "      <th>135329</th>\n",
       "      <td>0</td>\n",
       "      <td>1</td>\n",
       "    </tr>\n",
       "    <tr>\n",
       "      <th>135153</th>\n",
       "      <td>0</td>\n",
       "      <td>1</td>\n",
       "    </tr>\n",
       "    <tr>\n",
       "      <th>108411</th>\n",
       "      <td>0</td>\n",
       "      <td>1</td>\n",
       "    </tr>\n",
       "    <tr>\n",
       "      <th>331</th>\n",
       "      <td>0</td>\n",
       "      <td>1</td>\n",
       "    </tr>\n",
       "    <tr>\n",
       "      <th>135209</th>\n",
       "      <td>0</td>\n",
       "      <td>1</td>\n",
       "    </tr>\n",
       "  </tbody>\n",
       "</table>\n",
       "<p>94 rows × 2 columns</p>\n",
       "</div>"
      ],
      "text/plain": [
       "        prediction  actual\n",
       "68183            0       1\n",
       "43851            0       1\n",
       "13081            0       1\n",
       "28562            0       1\n",
       "135308           0       1\n",
       "...            ...     ...\n",
       "135329           0       1\n",
       "135153           0       1\n",
       "108411           0       1\n",
       "331              0       1\n",
       "135209           0       1\n",
       "\n",
       "[94 rows x 2 columns]"
      ]
     },
     "execution_count": 130,
     "metadata": {},
     "output_type": "execute_result"
    }
   ],
   "source": [
    "result.loc[result['prediction']!=result['actual']]"
   ]
  },
  {
   "cell_type": "code",
   "execution_count": null,
   "id": "12c9d8d5",
   "metadata": {},
   "outputs": [],
   "source": [
    "# Saving the model\n",
    "### Save the module to a file in the current working directory \n",
    "# model = 'MALLooseLot.pkl'\n",
    "# joblib.dump(xg_smote, model)"
   ]
  }
 ],
 "metadata": {
  "kernelspec": {
   "display_name": "ENV-MAL-VE",
   "language": "python",
   "name": "env-mal-ve_kernel"
  },
  "language_info": {
   "codemirror_mode": {
    "name": "ipython",
    "version": 3
   },
   "file_extension": ".py",
   "mimetype": "text/x-python",
   "name": "python",
   "nbconvert_exporter": "python",
   "pygments_lexer": "ipython3",
   "version": "3.7.9"
  }
 },
 "nbformat": 4,
 "nbformat_minor": 5
}
